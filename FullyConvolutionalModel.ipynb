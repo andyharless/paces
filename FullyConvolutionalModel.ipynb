{
 "cells": [
  {
   "cell_type": "code",
   "execution_count": 1,
   "metadata": {},
   "outputs": [
    {
     "name": "stderr",
     "output_type": "stream",
     "text": [
      "/home/andy/.local/lib/python3.6/site-packages/h5py/__init__.py:36: FutureWarning: Conversion of the second argument of issubdtype from `float` to `np.floating` is deprecated. In future, it will be treated as `np.float64 == np.dtype(float).type`.\n",
      "  from ._conv import register_converters as _register_converters\n",
      "Using TensorFlow backend.\n"
     ]
    }
   ],
   "source": [
    "from get_training_data import *\n",
    "\n",
    "import tensorflow as tf\n",
    "import keras\n",
    "import pickle\n",
    "import gzip\n",
    "import os\n",
    "import random\n",
    "import matplotlib.pyplot as plt\n",
    "%matplotlib nbagg"
   ]
  },
  {
   "cell_type": "code",
   "execution_count": 2,
   "metadata": {},
   "outputs": [
    {
     "data": {
      "text/plain": [
       "(tuple, 2)"
      ]
     },
     "execution_count": 2,
     "metadata": {},
     "output_type": "execute_result"
    }
   ],
   "source": [
    "with gzip.open('train_cases.pkl.gz','rb') as fp:\n",
    "    train_cases = pickle.load(fp)\n",
    "type(train_cases), len(train_cases)"
   ]
  },
  {
   "cell_type": "code",
   "execution_count": 3,
   "metadata": {},
   "outputs": [
    {
     "data": {
      "text/plain": [
       "(numpy.ndarray,\n",
       " (16384, 16, 16, 128),\n",
       " dtype('float32'),\n",
       " numpy.ndarray,\n",
       " (16384, 1),\n",
       " dtype('float64'))"
      ]
     },
     "execution_count": 3,
     "metadata": {},
     "output_type": "execute_result"
    }
   ],
   "source": [
    "train_X = train_cases[0]\n",
    "train_y = train_cases[1]\n",
    "ntrain = train_X.shape[0]\n",
    "type(train_X), train_X.shape, train_X.dtype, type(train_y), train_y.shape, train_y.dtype"
   ]
  },
  {
   "cell_type": "code",
   "execution_count": 4,
   "metadata": {},
   "outputs": [
    {
     "data": {
      "text/plain": [
       "(numpy.ndarray,\n",
       " (4096, 16, 16, 128),\n",
       " dtype('float32'),\n",
       " numpy.ndarray,\n",
       " (4096, 1),\n",
       " dtype('float64'))"
      ]
     },
     "execution_count": 4,
     "metadata": {},
     "output_type": "execute_result"
    }
   ],
   "source": [
    "with gzip.open('valid_cases.pkl.gz','rb') as fp:\n",
    "    valid_cases = pickle.load(fp)\n",
    "valid_X = valid_cases[0]\n",
    "valid_y = valid_cases[1]\n",
    "nvalid = valid_X.shape[0]\n",
    "type(valid_X), valid_X.shape, valid_X.dtype, type(valid_y), valid_y.shape, valid_y.dtype"
   ]
  },
  {
   "cell_type": "code",
   "execution_count": 5,
   "metadata": {},
   "outputs": [],
   "source": [
    "def choose_training_case():\n",
    "    i = random.randint(0, ntrain-1)\n",
    "    return(train_X[i,:,:,:], train_y[i,:])\n",
    "\n",
    "def choose_validation_case():\n",
    "    i = random.randint(0, nvalid-1)\n",
    "    return(valid_X[i,:,:,:], valid_y[i,:])"
   ]
  },
  {
   "cell_type": "code",
   "execution_count": 6,
   "metadata": {},
   "outputs": [],
   "source": [
    "def make_batch_from_megabatch(batchsize=32, validation=False):\n",
    "    get_case = choose_validation_case if validation else choose_training_case    \n",
    "    xbatch = np.empty([0, INPUTS_PER_BEAT, NBEATS, NCHANNELS],dtype=np.float32)\n",
    "    ybatch = np.empty([0, 1])\n",
    "    for i in range(batchsize):\n",
    "        case = get_case()\n",
    "        x = np.expand_dims(case[0], axis=0)\n",
    "        xbatch = np.concatenate([xbatch, x], axis=0)\n",
    "        y = np.array(int(case[1])).reshape([1,1])\n",
    "        ybatch = np.concatenate([ybatch, y], axis=0)\n",
    "    return(xbatch, ybatch)\n",
    "\n",
    "def train_gen(batchsize=32):\n",
    "    while True:\n",
    "        yield(make_batch_from_megabatch(batchsize, validation=False))\n",
    "\n",
    "def valid_gen(batchsize=32):\n",
    "    while True:\n",
    "        yield(make_batch_from_megabatch(batchsize, validation=True))"
   ]
  },
  {
   "cell_type": "code",
   "execution_count": 7,
   "metadata": {},
   "outputs": [
    {
     "data": {
      "text/plain": [
       "((32, 16, 16, 128), (32, 1))"
      ]
     },
     "execution_count": 7,
     "metadata": {},
     "output_type": "execute_result"
    }
   ],
   "source": [
    "# The generators are way too slow: have to fix this\n",
    "for t in train_gen():\n",
    "    break\n",
    "t[0].shape, t[1].shape"
   ]
  },
  {
   "cell_type": "code",
   "execution_count": 8,
   "metadata": {},
   "outputs": [
    {
     "data": {
      "text/plain": [
       "((32, 16, 16, 128), (32, 1))"
      ]
     },
     "execution_count": 8,
     "metadata": {},
     "output_type": "execute_result"
    }
   ],
   "source": [
    "for v in valid_gen():\n",
    "    break\n",
    "v[0].shape, v[1].shape"
   ]
  },
  {
   "cell_type": "code",
   "execution_count": 9,
   "metadata": {},
   "outputs": [],
   "source": [
    "input_shape = (INPUTS_PER_BEAT, NBEATS, NCHANNELS)\n",
    "\n",
    "model = keras.Sequential()\n",
    "model.add(keras.layers.Conv2D(64, 1, activation='relu', input_shape=input_shape))\n",
    "model.add(keras.layers.BatchNormalization())\n",
    "model.add(keras.layers.Conv2D(32, 3, activation='relu'))\n",
    "model.add(keras.layers.BatchNormalization())\n",
    "model.add(keras.layers.Conv2D(16, 5, activation='relu'))\n",
    "model.add(keras.layers.BatchNormalization())\n",
    "model.add(keras.layers.Conv2D(8, 3, activation='relu'))\n",
    "model.add(keras.layers.BatchNormalization())\n",
    "model.add(keras.layers.Conv2D(4, 1, activation='relu'))\n",
    "model.add(keras.layers.Flatten())\n",
    "model.add(keras.layers.Dropout(.6))\n",
    "model.add(keras.layers.Dense(1, activation='sigmoid'))"
   ]
  },
  {
   "cell_type": "code",
   "execution_count": 10,
   "metadata": {},
   "outputs": [],
   "source": [
    "model.compile(loss='binary_crossentropy', optimizer='adam', metrics=['accuracy'])"
   ]
  },
  {
   "cell_type": "code",
   "execution_count": 11,
   "metadata": {},
   "outputs": [
    {
     "name": "stdout",
     "output_type": "stream",
     "text": [
      "_________________________________________________________________\n",
      "Layer (type)                 Output Shape              Param #   \n",
      "=================================================================\n",
      "conv2d_1 (Conv2D)            (None, 16, 16, 64)        8256      \n",
      "_________________________________________________________________\n",
      "batch_normalization_1 (Batch (None, 16, 16, 64)        256       \n",
      "_________________________________________________________________\n",
      "conv2d_2 (Conv2D)            (None, 14, 14, 32)        18464     \n",
      "_________________________________________________________________\n",
      "batch_normalization_2 (Batch (None, 14, 14, 32)        128       \n",
      "_________________________________________________________________\n",
      "conv2d_3 (Conv2D)            (None, 10, 10, 16)        12816     \n",
      "_________________________________________________________________\n",
      "batch_normalization_3 (Batch (None, 10, 10, 16)        64        \n",
      "_________________________________________________________________\n",
      "conv2d_4 (Conv2D)            (None, 8, 8, 8)           1160      \n",
      "_________________________________________________________________\n",
      "batch_normalization_4 (Batch (None, 8, 8, 8)           32        \n",
      "_________________________________________________________________\n",
      "conv2d_5 (Conv2D)            (None, 8, 8, 4)           36        \n",
      "_________________________________________________________________\n",
      "flatten_1 (Flatten)          (None, 256)               0         \n",
      "_________________________________________________________________\n",
      "dropout_1 (Dropout)          (None, 256)               0         \n",
      "_________________________________________________________________\n",
      "dense_1 (Dense)              (None, 1)                 257       \n",
      "=================================================================\n",
      "Total params: 41,469\n",
      "Trainable params: 41,229\n",
      "Non-trainable params: 240\n",
      "_________________________________________________________________\n"
     ]
    }
   ],
   "source": [
    "model.summary()"
   ]
  },
  {
   "cell_type": "code",
   "execution_count": 12,
   "metadata": {
    "scrolled": true
   },
   "outputs": [
    {
     "name": "stdout",
     "output_type": "stream",
     "text": [
      "Epoch 1/40\n",
      "64/64 [==============================] - 2s 31ms/step - loss: 0.6924 - acc: 0.6650 - val_loss: 0.6096 - val_acc: 0.7217\n",
      "Epoch 2/40\n",
      "64/64 [==============================] - 1s 13ms/step - loss: 0.5976 - acc: 0.7422 - val_loss: 0.5931 - val_acc: 0.7637\n",
      "Epoch 3/40\n",
      "64/64 [==============================] - 1s 13ms/step - loss: 0.5551 - acc: 0.7690 - val_loss: 0.6073 - val_acc: 0.7603\n",
      "Epoch 4/40\n",
      "64/64 [==============================] - 1s 13ms/step - loss: 0.5482 - acc: 0.7646 - val_loss: 0.5791 - val_acc: 0.7427\n",
      "Epoch 5/40\n",
      "64/64 [==============================] - 1s 13ms/step - loss: 0.5536 - acc: 0.7612 - val_loss: 0.5267 - val_acc: 0.7720\n",
      "Epoch 6/40\n",
      "64/64 [==============================] - 1s 13ms/step - loss: 0.5399 - acc: 0.7715 - val_loss: 0.5661 - val_acc: 0.7529\n",
      "Epoch 7/40\n",
      "64/64 [==============================] - 1s 13ms/step - loss: 0.5419 - acc: 0.7637 - val_loss: 0.5265 - val_acc: 0.7749\n",
      "Epoch 8/40\n",
      "64/64 [==============================] - 1s 13ms/step - loss: 0.5283 - acc: 0.7734 - val_loss: 0.5569 - val_acc: 0.7583\n",
      "Epoch 9/40\n",
      "64/64 [==============================] - 1s 13ms/step - loss: 0.5256 - acc: 0.7563 - val_loss: 0.5499 - val_acc: 0.7437\n",
      "Epoch 10/40\n",
      "64/64 [==============================] - 1s 13ms/step - loss: 0.4844 - acc: 0.7715 - val_loss: 0.5319 - val_acc: 0.7632\n",
      "Epoch 11/40\n",
      "64/64 [==============================] - 1s 13ms/step - loss: 0.4701 - acc: 0.7705 - val_loss: 0.4931 - val_acc: 0.7725\n",
      "Epoch 12/40\n",
      "64/64 [==============================] - 1s 13ms/step - loss: 0.4616 - acc: 0.7773 - val_loss: 0.5191 - val_acc: 0.7441\n",
      "Epoch 13/40\n",
      "64/64 [==============================] - 1s 13ms/step - loss: 0.4734 - acc: 0.7642 - val_loss: 0.5227 - val_acc: 0.7700\n",
      "Epoch 14/40\n",
      "64/64 [==============================] - 1s 13ms/step - loss: 0.4494 - acc: 0.7705 - val_loss: 0.5036 - val_acc: 0.7559\n",
      "Epoch 15/40\n",
      "64/64 [==============================] - 1s 13ms/step - loss: 0.4354 - acc: 0.7739 - val_loss: 0.4599 - val_acc: 0.7661\n",
      "Epoch 16/40\n",
      "64/64 [==============================] - 1s 13ms/step - loss: 0.4180 - acc: 0.7847 - val_loss: 0.4641 - val_acc: 0.7734\n",
      "Epoch 17/40\n",
      "64/64 [==============================] - 1s 13ms/step - loss: 0.4084 - acc: 0.7866 - val_loss: 0.5151 - val_acc: 0.7686\n",
      "Epoch 18/40\n",
      "64/64 [==============================] - 1s 13ms/step - loss: 0.4438 - acc: 0.7793 - val_loss: 0.4677 - val_acc: 0.7896\n",
      "Epoch 19/40\n",
      "64/64 [==============================] - 1s 13ms/step - loss: 0.3962 - acc: 0.8057 - val_loss: 0.4732 - val_acc: 0.7695\n",
      "Epoch 20/40\n",
      "64/64 [==============================] - 1s 13ms/step - loss: 0.4065 - acc: 0.7988 - val_loss: 0.4472 - val_acc: 0.7773\n",
      "Epoch 21/40\n",
      "64/64 [==============================] - 1s 13ms/step - loss: 0.3999 - acc: 0.8091 - val_loss: 0.5499 - val_acc: 0.6401\n",
      "Epoch 22/40\n",
      "64/64 [==============================] - 1s 13ms/step - loss: 0.3840 - acc: 0.8062 - val_loss: 0.5206 - val_acc: 0.7568\n",
      "Epoch 23/40\n",
      "64/64 [==============================] - 1s 13ms/step - loss: 0.3929 - acc: 0.8164 - val_loss: 0.4510 - val_acc: 0.7666\n",
      "Epoch 24/40\n",
      "64/64 [==============================] - 1s 13ms/step - loss: 0.3688 - acc: 0.8247 - val_loss: 0.4910 - val_acc: 0.7852\n",
      "Epoch 25/40\n",
      "64/64 [==============================] - 1s 13ms/step - loss: 0.3683 - acc: 0.8276 - val_loss: 0.4710 - val_acc: 0.7939\n",
      "Epoch 26/40\n",
      "64/64 [==============================] - 1s 13ms/step - loss: 0.3594 - acc: 0.8247 - val_loss: 0.4144 - val_acc: 0.8032\n",
      "Epoch 27/40\n",
      "64/64 [==============================] - 1s 13ms/step - loss: 0.3604 - acc: 0.8345 - val_loss: 0.4262 - val_acc: 0.7993\n",
      "Epoch 28/40\n",
      "64/64 [==============================] - 1s 13ms/step - loss: 0.3423 - acc: 0.8447 - val_loss: 0.4611 - val_acc: 0.8037\n",
      "Epoch 29/40\n",
      "64/64 [==============================] - 1s 13ms/step - loss: 0.3696 - acc: 0.8330 - val_loss: 0.4926 - val_acc: 0.8135\n",
      "Epoch 30/40\n",
      "64/64 [==============================] - 1s 13ms/step - loss: 0.3448 - acc: 0.8438 - val_loss: 0.3929 - val_acc: 0.8535\n",
      "Epoch 31/40\n",
      "64/64 [==============================] - 1s 13ms/step - loss: 0.3188 - acc: 0.8535 - val_loss: 0.4265 - val_acc: 0.8120\n",
      "Epoch 32/40\n",
      "64/64 [==============================] - 1s 13ms/step - loss: 0.3048 - acc: 0.8701 - val_loss: 0.4642 - val_acc: 0.8125\n",
      "Epoch 33/40\n",
      "64/64 [==============================] - 1s 13ms/step - loss: 0.3196 - acc: 0.8613 - val_loss: 0.3677 - val_acc: 0.8169\n",
      "Epoch 34/40\n",
      "64/64 [==============================] - 1s 13ms/step - loss: 0.3030 - acc: 0.8682 - val_loss: 0.3659 - val_acc: 0.8325\n",
      "Epoch 35/40\n",
      "64/64 [==============================] - 1s 13ms/step - loss: 0.3349 - acc: 0.8711 - val_loss: 0.3711 - val_acc: 0.8257\n",
      "Epoch 36/40\n",
      "64/64 [==============================] - 1s 13ms/step - loss: 0.3314 - acc: 0.8604 - val_loss: 0.3757 - val_acc: 0.8335\n",
      "Epoch 37/40\n",
      "64/64 [==============================] - 1s 13ms/step - loss: 0.3102 - acc: 0.8696 - val_loss: 0.3766 - val_acc: 0.8418\n",
      "Epoch 38/40\n",
      "64/64 [==============================] - 1s 13ms/step - loss: 0.3022 - acc: 0.8740 - val_loss: 0.3719 - val_acc: 0.8198\n",
      "Epoch 39/40\n",
      "64/64 [==============================] - 1s 13ms/step - loss: 0.2965 - acc: 0.8755 - val_loss: 0.3440 - val_acc: 0.8384\n",
      "Epoch 40/40\n",
      "64/64 [==============================] - 1s 13ms/step - loss: 0.2806 - acc: 0.8828 - val_loss: 0.3631 - val_acc: 0.8325\n"
     ]
    },
    {
     "data": {
      "text/plain": [
       "<keras.callbacks.History at 0x7fd8576aa2b0>"
      ]
     },
     "execution_count": 12,
     "metadata": {},
     "output_type": "execute_result"
    }
   ],
   "source": [
    "valid=valid_gen()\n",
    "train=train_gen()\n",
    "model.fit_generator(train, \n",
    "                    validation_data=valid, validation_steps=64,\n",
    "                    epochs=40, \n",
    "                    steps_per_epoch=64)"
   ]
  },
  {
   "cell_type": "code",
   "execution_count": 13,
   "metadata": {},
   "outputs": [
    {
     "name": "stdout",
     "output_type": "stream",
     "text": [
      "HoldMeTight 91\n",
      "Predicted:  0.3630632    Actual:  False \n",
      "\n",
      "HangingOnTheTelephone 75\n",
      "Predicted:  0.47318187    Actual:  False \n",
      "\n",
      "53rdAnd3rdMP 91\n",
      "Predicted:  0.11714084    Actual:  False \n",
      "\n",
      "ChatanoogaChooChoo 41\n",
      "Predicted:  0.009754806    Actual:  False \n",
      "\n",
      "Kalamazoo 58\n",
      "Predicted:  0.18010941    Actual:  False \n",
      "\n",
      "BothSidesNow 45\n",
      "Predicted:  0.09964603    Actual:  False \n",
      "\n",
      "AHardRainsAGonnaFall 43\n",
      "Predicted:  0.08664252    Actual:  False \n",
      "\n",
      "BigJimMP 49\n",
      "Predicted:  1.1158175e-05    Actual:  False \n",
      "\n",
      "InTheHillsOfShiloh 75\n",
      "Predicted:  0.13158113    Actual:  False \n",
      "\n",
      "HangingOnTheTelephone 76\n",
      "Predicted:  0.37688887    Actual:  False \n",
      "\n"
     ]
    }
   ],
   "source": [
    "for i in range(10):\n",
    "    song, tempo, compatible, clip = get_validation_case()\n",
    "    print( song, tempo )\n",
    "    c = clip_to_tf_input(resample_clip(clip))\n",
    "    x = np.expand_dims(c, axis=0)\n",
    "    p = model.predict(x)[0][0]\n",
    "    print( 'Predicted: ', p, '   Actual: ', compatible, '\\n' )"
   ]
  },
  {
   "cell_type": "code",
   "execution_count": null,
   "metadata": {},
   "outputs": [],
   "source": []
  }
 ],
 "metadata": {
  "kernelspec": {
   "display_name": "Python 3",
   "language": "python",
   "name": "python3"
  },
  "language_info": {
   "codemirror_mode": {
    "name": "ipython",
    "version": 3
   },
   "file_extension": ".py",
   "mimetype": "text/x-python",
   "name": "python",
   "nbconvert_exporter": "python",
   "pygments_lexer": "ipython3",
   "version": "3.6.6"
  }
 },
 "nbformat": 4,
 "nbformat_minor": 2
}

{
 "cells": [
  {
   "cell_type": "markdown",
   "metadata": {},
   "source": [
    "### Applying Inferential Statistics to the Tempo Estimation Problem"
   ]
  },
  {
   "cell_type": "markdown",
   "metadata": {},
   "source": [
    "Broadly, my intention is to test whether there is identifiable objective information in the audio files that corresponds to my subjective tempo assignment from listening to songs and tapping out the beat.  To do this, I look at songs where `librosa.beat.tempo()` (using its default parameters) identified a tempo that could not be reconciled with any of the ones I identified subjectively.  My null hypothesis will correspond to the idea that LibROSA's identified tempo is as good an objective candidate as the first one I identified subjectively.  My alternative hypothesis will correspond to the idea that objective information favors my subjective tempo."
   ]
  },
  {
   "cell_type": "markdown",
   "metadata": {},
   "source": [
    "Specifically, for each song, my test is as follows:\n",
    "1. Cut off the beginning and end of the song.\n",
    "2. Transform the mel spectrogram data to make the distribution look more Gaussian (using the transformations and parameters discussed in [eda.ipynb](eda.ipynb)).\n",
    "3. Take the first K principal components.\n",
    "4. For each component:\n",
    "  - Sample each Nth observation, where N corresponds to the period associated with the hypothesized tempo.\n",
    "  - Take the standard deviation. (The smaller the standard deviation, the more evidence there is of a repeated pattern at the associated periodicity.)\n",
    "  - Repeat the two substeps above N-1 more times, with each repetition offset by one time unit (spectrogram hop) from the previous one.\n",
    "  - Take the mean of these N standard deviations.\n",
    "5. Do step 4 once for the \"alternative hypothesis tempo\" and once for the \"null hypothesis tempo.\"\n",
    "6. For each of the K components, calculate the difference between the two values calculated in step 5.\n",
    "7. For each of the K components, note whether the difference is negative. (Negative differences favor the alternative hypothesis, because they imply more evidence of periodicity at the alternative hypothesis tempo.)\n",
    "8. Since principal components are, by construction, independent (at least linearly), treat the result (negative vs. non-negative) for each component as an independent Bernoulli trial.  Under the null hypothesis, they are like coin tosses: for each one, the probability of a negative value is 0.5.\n",
    "9. Perform a binomial test of the hypothesis that p=0.5, against the alternative that p>0.5, where p is the probability that any given component will show a negative difference.  The statistic is the probability of getting X or more \"heads\" in K tosses of a fair coin, or `1-binom_cdf(X-1, K, .5)`."
   ]
  },
  {
   "cell_type": "markdown",
   "metadata": {},
   "source": [
    "The choice of K is arbitrary: higher values of K introduce more noise by including components that may contain little residual information, but lower values give fewer \"trials\" to test, so it's not clear what value would maximize the power of the test.  As a heuristic, I'll take every component that individually explains more than 1% of the variance."
   ]
  },
  {
   "cell_type": "code",
   "execution_count": 1,
   "metadata": {},
   "outputs": [],
   "source": [
    "GROUND_TRUTH_PATH = 'songs20190129.csv'\n",
    "SONG_BASEPATH = 'sound/'\n",
    "MELSPEC_BASEPATH = 'melspec/'\n",
    "HOPLEN = 256\n",
    "GET_DATA = True"
   ]
  },
  {
   "cell_type": "code",
   "execution_count": 2,
   "metadata": {},
   "outputs": [],
   "source": [
    "import librosa\n",
    "import numpy as np\n",
    "import pandas as pd\n",
    "import scipy\n",
    "import pickle\n",
    "import gzip\n",
    "import os\n",
    "import random\n",
    "import math"
   ]
  },
  {
   "cell_type": "code",
   "execution_count": 3,
   "metadata": {},
   "outputs": [],
   "source": [
    "import librosa.display\n",
    "import matplotlib.pyplot as plt\n",
    "import matplotlib.style as ms\n",
    "ms.use('seaborn-muted')\n",
    "%matplotlib nbagg\n",
    "from IPython.display import Audio\n",
    "from sklearn.decomposition import PCA"
   ]
  },
  {
   "cell_type": "code",
   "execution_count": 4,
   "metadata": {},
   "outputs": [],
   "source": [
    "song_list = ['Collide', 'SallyGoRoundTheRoses', 'WithoutYouMP']"
   ]
  },
  {
   "cell_type": "code",
   "execution_count": 5,
   "metadata": {},
   "outputs": [
    {
     "name": "stdout",
     "output_type": "stream",
     "text": [
      "{'SallyGoRoundTheRoses': 151.0, 'Collide': 94.0, 'WithoutYouMP': 159.0}\n",
      "{'SallyGoRoundTheRoses': 99.0, 'Collide': 123.0, 'WithoutYouMP': 108.0}\n"
     ]
    }
   ],
   "source": [
    "if GET_DATA:\n",
    "    suffix = '.mp3'\n",
    "    paces = pd.read_csv(GROUND_TRUTH_PATH, usecols=range(4), index_col=0, header=None)\n",
    "    paces.index.name = 'song'\n",
    "    paces.columns = ['pace0', 'pace1', 'pace2']\n",
    "    right_tempo = {}\n",
    "    wrong_tempo = {}\n",
    "    for song in song_list:\n",
    "        songpath = SONG_BASEPATH + song + suffix\n",
    "        right_tempo[song] = round(paces.loc[song,'pace0'])\n",
    "        wrong_tempo[song] = round(librosa.beat.tempo(librosa.load(songpath)[0])[0])\n",
    "    print(right_tempo)\n",
    "    print(wrong_tempo)"
   ]
  },
  {
   "cell_type": "code",
   "execution_count": 6,
   "metadata": {},
   "outputs": [],
   "source": [
    "if not GET_DATA:\n",
    "    wrong_tempo = {  # LibROSA-identified tempos\n",
    "        'Collide': 123, \n",
    "        'SallyGoRoundTheRoses': 99,\n",
    "        'WithoutYouMP': 108\n",
    "        }\n",
    "    right_tempo = {  # Subjectively identified tempos\n",
    "        'Collide': 94, \n",
    "        'SallyGoRoundTheRoses': 151,\n",
    "        'WithoutYouMP': 159\n",
    "        }"
   ]
  },
  {
   "cell_type": "code",
   "execution_count": 7,
   "metadata": {},
   "outputs": [],
   "source": [
    "# Convert from tempo to periodicity\n",
    "def hops_per_beat(beats_per_minute):\n",
    "    samples_per_second = 22050\n",
    "    seconds_per_minute = 60\n",
    "    samples_per_hop = 256\n",
    "    beats_per_second = beats_per_minute / seconds_per_minute\n",
    "    hops_per_second = samples_per_second / samples_per_hop\n",
    "    hops_per_beat = hops_per_second / beats_per_second\n",
    "    return(hops_per_beat)"
   ]
  },
  {
   "cell_type": "code",
   "execution_count": 8,
   "metadata": {},
   "outputs": [],
   "source": [
    "# Transformation of data to look Gaussian\n",
    "# (Standardization is not necessary for this analysis since all data are the in same units)\n",
    "def preproc(x):\n",
    "    return(np.log(x+1e-5))"
   ]
  },
  {
   "cell_type": "code",
   "execution_count": 9,
   "metadata": {},
   "outputs": [],
   "source": [
    "# Calculate differences between mean standard deviations for right vs. wrong tempos\n",
    "def diffs(ncomp, right_period, wrong_period):\n",
    "    right_beat_stds_pc = [[].copy() for j in range(ncomp)]\n",
    "    wrong_beat_stds_pc = [[].copy() for j in range(ncomp)]\n",
    "    for i in range(right_period):\n",
    "        for j in range(ncomp):\n",
    "            pcs = pc[j,i::right_period]\n",
    "            p = right_beat_stds_pc[j].append(np.std(pcs))\n",
    "    for i in range(wrong_period):\n",
    "        for j in range(ncomp):\n",
    "            pcs = pc[j,i::wrong_period]\n",
    "            wrong_beat_stds_pc[j].append(np.std(pcs))\n",
    "    return [np.mean(np.array(right_beat_stds_pc[j])) - \\\n",
    "     np.mean(np.array(wrong_beat_stds_pc[j])) for j in range(ncomp) ]"
   ]
  },
  {
   "cell_type": "code",
   "execution_count": 10,
   "metadata": {},
   "outputs": [],
   "source": [
    "song = song_list[0]"
   ]
  },
  {
   "cell_type": "code",
   "execution_count": 11,
   "metadata": {},
   "outputs": [
    {
     "name": "stdout",
     "output_type": "stream",
     "text": [
      "\n",
      "\n",
      "\n",
      "Song:  Collide\n",
      "\n",
      "Shape of mel spectrogram:  (128, 16704)\n",
      "Shape of principal components:  (40, 16704)\n",
      "\n",
      "Explained variance ratios:\n",
      "[0.28971815 0.06917114 0.06429128 0.04074661 0.03691182 0.03371659\n",
      " 0.02850039 0.0256117  0.02327849 0.01711042 0.01668253 0.01479176\n",
      " 0.01440992 0.01295199 0.01263691 0.01149125 0.01110762 0.01045921\n",
      " 0.01004312 0.00948813 0.00888045 0.00842438 0.00809894 0.00774493\n",
      " 0.00727744 0.0069554  0.00694053 0.00658439 0.00643772 0.00623526\n",
      " 0.0060518  0.00565352 0.00537967 0.00518594 0.00505767 0.00488317\n",
      " 0.00483063 0.00463455 0.00437611 0.00432162]\n",
      "\n",
      "Number of components to use: 19\n",
      "Subjective periodicity:      55\n",
      "LibROSA periodicity:         42\n",
      "\n",
      "Differences of mean SDs:\n",
      "[-0.90404415, -0.04633379, -0.045452118, -0.05665493, -0.022636414, -0.00536108, -0.050516844, -0.016252995, -0.025046587, -0.025487661, -0.018435001, -0.026423454, -0.028068304, -0.022996664, -0.0070090294, -0.029582262, -0.008337975, -0.008699298, -0.005719781]\n",
      "\n",
      "Cumulative mean of fraction that are negative:\n",
      "[1. 1. 1. 1. 1. 1. 1. 1. 1. 1. 1. 1. 1. 1. 1. 1. 1. 1. 1.]\n",
      "\n",
      "Significance level: 1.9073486328125e-06\n",
      "\n",
      "\n",
      "\n",
      "Song:  SallyGoRoundTheRoses\n",
      "\n",
      "Shape of mel spectrogram:  (128, 12173)\n",
      "Shape of principal components:  (40, 12173)\n",
      "\n",
      "Explained variance ratios:\n",
      "[0.5022738  0.07591221 0.04119322 0.02863926 0.0231482  0.02222832\n",
      " 0.01748681 0.0164545  0.0138286  0.01268837 0.01189311 0.01100593\n",
      " 0.01069295 0.00999548 0.00900414 0.00820414 0.00770667 0.00763719\n",
      " 0.00703092 0.00648371 0.00588004 0.00538572 0.00506672 0.00465305\n",
      " 0.00450299 0.00435463 0.00429614 0.00394508 0.00383612 0.0037759\n",
      " 0.00358095 0.00346679 0.00340271 0.0032518  0.00315268 0.00306126\n",
      " 0.00283097 0.00269653 0.00264622 0.00255555]\n",
      "\n",
      "Number of components to use: 13\n",
      "Subjective periodicity:      34\n",
      "LibROSA periodicity:         52\n",
      "\n",
      "Differences of mean SDs:\n",
      "[0.0050268173, 0.011245728, -0.0072426796, 0.0020833015, -0.003815174, 0.00063061714, 0.0022375584, 0.0036389828, 0.0001487732, -0.0026752949, -9.10759e-05, -0.00070905685, 0.00064229965]\n",
      "\n",
      "Cumulative mean of fraction that are negative:\n",
      "[0.         0.         0.33333333 0.25       0.4        0.33333333\n",
      " 0.28571429 0.25       0.22222222 0.3        0.36363636 0.41666667\n",
      " 0.38461538]\n",
      "\n",
      "Significance level: 0.8665771484375001\n",
      "\n",
      "\n",
      "\n",
      "Song:  WithoutYouMP\n",
      "\n",
      "Shape of mel spectrogram:  (128, 12323)\n",
      "Shape of principal components:  (40, 12323)\n",
      "\n",
      "Explained variance ratios:\n",
      "[0.4585176  0.08144744 0.05160701 0.03397402 0.02729826 0.02400059\n",
      " 0.02054571 0.01848027 0.01515595 0.01251378 0.01205335 0.0099322\n",
      " 0.00968281 0.00947266 0.00852069 0.00781815 0.00754442 0.00663353\n",
      " 0.00643119 0.00588069 0.00574768 0.00539829 0.00527678 0.00510928\n",
      " 0.00491696 0.00460924 0.00442913 0.00420598 0.00399646 0.0037728\n",
      " 0.00372041 0.00367408 0.00352054 0.00340432 0.00323236 0.00319214\n",
      " 0.00310105 0.00294685 0.00287563 0.00268328]\n",
      "\n",
      "Number of components to use: 11\n",
      "Subjective periodicity:      33\n",
      "LibROSA periodicity:         48\n",
      "\n",
      "Differences of mean SDs:\n",
      "[-0.0211277, -0.0048832893, -0.004539013, -0.0061831474, 0.0021014214, -0.0014820099, 0.003622055, -0.0008919239, 0.004165888, -0.0006918907, -0.0014648438]\n",
      "\n",
      "Cumulative mean of fraction that are negative:\n",
      "[1.         1.         1.         1.         0.8        0.83333333\n",
      " 0.71428571 0.75       0.66666667 0.7        0.72727273]\n",
      "\n",
      "Significance level: 0.11328125\n"
     ]
    }
   ],
   "source": [
    "pvals = []\n",
    "for song in song_list:\n",
    "\n",
    "    print('\\n\\n\\nSong: ', song)\n",
    "\n",
    "    # Get saved mel spectrogram\n",
    "    melspec_path = MELSPEC_BASEPATH + song + '_melspec.pkl.gz'\n",
    "    with gzip.open(melspec_path,'rb') as fp:\n",
    "        ms = pickle.load(fp)  # Beginning and end of song are already removed\n",
    "\n",
    "    print('\\nShape of mel spectrogram: ', ms.shape)\n",
    "\n",
    "    pca = PCA(n_components=40)\n",
    "    pc = np.transpose(pca.fit_transform(np.transpose(preproc(ms))))\n",
    "    print('Shape of principal components: ', pc.shape)\n",
    "\n",
    "    print('\\nExplained variance ratios:')\n",
    "    print(pca.explained_variance_ratio_)\n",
    "\n",
    "    min_explained = 0.01\n",
    "    ncomp = (pca.explained_variance_ratio_ > min_explained).sum()\n",
    "    print( '\\nNumber of components to use:', ncomp)\n",
    "    right_period = int(round(hops_per_beat(right_tempo[song])))\n",
    "    print( 'Subjective periodicity:     ', right_period)\n",
    "    wrong_period = int(round(hops_per_beat(wrong_tempo[song])))\n",
    "    print( 'LibROSA periodicity:        ', wrong_period)\n",
    "\n",
    "    diff = diffs(ncomp, right_period, wrong_period)\n",
    "    print('\\nDifferences of mean SDs:')\n",
    "    print(diff)\n",
    "\n",
    "    tosses = [d<0 for d in diff]\n",
    "    print('\\nCumulative mean of fraction that are negative:')\n",
    "    print(np.array(tosses).cumsum()/(1+np.array(range(len(tosses)))))\n",
    "\n",
    "    pval = 1 - scipy.stats.binom.cdf(sum(tosses)-1, len(tosses), .5)\n",
    "    print('\\nSignificance level:', pval)\n",
    "    pvals.append(pval)"
   ]
  },
  {
   "cell_type": "code",
   "execution_count": 12,
   "metadata": {},
   "outputs": [
    {
     "name": "stdout",
     "output_type": "stream",
     "text": [
      "Corrected minimum significance level: 5.7220458984375e-06\n"
     ]
    }
   ],
   "source": [
    "bonferroni = min(pvals)*len(pvals)\n",
    "print('Corrected minimum significance level:', bonferroni)"
   ]
  },
  {
   "cell_type": "markdown",
   "metadata": {},
   "source": [
    "In summary, for *Collide* I conclusively reject the null hypothesis.  \n",
    "\n",
    "For *Sally Go Round the Roses* there is no evidence for the alternative.  \n",
    "\n",
    "For *Without You* I cannot reject the null, but, given the rejection for *Collide* and the negative differences for the first four components, the data seem consistent with the alternative hypothesis."
   ]
  },
  {
   "cell_type": "code",
   "execution_count": null,
   "metadata": {},
   "outputs": [],
   "source": []
  },
  {
   "cell_type": "code",
   "execution_count": null,
   "metadata": {},
   "outputs": [],
   "source": []
  }
 ],
 "metadata": {
  "kernelspec": {
   "display_name": "librosa",
   "language": "python",
   "name": "librosa"
  },
  "language_info": {
   "codemirror_mode": {
    "name": "ipython",
    "version": 3
   },
   "file_extension": ".py",
   "mimetype": "text/x-python",
   "name": "python",
   "nbconvert_exporter": "python",
   "pygments_lexer": "ipython3",
   "version": "3.5.5"
  }
 },
 "nbformat": 4,
 "nbformat_minor": 2
}

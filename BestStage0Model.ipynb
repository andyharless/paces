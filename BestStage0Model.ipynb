{
 "cells": [
  {
   "cell_type": "code",
   "execution_count": 1,
   "metadata": {},
   "outputs": [
    {
     "name": "stderr",
     "output_type": "stream",
     "text": [
      "/home/andy/.local/lib/python3.6/site-packages/h5py/__init__.py:36: FutureWarning: Conversion of the second argument of issubdtype from `float` to `np.floating` is deprecated. In future, it will be treated as `np.float64 == np.dtype(float).type`.\n",
      "  from ._conv import register_converters as _register_converters\n",
      "Using TensorFlow backend.\n"
     ]
    }
   ],
   "source": [
    "from get_training_data import *\n",
    "\n",
    "import tensorflow as tf\n",
    "import keras\n",
    "import pickle\n",
    "import gzip\n",
    "import os\n",
    "import random\n",
    "import matplotlib.pyplot as plt\n",
    "%matplotlib nbagg"
   ]
  },
  {
   "cell_type": "code",
   "execution_count": 2,
   "metadata": {},
   "outputs": [
    {
     "data": {
      "text/plain": [
       "(tuple, 2)"
      ]
     },
     "execution_count": 2,
     "metadata": {},
     "output_type": "execute_result"
    }
   ],
   "source": [
    "with gzip.open('train_cases.pkl.gz','rb') as fp:\n",
    "    train_cases = pickle.load(fp)\n",
    "type(train_cases), len(train_cases)"
   ]
  },
  {
   "cell_type": "code",
   "execution_count": 3,
   "metadata": {},
   "outputs": [
    {
     "data": {
      "text/plain": [
       "(numpy.ndarray,\n",
       " (16384, 16, 16, 128),\n",
       " dtype('float32'),\n",
       " numpy.ndarray,\n",
       " (16384, 1),\n",
       " dtype('float64'))"
      ]
     },
     "execution_count": 3,
     "metadata": {},
     "output_type": "execute_result"
    }
   ],
   "source": [
    "train_X = train_cases[0]\n",
    "train_y = train_cases[1]\n",
    "ntrain = train_X.shape[0]\n",
    "type(train_X), train_X.shape, train_X.dtype, type(train_y), train_y.shape, train_y.dtype"
   ]
  },
  {
   "cell_type": "code",
   "execution_count": 4,
   "metadata": {},
   "outputs": [
    {
     "data": {
      "text/plain": [
       "(numpy.ndarray,\n",
       " (4096, 16, 16, 128),\n",
       " dtype('float32'),\n",
       " numpy.ndarray,\n",
       " (4096, 1),\n",
       " dtype('float64'))"
      ]
     },
     "execution_count": 4,
     "metadata": {},
     "output_type": "execute_result"
    }
   ],
   "source": [
    "with gzip.open('valid_cases.pkl.gz','rb') as fp:\n",
    "    valid_cases = pickle.load(fp)\n",
    "valid_X = valid_cases[0]\n",
    "valid_y = valid_cases[1]\n",
    "nvalid = valid_X.shape[0]\n",
    "type(valid_X), valid_X.shape, valid_X.dtype, type(valid_y), valid_y.shape, valid_y.dtype"
   ]
  },
  {
   "cell_type": "code",
   "execution_count": 5,
   "metadata": {},
   "outputs": [],
   "source": [
    "def choose_training_case():\n",
    "    i = random.randint(0, ntrain-1)\n",
    "    return(train_X[i,:,:,:], train_y[i,:])\n",
    "\n",
    "def choose_validation_case():\n",
    "    i = random.randint(0, nvalid-1)\n",
    "    return(valid_X[i,:,:,:], valid_y[i,:])"
   ]
  },
  {
   "cell_type": "code",
   "execution_count": 6,
   "metadata": {},
   "outputs": [],
   "source": [
    "ADD_CONST = 1e-5\n",
    "CENTER = -2.5\n",
    "SCALE = 5\n",
    "XFORM = True"
   ]
  },
  {
   "cell_type": "code",
   "execution_count": 7,
   "metadata": {},
   "outputs": [],
   "source": [
    "def preproc(a):\n",
    "    if XFORM:\n",
    "        return((np.log(a+ADD_CONST) - CENTER) / SCALE)\n",
    "    else:\n",
    "        return(a)"
   ]
  },
  {
   "cell_type": "code",
   "execution_count": 8,
   "metadata": {},
   "outputs": [],
   "source": [
    "def make_batch_from_megabatch(batchsize=32, validation=False):\n",
    "    get_case = choose_validation_case if validation else choose_training_case    \n",
    "    xbatch = np.empty([0, INPUTS_PER_BEAT, NBEATS, NCHANNELS],dtype=np.float32)\n",
    "    ybatch = np.empty([0, 1])\n",
    "    for i in range(batchsize):\n",
    "        case = get_case()\n",
    "        x = np.expand_dims(case[0], axis=0)\n",
    "        xbatch = np.concatenate([xbatch, x], axis=0)\n",
    "        y = np.array(int(case[1])).reshape([1,1])\n",
    "        ybatch = np.concatenate([ybatch, y], axis=0)\n",
    "    return(preproc(xbatch), ybatch)\n",
    "\n",
    "def train_gen(batchsize=32):\n",
    "    while True:\n",
    "        yield(make_batch_from_megabatch(batchsize, validation=False))\n",
    "\n",
    "def valid_gen(batchsize=32):\n",
    "    while True:\n",
    "        yield(make_batch_from_megabatch(batchsize, validation=True))"
   ]
  },
  {
   "cell_type": "code",
   "execution_count": 9,
   "metadata": {},
   "outputs": [
    {
     "data": {
      "text/plain": [
       "((32, 16, 16, 128), (32, 1))"
      ]
     },
     "execution_count": 9,
     "metadata": {},
     "output_type": "execute_result"
    }
   ],
   "source": [
    "# The generators are way too slow: have to fix this\n",
    "for t in train_gen():\n",
    "    break\n",
    "t[0].shape, t[1].shape"
   ]
  },
  {
   "cell_type": "code",
   "execution_count": 10,
   "metadata": {},
   "outputs": [
    {
     "data": {
      "text/plain": [
       "((32, 16, 16, 128), (32, 1))"
      ]
     },
     "execution_count": 10,
     "metadata": {},
     "output_type": "execute_result"
    }
   ],
   "source": [
    "for v in valid_gen():\n",
    "    break\n",
    "v[0].shape, v[1].shape"
   ]
  },
  {
   "cell_type": "code",
   "execution_count": 11,
   "metadata": {},
   "outputs": [],
   "source": [
    "input_shape = (INPUTS_PER_BEAT, NBEATS, NCHANNELS)\n",
    "\n",
    "model = keras.Sequential()\n",
    "model.add(keras.layers.Conv2D(64, 1, activation='relu', input_shape=input_shape))\n",
    "model.add(keras.layers.SpatialDropout2D(.1))\n",
    "model.add(keras.layers.Conv2D(32, 1, activation='relu'))\n",
    "model.add(keras.layers.BatchNormalization())\n",
    "model.add(keras.layers.Conv2D(12, (1,4), activation='relu'))\n",
    "model.add(keras.layers.SpatialDropout2D(.3))\n",
    "model.add(keras.layers.Conv2D(25, (4,6), activation='relu'))\n",
    "model.add(keras.layers.BatchNormalization())\n",
    "model.add(keras.layers.Conv2D(3, (1,4), activation='relu'))\n",
    "model.add(keras.layers.Flatten())\n",
    "model.add(keras.layers.Dropout(.8))\n",
    "model.add(keras.layers.Dense(20))\n",
    "model.add(keras.layers.PReLU())\n",
    "model.add(keras.layers.Dense(1, activation='sigmoid'))"
   ]
  },
  {
   "cell_type": "code",
   "execution_count": 12,
   "metadata": {},
   "outputs": [],
   "source": [
    "model.compile(loss='binary_crossentropy', \n",
    "              optimizer=keras.optimizers.Adam(lr=.003,decay=2e-4), \n",
    "              metrics=['accuracy'])"
   ]
  },
  {
   "cell_type": "code",
   "execution_count": 13,
   "metadata": {},
   "outputs": [
    {
     "name": "stdout",
     "output_type": "stream",
     "text": [
      "_________________________________________________________________\n",
      "Layer (type)                 Output Shape              Param #   \n",
      "=================================================================\n",
      "conv2d_1 (Conv2D)            (None, 16, 16, 64)        8256      \n",
      "_________________________________________________________________\n",
      "spatial_dropout2d_1 (Spatial (None, 16, 16, 64)        0         \n",
      "_________________________________________________________________\n",
      "conv2d_2 (Conv2D)            (None, 16, 16, 32)        2080      \n",
      "_________________________________________________________________\n",
      "batch_normalization_1 (Batch (None, 16, 16, 32)        128       \n",
      "_________________________________________________________________\n",
      "conv2d_3 (Conv2D)            (None, 16, 13, 12)        1548      \n",
      "_________________________________________________________________\n",
      "spatial_dropout2d_2 (Spatial (None, 16, 13, 12)        0         \n",
      "_________________________________________________________________\n",
      "conv2d_4 (Conv2D)            (None, 13, 8, 25)         7225      \n",
      "_________________________________________________________________\n",
      "batch_normalization_2 (Batch (None, 13, 8, 25)         100       \n",
      "_________________________________________________________________\n",
      "conv2d_5 (Conv2D)            (None, 13, 5, 3)          303       \n",
      "_________________________________________________________________\n",
      "flatten_1 (Flatten)          (None, 195)               0         \n",
      "_________________________________________________________________\n",
      "dropout_1 (Dropout)          (None, 195)               0         \n",
      "_________________________________________________________________\n",
      "dense_1 (Dense)              (None, 20)                3920      \n",
      "_________________________________________________________________\n",
      "p_re_lu_1 (PReLU)            (None, 20)                20        \n",
      "_________________________________________________________________\n",
      "dense_2 (Dense)              (None, 1)                 21        \n",
      "=================================================================\n",
      "Total params: 23,601\n",
      "Trainable params: 23,487\n",
      "Non-trainable params: 114\n",
      "_________________________________________________________________\n"
     ]
    }
   ],
   "source": [
    "model.summary()"
   ]
  },
  {
   "cell_type": "code",
   "execution_count": 14,
   "metadata": {
    "scrolled": true
   },
   "outputs": [
    {
     "name": "stdout",
     "output_type": "stream",
     "text": [
      "WARNING:tensorflow:Variable *= will be deprecated. Use variable.assign_mul if you want assignment to the variable value or 'x = x * y' if you want a new python Tensor object.\n",
      "Epoch 1/60\n",
      "64/64 [==============================] - 2s 36ms/step - loss: 0.6453 - acc: 0.7305 - val_loss: 0.5693 - val_acc: 0.7515\n",
      "Epoch 2/60\n",
      "64/64 [==============================] - 1s 20ms/step - loss: 0.5934 - acc: 0.7544 - val_loss: 0.5826 - val_acc: 0.7617\n",
      "Epoch 3/60\n",
      "64/64 [==============================] - 1s 20ms/step - loss: 0.5583 - acc: 0.7729 - val_loss: 0.5622 - val_acc: 0.7534\n",
      "Epoch 4/60\n",
      "64/64 [==============================] - 1s 20ms/step - loss: 0.5568 - acc: 0.7681 - val_loss: 0.5582 - val_acc: 0.7671\n",
      "Epoch 5/60\n",
      "64/64 [==============================] - 1s 20ms/step - loss: 0.5474 - acc: 0.7710 - val_loss: 0.5539 - val_acc: 0.7744\n",
      "Epoch 6/60\n",
      "64/64 [==============================] - 1s 20ms/step - loss: 0.5220 - acc: 0.7773 - val_loss: 0.5475 - val_acc: 0.7598\n",
      "Epoch 7/60\n",
      "64/64 [==============================] - 1s 20ms/step - loss: 0.5045 - acc: 0.7715 - val_loss: 0.5263 - val_acc: 0.7612\n",
      "Epoch 8/60\n",
      "64/64 [==============================] - 1s 20ms/step - loss: 0.4875 - acc: 0.7681 - val_loss: 0.5225 - val_acc: 0.7490\n",
      "Epoch 9/60\n",
      "64/64 [==============================] - 1s 20ms/step - loss: 0.4667 - acc: 0.7749 - val_loss: 0.4876 - val_acc: 0.7554\n",
      "Epoch 10/60\n",
      "64/64 [==============================] - 1s 20ms/step - loss: 0.4445 - acc: 0.7705 - val_loss: 0.5000 - val_acc: 0.7310\n",
      "Epoch 11/60\n",
      "64/64 [==============================] - 1s 20ms/step - loss: 0.4102 - acc: 0.7632 - val_loss: 0.4557 - val_acc: 0.7681\n",
      "Epoch 12/60\n",
      "64/64 [==============================] - 1s 20ms/step - loss: 0.3839 - acc: 0.7856 - val_loss: 0.3995 - val_acc: 0.7725\n",
      "Epoch 13/60\n",
      "64/64 [==============================] - 1s 20ms/step - loss: 0.3556 - acc: 0.7783 - val_loss: 0.3441 - val_acc: 0.8267\n",
      "Epoch 14/60\n",
      "64/64 [==============================] - 1s 20ms/step - loss: 0.3365 - acc: 0.8535 - val_loss: 0.3109 - val_acc: 0.8550\n",
      "Epoch 15/60\n",
      "64/64 [==============================] - 1s 20ms/step - loss: 0.2750 - acc: 0.8813 - val_loss: 0.3039 - val_acc: 0.8711\n",
      "Epoch 16/60\n",
      "64/64 [==============================] - 1s 20ms/step - loss: 0.2828 - acc: 0.8770 - val_loss: 0.2841 - val_acc: 0.8794\n",
      "Epoch 17/60\n",
      "64/64 [==============================] - 1s 20ms/step - loss: 0.2546 - acc: 0.8931 - val_loss: 0.2837 - val_acc: 0.8853\n",
      "Epoch 18/60\n",
      "64/64 [==============================] - 1s 20ms/step - loss: 0.2632 - acc: 0.8965 - val_loss: 0.2350 - val_acc: 0.8857\n",
      "Epoch 19/60\n",
      "64/64 [==============================] - 1s 20ms/step - loss: 0.2471 - acc: 0.8965 - val_loss: 0.2502 - val_acc: 0.8999\n",
      "Epoch 20/60\n",
      "64/64 [==============================] - 1s 20ms/step - loss: 0.2451 - acc: 0.9014 - val_loss: 0.2678 - val_acc: 0.8896\n",
      "Epoch 21/60\n",
      "64/64 [==============================] - 1s 20ms/step - loss: 0.2591 - acc: 0.8911 - val_loss: 0.2718 - val_acc: 0.8794\n",
      "Epoch 22/60\n",
      "64/64 [==============================] - 1s 20ms/step - loss: 0.2224 - acc: 0.9082 - val_loss: 0.2483 - val_acc: 0.8892\n",
      "Epoch 23/60\n",
      "64/64 [==============================] - 1s 20ms/step - loss: 0.2361 - acc: 0.9087 - val_loss: 0.2365 - val_acc: 0.9009\n",
      "Epoch 24/60\n",
      "64/64 [==============================] - 1s 20ms/step - loss: 0.2123 - acc: 0.9146 - val_loss: 0.2018 - val_acc: 0.9219\n",
      "Epoch 25/60\n",
      "64/64 [==============================] - 1s 20ms/step - loss: 0.2196 - acc: 0.9077 - val_loss: 0.2602 - val_acc: 0.8984\n",
      "Epoch 26/60\n",
      "64/64 [==============================] - 1s 20ms/step - loss: 0.1901 - acc: 0.9272 - val_loss: 0.2431 - val_acc: 0.8965\n",
      "Epoch 27/60\n",
      "64/64 [==============================] - 1s 20ms/step - loss: 0.2152 - acc: 0.9106 - val_loss: 0.2094 - val_acc: 0.9238\n",
      "Epoch 28/60\n",
      "64/64 [==============================] - 1s 20ms/step - loss: 0.1834 - acc: 0.9316 - val_loss: 0.2164 - val_acc: 0.9170\n",
      "Epoch 29/60\n",
      "64/64 [==============================] - 1s 20ms/step - loss: 0.2013 - acc: 0.9248 - val_loss: 0.2450 - val_acc: 0.9004\n",
      "Epoch 30/60\n",
      "64/64 [==============================] - 1s 20ms/step - loss: 0.1871 - acc: 0.9224 - val_loss: 0.2209 - val_acc: 0.9121\n",
      "Epoch 31/60\n",
      "64/64 [==============================] - 1s 20ms/step - loss: 0.2079 - acc: 0.9126 - val_loss: 0.2129 - val_acc: 0.9150\n",
      "Epoch 32/60\n",
      "64/64 [==============================] - 1s 21ms/step - loss: 0.1795 - acc: 0.9302 - val_loss: 0.2161 - val_acc: 0.9126\n",
      "Epoch 33/60\n",
      "64/64 [==============================] - 1s 20ms/step - loss: 0.2105 - acc: 0.9199 - val_loss: 0.2478 - val_acc: 0.9165\n",
      "Epoch 34/60\n",
      "64/64 [==============================] - 1s 20ms/step - loss: 0.1791 - acc: 0.9219 - val_loss: 0.1984 - val_acc: 0.9194\n",
      "Epoch 35/60\n",
      "64/64 [==============================] - 1s 20ms/step - loss: 0.2016 - acc: 0.9204 - val_loss: 0.2070 - val_acc: 0.9131\n",
      "Epoch 36/60\n",
      "64/64 [==============================] - 1s 20ms/step - loss: 0.1945 - acc: 0.9233 - val_loss: 0.2077 - val_acc: 0.9131\n",
      "Epoch 37/60\n",
      "64/64 [==============================] - 1s 20ms/step - loss: 0.1725 - acc: 0.9268 - val_loss: 0.2648 - val_acc: 0.8896\n",
      "Epoch 38/60\n",
      "64/64 [==============================] - 1s 20ms/step - loss: 0.1987 - acc: 0.9204 - val_loss: 0.2344 - val_acc: 0.9126\n",
      "Epoch 39/60\n",
      "64/64 [==============================] - 1s 20ms/step - loss: 0.1941 - acc: 0.9199 - val_loss: 0.2142 - val_acc: 0.9165\n",
      "Epoch 40/60\n",
      "64/64 [==============================] - 1s 20ms/step - loss: 0.1727 - acc: 0.9268 - val_loss: 0.2068 - val_acc: 0.9111\n",
      "Epoch 41/60\n",
      "64/64 [==============================] - 1s 20ms/step - loss: 0.2049 - acc: 0.9155 - val_loss: 0.2305 - val_acc: 0.9185\n",
      "Epoch 42/60\n",
      "64/64 [==============================] - 1s 20ms/step - loss: 0.2018 - acc: 0.9121 - val_loss: 0.2462 - val_acc: 0.8975\n",
      "Epoch 43/60\n",
      "64/64 [==============================] - 1s 20ms/step - loss: 0.1866 - acc: 0.9277 - val_loss: 0.2231 - val_acc: 0.9141\n",
      "Epoch 44/60\n",
      "64/64 [==============================] - 1s 20ms/step - loss: 0.1909 - acc: 0.9312 - val_loss: 0.2105 - val_acc: 0.9116\n",
      "Epoch 45/60\n",
      "64/64 [==============================] - 1s 20ms/step - loss: 0.1812 - acc: 0.9258 - val_loss: 0.1998 - val_acc: 0.9160\n",
      "Epoch 46/60\n",
      "64/64 [==============================] - 1s 20ms/step - loss: 0.1957 - acc: 0.9204 - val_loss: 0.2171 - val_acc: 0.9155\n",
      "Epoch 47/60\n",
      "64/64 [==============================] - 1s 20ms/step - loss: 0.1901 - acc: 0.9229 - val_loss: 0.2272 - val_acc: 0.9219\n",
      "Epoch 48/60\n",
      "64/64 [==============================] - 1s 20ms/step - loss: 0.1945 - acc: 0.9224 - val_loss: 0.2082 - val_acc: 0.9248\n",
      "Epoch 49/60\n",
      "64/64 [==============================] - 1s 20ms/step - loss: 0.1812 - acc: 0.9321 - val_loss: 0.2056 - val_acc: 0.9185\n",
      "Epoch 50/60\n",
      "64/64 [==============================] - 1s 20ms/step - loss: 0.1641 - acc: 0.9321 - val_loss: 0.2212 - val_acc: 0.9141\n",
      "Epoch 51/60\n",
      "64/64 [==============================] - 1s 20ms/step - loss: 0.1681 - acc: 0.9331 - val_loss: 0.2072 - val_acc: 0.9131\n",
      "Epoch 52/60\n",
      "64/64 [==============================] - 1s 20ms/step - loss: 0.1700 - acc: 0.9331 - val_loss: 0.2011 - val_acc: 0.9224\n",
      "Epoch 53/60\n",
      "64/64 [==============================] - 1s 20ms/step - loss: 0.1744 - acc: 0.9292 - val_loss: 0.2530 - val_acc: 0.8989\n",
      "Epoch 54/60\n",
      "64/64 [==============================] - 1s 20ms/step - loss: 0.1838 - acc: 0.9277 - val_loss: 0.2150 - val_acc: 0.9087\n",
      "Epoch 55/60\n",
      "64/64 [==============================] - 1s 20ms/step - loss: 0.1707 - acc: 0.9351 - val_loss: 0.2110 - val_acc: 0.9253\n",
      "Epoch 56/60\n",
      "64/64 [==============================] - 1s 20ms/step - loss: 0.1612 - acc: 0.9409 - val_loss: 0.2100 - val_acc: 0.9204\n",
      "Epoch 57/60\n",
      "64/64 [==============================] - 1s 20ms/step - loss: 0.1743 - acc: 0.9312 - val_loss: 0.2120 - val_acc: 0.9253\n",
      "Epoch 58/60\n",
      "64/64 [==============================] - 1s 20ms/step - loss: 0.1887 - acc: 0.9282 - val_loss: 0.2057 - val_acc: 0.9170\n",
      "Epoch 59/60\n",
      "64/64 [==============================] - 1s 20ms/step - loss: 0.1701 - acc: 0.9336 - val_loss: 0.2261 - val_acc: 0.9175\n",
      "Epoch 60/60\n",
      "64/64 [==============================] - 1s 20ms/step - loss: 0.1795 - acc: 0.9292 - val_loss: 0.2192 - val_acc: 0.9077\n"
     ]
    },
    {
     "data": {
      "text/plain": [
       "<keras.callbacks.History at 0x7f373d49b400>"
      ]
     },
     "execution_count": 14,
     "metadata": {},
     "output_type": "execute_result"
    }
   ],
   "source": [
    "valid=valid_gen()\n",
    "train=train_gen()\n",
    "model.fit_generator(train, \n",
    "                    validation_data=valid, validation_steps=64,\n",
    "                    epochs=60, \n",
    "                    steps_per_epoch=64)"
   ]
  },
  {
   "cell_type": "code",
   "execution_count": 15,
   "metadata": {},
   "outputs": [
    {
     "name": "stdout",
     "output_type": "stream",
     "text": [
      "53rdAnd3rdMP 45\n",
      "Predicted:  0.00090704486    Actual:  False \n",
      "\n",
      "AHardRainsAGonnaFall 56\n",
      "Predicted:  0.021726133    Actual:  False \n",
      "\n",
      "AHardRainsAGonnaFall 62\n",
      "Predicted:  0.017301498    Actual:  True \n",
      "\n",
      "InTheHillsOfShiloh 64\n",
      "Predicted:  0.13423629    Actual:  False \n",
      "\n",
      "CaliforniaDreamin2MP 112\n",
      "Predicted:  0.93683857    Actual:  True \n",
      "\n",
      "IThinkWereAloneNow2MP 44\n",
      "Predicted:  4.0176445e-05    Actual:  False \n",
      "\n",
      "FugueForTinhorns2 161\n",
      "Predicted:  0.6075436    Actual:  True \n",
      "\n",
      "BloodyMerryMorning 83\n",
      "Predicted:  0.0055997227    Actual:  False \n",
      "\n",
      "ChatanoogaChooChoo 58\n",
      "Predicted:  0.10576297    Actual:  False \n",
      "\n",
      "HoldMeTight 45\n",
      "Predicted:  0.0042094495    Actual:  False \n",
      "\n"
     ]
    }
   ],
   "source": [
    "for i in range(10):\n",
    "    song, tempo, compatible, clip = get_validation_case()\n",
    "    print( song, tempo )\n",
    "    c = clip_to_tf_input(resample_clip(clip))\n",
    "    x = np.expand_dims(preproc(c), axis=0)\n",
    "    p = model.predict(x)[0][0]\n",
    "    print( 'Predicted: ', p, '   Actual: ', compatible, '\\n' )"
   ]
  },
  {
   "cell_type": "code",
   "execution_count": null,
   "metadata": {},
   "outputs": [],
   "source": []
  }
 ],
 "metadata": {
  "kernelspec": {
   "display_name": "Python 3",
   "language": "python",
   "name": "python3"
  },
  "language_info": {
   "codemirror_mode": {
    "name": "ipython",
    "version": 3
   },
   "file_extension": ".py",
   "mimetype": "text/x-python",
   "name": "python",
   "nbconvert_exporter": "python",
   "pygments_lexer": "ipython3",
   "version": "3.6.6"
  }
 },
 "nbformat": 4,
 "nbformat_minor": 2
}

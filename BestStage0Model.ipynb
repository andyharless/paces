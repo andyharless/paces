{
 "cells": [
  {
   "cell_type": "code",
   "execution_count": 1,
   "metadata": {},
   "outputs": [
    {
     "name": "stderr",
     "output_type": "stream",
     "text": [
      "/home/andy/.local/lib/python3.6/site-packages/h5py/__init__.py:36: FutureWarning: Conversion of the second argument of issubdtype from `float` to `np.floating` is deprecated. In future, it will be treated as `np.float64 == np.dtype(float).type`.\n",
      "  from ._conv import register_converters as _register_converters\n",
      "Using TensorFlow backend.\n"
     ]
    }
   ],
   "source": [
    "from get_training_data import *\n",
    "\n",
    "import tensorflow as tf\n",
    "import keras\n",
    "import pickle\n",
    "import gzip\n",
    "import os\n",
    "import random\n",
    "import matplotlib.pyplot as plt\n",
    "%matplotlib nbagg"
   ]
  },
  {
   "cell_type": "code",
   "execution_count": 2,
   "metadata": {},
   "outputs": [
    {
     "data": {
      "text/plain": [
       "(tuple, 2)"
      ]
     },
     "execution_count": 2,
     "metadata": {},
     "output_type": "execute_result"
    }
   ],
   "source": [
    "with gzip.open('train_cases.pkl.gz','rb') as fp:\n",
    "    train_cases = pickle.load(fp)\n",
    "type(train_cases), len(train_cases)"
   ]
  },
  {
   "cell_type": "code",
   "execution_count": 3,
   "metadata": {},
   "outputs": [
    {
     "data": {
      "text/plain": [
       "(numpy.ndarray,\n",
       " (16384, 16, 16, 128),\n",
       " dtype('float32'),\n",
       " numpy.ndarray,\n",
       " (16384, 1),\n",
       " dtype('float64'))"
      ]
     },
     "execution_count": 3,
     "metadata": {},
     "output_type": "execute_result"
    }
   ],
   "source": [
    "train_X = train_cases[0]\n",
    "train_y = train_cases[1]\n",
    "ntrain = train_X.shape[0]\n",
    "type(train_X), train_X.shape, train_X.dtype, type(train_y), train_y.shape, train_y.dtype"
   ]
  },
  {
   "cell_type": "code",
   "execution_count": 4,
   "metadata": {},
   "outputs": [
    {
     "data": {
      "text/plain": [
       "(numpy.ndarray,\n",
       " (4096, 16, 16, 128),\n",
       " dtype('float32'),\n",
       " numpy.ndarray,\n",
       " (4096, 1),\n",
       " dtype('float64'))"
      ]
     },
     "execution_count": 4,
     "metadata": {},
     "output_type": "execute_result"
    }
   ],
   "source": [
    "with gzip.open('valid_cases.pkl.gz','rb') as fp:\n",
    "    valid_cases = pickle.load(fp)\n",
    "valid_X = valid_cases[0]\n",
    "valid_y = valid_cases[1]\n",
    "nvalid = valid_X.shape[0]\n",
    "type(valid_X), valid_X.shape, valid_X.dtype, type(valid_y), valid_y.shape, valid_y.dtype"
   ]
  },
  {
   "cell_type": "code",
   "execution_count": 5,
   "metadata": {},
   "outputs": [],
   "source": [
    "def choose_training_case():\n",
    "    i = random.randint(0, ntrain-1)\n",
    "    return(train_X[i,:,:,:], train_y[i,:])\n",
    "\n",
    "def choose_validation_case():\n",
    "    i = random.randint(0, nvalid-1)\n",
    "    return(valid_X[i,:,:,:], valid_y[i,:])"
   ]
  },
  {
   "cell_type": "code",
   "execution_count": 6,
   "metadata": {},
   "outputs": [],
   "source": [
    "def make_batch_from_megabatch(batchsize=32, validation=False):\n",
    "    get_case = choose_validation_case if validation else choose_training_case    \n",
    "    xbatch = np.empty([0, INPUTS_PER_BEAT, NBEATS, NCHANNELS],dtype=np.float32)\n",
    "    ybatch = np.empty([0, 1])\n",
    "    for i in range(batchsize):\n",
    "        case = get_case()\n",
    "        x = np.expand_dims(case[0], axis=0)\n",
    "        xbatch = np.concatenate([xbatch, x], axis=0)\n",
    "        y = np.array(int(case[1])).reshape([1,1])\n",
    "        ybatch = np.concatenate([ybatch, y], axis=0)\n",
    "    return(xbatch, ybatch)\n",
    "\n",
    "def train_gen(batchsize=32):\n",
    "    while True:\n",
    "        yield(make_batch_from_megabatch(batchsize, validation=False))\n",
    "\n",
    "def valid_gen(batchsize=32):\n",
    "    while True:\n",
    "        yield(make_batch_from_megabatch(batchsize, validation=True))"
   ]
  },
  {
   "cell_type": "code",
   "execution_count": 7,
   "metadata": {},
   "outputs": [
    {
     "data": {
      "text/plain": [
       "((32, 16, 16, 128), (32, 1))"
      ]
     },
     "execution_count": 7,
     "metadata": {},
     "output_type": "execute_result"
    }
   ],
   "source": [
    "# The generators are way too slow: have to fix this\n",
    "for t in train_gen():\n",
    "    break\n",
    "t[0].shape, t[1].shape"
   ]
  },
  {
   "cell_type": "code",
   "execution_count": 8,
   "metadata": {},
   "outputs": [
    {
     "data": {
      "text/plain": [
       "((32, 16, 16, 128), (32, 1))"
      ]
     },
     "execution_count": 8,
     "metadata": {},
     "output_type": "execute_result"
    }
   ],
   "source": [
    "for v in valid_gen():\n",
    "    break\n",
    "v[0].shape, v[1].shape"
   ]
  },
  {
   "cell_type": "code",
   "execution_count": 9,
   "metadata": {},
   "outputs": [],
   "source": [
    "input_shape = (INPUTS_PER_BEAT, NBEATS, NCHANNELS)\n",
    "\n",
    "model = keras.Sequential()\n",
    "model.add(keras.layers.Conv2D(64, 1, activation='relu', input_shape=input_shape))\n",
    "model.add(keras.layers.BatchNormalization())\n",
    "model.add(keras.layers.Conv2D(32, 1, activation='relu'))\n",
    "model.add(keras.layers.BatchNormalization())\n",
    "model.add(keras.layers.Conv2D(16, (2,4), activation='relu'))\n",
    "model.add(keras.layers.BatchNormalization())\n",
    "model.add(keras.layers.Conv2D(25, (4,6), activation='relu'))\n",
    "model.add(keras.layers.BatchNormalization())\n",
    "model.add(keras.layers.Conv2D(4, (2,4), activation='relu'))\n",
    "model.add(keras.layers.Flatten())\n",
    "model.add(keras.layers.Dropout(.5))\n",
    "model.add(keras.layers.Dense(1, activation='sigmoid'))"
   ]
  },
  {
   "cell_type": "code",
   "execution_count": 10,
   "metadata": {},
   "outputs": [],
   "source": [
    "model.compile(loss='binary_crossentropy', optimizer='adam', metrics=['accuracy'])"
   ]
  },
  {
   "cell_type": "code",
   "execution_count": 11,
   "metadata": {},
   "outputs": [
    {
     "name": "stdout",
     "output_type": "stream",
     "text": [
      "_________________________________________________________________\n",
      "Layer (type)                 Output Shape              Param #   \n",
      "=================================================================\n",
      "conv2d_1 (Conv2D)            (None, 16, 16, 64)        8256      \n",
      "_________________________________________________________________\n",
      "batch_normalization_1 (Batch (None, 16, 16, 64)        256       \n",
      "_________________________________________________________________\n",
      "conv2d_2 (Conv2D)            (None, 16, 16, 32)        2080      \n",
      "_________________________________________________________________\n",
      "batch_normalization_2 (Batch (None, 16, 16, 32)        128       \n",
      "_________________________________________________________________\n",
      "conv2d_3 (Conv2D)            (None, 15, 13, 16)        4112      \n",
      "_________________________________________________________________\n",
      "batch_normalization_3 (Batch (None, 15, 13, 16)        64        \n",
      "_________________________________________________________________\n",
      "conv2d_4 (Conv2D)            (None, 12, 8, 25)         9625      \n",
      "_________________________________________________________________\n",
      "batch_normalization_4 (Batch (None, 12, 8, 25)         100       \n",
      "_________________________________________________________________\n",
      "conv2d_5 (Conv2D)            (None, 11, 5, 4)          804       \n",
      "_________________________________________________________________\n",
      "flatten_1 (Flatten)          (None, 220)               0         \n",
      "_________________________________________________________________\n",
      "dropout_1 (Dropout)          (None, 220)               0         \n",
      "_________________________________________________________________\n",
      "dense_1 (Dense)              (None, 1)                 221       \n",
      "=================================================================\n",
      "Total params: 25,646\n",
      "Trainable params: 25,372\n",
      "Non-trainable params: 274\n",
      "_________________________________________________________________\n"
     ]
    }
   ],
   "source": [
    "model.summary()"
   ]
  },
  {
   "cell_type": "code",
   "execution_count": 12,
   "metadata": {
    "scrolled": true
   },
   "outputs": [
    {
     "name": "stdout",
     "output_type": "stream",
     "text": [
      "Epoch 1/60\n",
      "64/64 [==============================] - 2s 31ms/step - loss: 0.6334 - acc: 0.7231 - val_loss: 0.5866 - val_acc: 0.7607\n",
      "Epoch 2/60\n",
      "64/64 [==============================] - 1s 13ms/step - loss: 0.5689 - acc: 0.7559 - val_loss: 0.5743 - val_acc: 0.7617\n",
      "Epoch 3/60\n",
      "64/64 [==============================] - 1s 13ms/step - loss: 0.5730 - acc: 0.7539 - val_loss: 0.5437 - val_acc: 0.7617\n",
      "Epoch 4/60\n",
      "64/64 [==============================] - 1s 13ms/step - loss: 0.5432 - acc: 0.7588 - val_loss: 0.5556 - val_acc: 0.7617\n",
      "Epoch 5/60\n",
      "64/64 [==============================] - 1s 13ms/step - loss: 0.5461 - acc: 0.7515 - val_loss: 0.5849 - val_acc: 0.7637\n",
      "Epoch 6/60\n",
      "64/64 [==============================] - 1s 13ms/step - loss: 0.5318 - acc: 0.7690 - val_loss: 0.5975 - val_acc: 0.7500\n",
      "Epoch 7/60\n",
      "64/64 [==============================] - 1s 13ms/step - loss: 0.5088 - acc: 0.7822 - val_loss: 0.5550 - val_acc: 0.7563\n",
      "Epoch 8/60\n",
      "64/64 [==============================] - 1s 13ms/step - loss: 0.5195 - acc: 0.7695 - val_loss: 0.5448 - val_acc: 0.7466\n",
      "Epoch 9/60\n",
      "64/64 [==============================] - 1s 14ms/step - loss: 0.5067 - acc: 0.7520 - val_loss: 0.5041 - val_acc: 0.7778\n",
      "Epoch 10/60\n",
      "64/64 [==============================] - 1s 13ms/step - loss: 0.4677 - acc: 0.7710 - val_loss: 0.5301 - val_acc: 0.7637\n",
      "Epoch 11/60\n",
      "64/64 [==============================] - 1s 14ms/step - loss: 0.4697 - acc: 0.7686 - val_loss: 0.4976 - val_acc: 0.7559\n",
      "Epoch 12/60\n",
      "64/64 [==============================] - 1s 14ms/step - loss: 0.4549 - acc: 0.7646 - val_loss: 0.4751 - val_acc: 0.7646\n",
      "Epoch 13/60\n",
      "64/64 [==============================] - 1s 13ms/step - loss: 0.4211 - acc: 0.7720 - val_loss: 0.4982 - val_acc: 0.7544\n",
      "Epoch 14/60\n",
      "64/64 [==============================] - 1s 13ms/step - loss: 0.4185 - acc: 0.7739 - val_loss: 0.4563 - val_acc: 0.7783\n",
      "Epoch 15/60\n",
      "64/64 [==============================] - 1s 13ms/step - loss: 0.3976 - acc: 0.7954 - val_loss: 0.4318 - val_acc: 0.7715\n",
      "Epoch 16/60\n",
      "64/64 [==============================] - 1s 13ms/step - loss: 0.3829 - acc: 0.7993 - val_loss: 0.4264 - val_acc: 0.7739\n",
      "Epoch 17/60\n",
      "64/64 [==============================] - 1s 13ms/step - loss: 0.3792 - acc: 0.8101 - val_loss: 0.4289 - val_acc: 0.7744\n",
      "Epoch 18/60\n",
      "64/64 [==============================] - 1s 13ms/step - loss: 0.3533 - acc: 0.8232 - val_loss: 0.4160 - val_acc: 0.7979\n",
      "Epoch 19/60\n",
      "64/64 [==============================] - 1s 13ms/step - loss: 0.3542 - acc: 0.8252 - val_loss: 0.4417 - val_acc: 0.7905\n",
      "Epoch 20/60\n",
      "64/64 [==============================] - 1s 13ms/step - loss: 0.3308 - acc: 0.8345 - val_loss: 0.3995 - val_acc: 0.8062\n",
      "Epoch 21/60\n",
      "64/64 [==============================] - 1s 13ms/step - loss: 0.3276 - acc: 0.8506 - val_loss: 0.3879 - val_acc: 0.8027\n",
      "Epoch 22/60\n",
      "64/64 [==============================] - 1s 14ms/step - loss: 0.2953 - acc: 0.8682 - val_loss: 0.4626 - val_acc: 0.8037\n",
      "Epoch 23/60\n",
      "64/64 [==============================] - 1s 13ms/step - loss: 0.3303 - acc: 0.8521 - val_loss: 0.3619 - val_acc: 0.8496\n",
      "Epoch 24/60\n",
      "64/64 [==============================] - 1s 13ms/step - loss: 0.3056 - acc: 0.8667 - val_loss: 0.3535 - val_acc: 0.8472\n",
      "Epoch 25/60\n",
      "64/64 [==============================] - 1s 13ms/step - loss: 0.2728 - acc: 0.8848 - val_loss: 0.3705 - val_acc: 0.8394\n",
      "Epoch 26/60\n",
      "64/64 [==============================] - 1s 14ms/step - loss: 0.2818 - acc: 0.8848 - val_loss: 0.3364 - val_acc: 0.8687\n",
      "Epoch 27/60\n",
      "64/64 [==============================] - 1s 14ms/step - loss: 0.2684 - acc: 0.8916 - val_loss: 0.4144 - val_acc: 0.8657\n",
      "Epoch 28/60\n",
      "64/64 [==============================] - 1s 13ms/step - loss: 0.2718 - acc: 0.8979 - val_loss: 0.3608 - val_acc: 0.8540\n",
      "Epoch 29/60\n",
      "64/64 [==============================] - 1s 14ms/step - loss: 0.2626 - acc: 0.8901 - val_loss: 0.3426 - val_acc: 0.8535\n",
      "Epoch 30/60\n",
      "64/64 [==============================] - 1s 14ms/step - loss: 0.2631 - acc: 0.9023 - val_loss: 0.3595 - val_acc: 0.8472\n",
      "Epoch 31/60\n",
      "64/64 [==============================] - 1s 14ms/step - loss: 0.2536 - acc: 0.9058 - val_loss: 0.3253 - val_acc: 0.8774\n",
      "Epoch 32/60\n",
      "64/64 [==============================] - 1s 13ms/step - loss: 0.2318 - acc: 0.9082 - val_loss: 0.3122 - val_acc: 0.8672\n",
      "Epoch 33/60\n",
      "64/64 [==============================] - 1s 14ms/step - loss: 0.2580 - acc: 0.9087 - val_loss: 0.3068 - val_acc: 0.8691\n",
      "Epoch 34/60\n",
      "64/64 [==============================] - 1s 14ms/step - loss: 0.2352 - acc: 0.9131 - val_loss: 0.3193 - val_acc: 0.8828\n",
      "Epoch 35/60\n",
      "64/64 [==============================] - 1s 13ms/step - loss: 0.2397 - acc: 0.9106 - val_loss: 0.3114 - val_acc: 0.8662\n",
      "Epoch 36/60\n",
      "64/64 [==============================] - 1s 13ms/step - loss: 0.2344 - acc: 0.9077 - val_loss: 0.3503 - val_acc: 0.8501\n",
      "Epoch 37/60\n",
      "64/64 [==============================] - 1s 13ms/step - loss: 0.2086 - acc: 0.9189 - val_loss: 0.3114 - val_acc: 0.8745\n",
      "Epoch 38/60\n",
      "64/64 [==============================] - 1s 13ms/step - loss: 0.2065 - acc: 0.9297 - val_loss: 0.3427 - val_acc: 0.8633\n",
      "Epoch 39/60\n",
      "64/64 [==============================] - 1s 14ms/step - loss: 0.2079 - acc: 0.9229 - val_loss: 0.2804 - val_acc: 0.8853\n",
      "Epoch 40/60\n",
      "64/64 [==============================] - 1s 13ms/step - loss: 0.2095 - acc: 0.9160 - val_loss: 0.2964 - val_acc: 0.8770\n",
      "Epoch 41/60\n",
      "64/64 [==============================] - 1s 14ms/step - loss: 0.2213 - acc: 0.9111 - val_loss: 0.3120 - val_acc: 0.8569\n",
      "Epoch 42/60\n",
      "64/64 [==============================] - 1s 14ms/step - loss: 0.2225 - acc: 0.9141 - val_loss: 0.3305 - val_acc: 0.8501\n",
      "Epoch 43/60\n",
      "64/64 [==============================] - 1s 14ms/step - loss: 0.2110 - acc: 0.9224 - val_loss: 0.3361 - val_acc: 0.8423\n",
      "Epoch 44/60\n",
      "64/64 [==============================] - 1s 13ms/step - loss: 0.2023 - acc: 0.9243 - val_loss: 0.3034 - val_acc: 0.8833\n",
      "Epoch 45/60\n",
      "64/64 [==============================] - 1s 14ms/step - loss: 0.2059 - acc: 0.9194 - val_loss: 0.2719 - val_acc: 0.8770\n",
      "Epoch 46/60\n",
      "64/64 [==============================] - 1s 14ms/step - loss: 0.2014 - acc: 0.9268 - val_loss: 0.3449 - val_acc: 0.8369\n",
      "Epoch 47/60\n",
      "64/64 [==============================] - 1s 14ms/step - loss: 0.1778 - acc: 0.9268 - val_loss: 0.2866 - val_acc: 0.8770\n",
      "Epoch 48/60\n",
      "64/64 [==============================] - 1s 14ms/step - loss: 0.1924 - acc: 0.9312 - val_loss: 0.2874 - val_acc: 0.8750\n",
      "Epoch 49/60\n",
      "64/64 [==============================] - 1s 14ms/step - loss: 0.1719 - acc: 0.9346 - val_loss: 0.2711 - val_acc: 0.8970\n",
      "Epoch 50/60\n",
      "64/64 [==============================] - 1s 14ms/step - loss: 0.1795 - acc: 0.9326 - val_loss: 0.2781 - val_acc: 0.8872\n",
      "Epoch 51/60\n",
      "64/64 [==============================] - 1s 13ms/step - loss: 0.1769 - acc: 0.9380 - val_loss: 0.3358 - val_acc: 0.8394\n",
      "Epoch 52/60\n",
      "64/64 [==============================] - 1s 14ms/step - loss: 0.1775 - acc: 0.9434 - val_loss: 0.2949 - val_acc: 0.8813\n",
      "Epoch 53/60\n",
      "64/64 [==============================] - 1s 14ms/step - loss: 0.1745 - acc: 0.9375 - val_loss: 0.2845 - val_acc: 0.8818\n",
      "Epoch 54/60\n",
      "64/64 [==============================] - 1s 13ms/step - loss: 0.1711 - acc: 0.9390 - val_loss: 0.2790 - val_acc: 0.8838\n",
      "Epoch 55/60\n",
      "64/64 [==============================] - 1s 13ms/step - loss: 0.1709 - acc: 0.9390 - val_loss: 0.2952 - val_acc: 0.8799\n",
      "Epoch 56/60\n",
      "64/64 [==============================] - 1s 14ms/step - loss: 0.1688 - acc: 0.9429 - val_loss: 0.2969 - val_acc: 0.8794\n",
      "Epoch 57/60\n",
      "64/64 [==============================] - 1s 14ms/step - loss: 0.1719 - acc: 0.9414 - val_loss: 0.2802 - val_acc: 0.8828\n",
      "Epoch 58/60\n",
      "64/64 [==============================] - 1s 14ms/step - loss: 0.1527 - acc: 0.9482 - val_loss: 0.3005 - val_acc: 0.8848\n",
      "Epoch 59/60\n",
      "64/64 [==============================] - 1s 14ms/step - loss: 0.1582 - acc: 0.9487 - val_loss: 0.2994 - val_acc: 0.8730\n",
      "Epoch 60/60\n",
      "64/64 [==============================] - 1s 14ms/step - loss: 0.1636 - acc: 0.9390 - val_loss: 0.2837 - val_acc: 0.8965\n"
     ]
    },
    {
     "data": {
      "text/plain": [
       "<keras.callbacks.History at 0x7fb56c37c2b0>"
      ]
     },
     "execution_count": 12,
     "metadata": {},
     "output_type": "execute_result"
    }
   ],
   "source": [
    "valid=valid_gen()\n",
    "train=train_gen()\n",
    "model.fit_generator(train, \n",
    "                    validation_data=valid, validation_steps=64,\n",
    "                    epochs=60, \n",
    "                    steps_per_epoch=64)"
   ]
  },
  {
   "cell_type": "code",
   "execution_count": 13,
   "metadata": {},
   "outputs": [
    {
     "name": "stdout",
     "output_type": "stream",
     "text": [
      "IThinkWereAloneNow2MP 52\n",
      "Predicted:  6.7001645e-05    Actual:  False \n",
      "\n",
      "CaliforniaDreamin2MP 75\n",
      "Predicted:  0.0014574128    Actual:  False \n",
      "\n",
      "CaliforniaDreamin2MP 115\n",
      "Predicted:  0.8103769    Actual:  True \n",
      "\n",
      "ImLookingThruYou 69\n",
      "Predicted:  0.0011481057    Actual:  False \n",
      "\n",
      "Kalamazoo 61\n",
      "Predicted:  0.73571277    Actual:  False \n",
      "\n",
      "HangingOnTheTelephone 76\n",
      "Predicted:  0.7902268    Actual:  False \n",
      "\n",
      "IllBeThereForYou 64\n",
      "Predicted:  0.0027224075    Actual:  False \n",
      "\n",
      "ChatanoogaChooChoo 235\n",
      "Predicted:  0.033283927    Actual:  False \n",
      "\n",
      "ImLookingThruYou 43\n",
      "Predicted:  0.6510532    Actual:  False \n",
      "\n",
      "IllBeThereForYou 191\n",
      "Predicted:  0.77247924    Actual:  True \n",
      "\n"
     ]
    }
   ],
   "source": [
    "for i in range(10):\n",
    "    song, tempo, compatible, clip = get_validation_case()\n",
    "    print( song, tempo )\n",
    "    c = clip_to_tf_input(resample_clip(clip))\n",
    "    x = np.expand_dims(c, axis=0)\n",
    "    p = model.predict(x)[0][0]\n",
    "    print( 'Predicted: ', p, '   Actual: ', compatible, '\\n' )"
   ]
  },
  {
   "cell_type": "code",
   "execution_count": null,
   "metadata": {},
   "outputs": [],
   "source": []
  }
 ],
 "metadata": {
  "kernelspec": {
   "display_name": "Python 3",
   "language": "python",
   "name": "python3"
  },
  "language_info": {
   "codemirror_mode": {
    "name": "ipython",
    "version": 3
   },
   "file_extension": ".py",
   "mimetype": "text/x-python",
   "name": "python",
   "nbconvert_exporter": "python",
   "pygments_lexer": "ipython3",
   "version": "3.6.6"
  }
 },
 "nbformat": 4,
 "nbformat_minor": 2
}

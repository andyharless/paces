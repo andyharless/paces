{
 "cells": [
  {
   "cell_type": "code",
   "execution_count": 1,
   "metadata": {},
   "outputs": [
    {
     "name": "stderr",
     "output_type": "stream",
     "text": [
      "/home/andy/.local/lib/python3.6/site-packages/h5py/__init__.py:36: FutureWarning: Conversion of the second argument of issubdtype from `float` to `np.floating` is deprecated. In future, it will be treated as `np.float64 == np.dtype(float).type`.\n",
      "  from ._conv import register_converters as _register_converters\n",
      "Using TensorFlow backend.\n"
     ]
    }
   ],
   "source": [
    "from get_training_data import *\n",
    "\n",
    "import tensorflow as tf\n",
    "import keras\n",
    "import pickle\n",
    "import gzip\n",
    "import os\n",
    "import random\n",
    "import matplotlib.pyplot as plt\n",
    "%matplotlib nbagg"
   ]
  },
  {
   "cell_type": "code",
   "execution_count": 2,
   "metadata": {},
   "outputs": [
    {
     "data": {
      "text/plain": [
       "(tuple, 2)"
      ]
     },
     "execution_count": 2,
     "metadata": {},
     "output_type": "execute_result"
    }
   ],
   "source": [
    "with gzip.open('train_cases.pkl.gz','rb') as fp:\n",
    "    train_cases = pickle.load(fp)\n",
    "type(train_cases), len(train_cases)"
   ]
  },
  {
   "cell_type": "code",
   "execution_count": 3,
   "metadata": {},
   "outputs": [
    {
     "data": {
      "text/plain": [
       "(numpy.ndarray,\n",
       " (16384, 16, 16, 128),\n",
       " dtype('float32'),\n",
       " numpy.ndarray,\n",
       " (16384, 1),\n",
       " dtype('float64'))"
      ]
     },
     "execution_count": 3,
     "metadata": {},
     "output_type": "execute_result"
    }
   ],
   "source": [
    "train_X = train_cases[0]\n",
    "train_y = train_cases[1]\n",
    "ntrain = train_X.shape[0]\n",
    "type(train_X), train_X.shape, train_X.dtype, type(train_y), train_y.shape, train_y.dtype"
   ]
  },
  {
   "cell_type": "code",
   "execution_count": 4,
   "metadata": {},
   "outputs": [
    {
     "data": {
      "text/plain": [
       "(numpy.ndarray,\n",
       " (4096, 16, 16, 128),\n",
       " dtype('float32'),\n",
       " numpy.ndarray,\n",
       " (4096, 1),\n",
       " dtype('float64'))"
      ]
     },
     "execution_count": 4,
     "metadata": {},
     "output_type": "execute_result"
    }
   ],
   "source": [
    "with gzip.open('valid_cases.pkl.gz','rb') as fp:\n",
    "    valid_cases = pickle.load(fp)\n",
    "valid_X = valid_cases[0]\n",
    "valid_y = valid_cases[1]\n",
    "nvalid = valid_X.shape[0]\n",
    "type(valid_X), valid_X.shape, valid_X.dtype, type(valid_y), valid_y.shape, valid_y.dtype"
   ]
  },
  {
   "cell_type": "code",
   "execution_count": 5,
   "metadata": {},
   "outputs": [],
   "source": [
    "def choose_training_case():\n",
    "    i = random.randint(0, ntrain-1)\n",
    "    return(train_X[i,:,:,:], train_y[i,:])\n",
    "\n",
    "def choose_validation_case():\n",
    "    i = random.randint(0, nvalid-1)\n",
    "    return(valid_X[i,:,:,:], valid_y[i,:])"
   ]
  },
  {
   "cell_type": "code",
   "execution_count": 6,
   "metadata": {},
   "outputs": [],
   "source": [
    "def make_batch_from_megabatch(batchsize=32, validation=False):\n",
    "    get_case = choose_validation_case if validation else choose_training_case    \n",
    "    xbatch = np.empty([0, INPUTS_PER_BEAT, NBEATS, NCHANNELS],dtype=np.float32)\n",
    "    ybatch = np.empty([0, 1])\n",
    "    for i in range(batchsize):\n",
    "        case = get_case()\n",
    "        x = np.expand_dims(case[0], axis=0)\n",
    "        xbatch = np.concatenate([xbatch, x], axis=0)\n",
    "        y = np.array(int(case[1])).reshape([1,1])\n",
    "        ybatch = np.concatenate([ybatch, y], axis=0)\n",
    "    return(xbatch, ybatch)\n",
    "\n",
    "def train_gen(batchsize=32):\n",
    "    while True:\n",
    "        yield(make_batch_from_megabatch(batchsize, validation=False))\n",
    "\n",
    "def valid_gen(batchsize=32):\n",
    "    while True:\n",
    "        yield(make_batch_from_megabatch(batchsize, validation=True))"
   ]
  },
  {
   "cell_type": "code",
   "execution_count": 7,
   "metadata": {},
   "outputs": [
    {
     "data": {
      "text/plain": [
       "((32, 16, 16, 128), (32, 1))"
      ]
     },
     "execution_count": 7,
     "metadata": {},
     "output_type": "execute_result"
    }
   ],
   "source": [
    "# The generators are way too slow: have to fix this\n",
    "for t in train_gen():\n",
    "    break\n",
    "t[0].shape, t[1].shape"
   ]
  },
  {
   "cell_type": "code",
   "execution_count": 8,
   "metadata": {},
   "outputs": [
    {
     "data": {
      "text/plain": [
       "((32, 16, 16, 128), (32, 1))"
      ]
     },
     "execution_count": 8,
     "metadata": {},
     "output_type": "execute_result"
    }
   ],
   "source": [
    "for v in valid_gen():\n",
    "    break\n",
    "v[0].shape, v[1].shape"
   ]
  },
  {
   "cell_type": "code",
   "execution_count": 9,
   "metadata": {},
   "outputs": [],
   "source": [
    "input_shape = (INPUTS_PER_BEAT, NBEATS, NCHANNELS)\n",
    "\n",
    "model = keras.Sequential()\n",
    "model.add(keras.layers.Conv2D(64, 1, activation='relu', input_shape=input_shape))\n",
    "model.add(keras.layers.BatchNormalization())\n",
    "model.add(keras.layers.Conv2D(32, 1, activation='relu'))\n",
    "model.add(keras.layers.BatchNormalization())\n",
    "model.add(keras.layers.Conv2D(16, (2,4), activation='relu'))\n",
    "model.add(keras.layers.BatchNormalization())\n",
    "model.add(keras.layers.Conv2D(25, 5, activation='relu'))\n",
    "model.add(keras.layers.BatchNormalization())\n",
    "model.add(keras.layers.Conv2D(4, 3, activation='relu'))\n",
    "model.add(keras.layers.Flatten())\n",
    "model.add(keras.layers.Dropout(.5))\n",
    "model.add(keras.layers.Dense(1, activation='sigmoid'))"
   ]
  },
  {
   "cell_type": "code",
   "execution_count": 10,
   "metadata": {},
   "outputs": [],
   "source": [
    "model.compile(loss='binary_crossentropy', optimizer='adam', metrics=['accuracy'])"
   ]
  },
  {
   "cell_type": "code",
   "execution_count": 11,
   "metadata": {},
   "outputs": [
    {
     "name": "stdout",
     "output_type": "stream",
     "text": [
      "_________________________________________________________________\n",
      "Layer (type)                 Output Shape              Param #   \n",
      "=================================================================\n",
      "conv2d_1 (Conv2D)            (None, 16, 16, 64)        8256      \n",
      "_________________________________________________________________\n",
      "batch_normalization_1 (Batch (None, 16, 16, 64)        256       \n",
      "_________________________________________________________________\n",
      "conv2d_2 (Conv2D)            (None, 16, 16, 32)        2080      \n",
      "_________________________________________________________________\n",
      "batch_normalization_2 (Batch (None, 16, 16, 32)        128       \n",
      "_________________________________________________________________\n",
      "conv2d_3 (Conv2D)            (None, 15, 13, 16)        4112      \n",
      "_________________________________________________________________\n",
      "batch_normalization_3 (Batch (None, 15, 13, 16)        64        \n",
      "_________________________________________________________________\n",
      "conv2d_4 (Conv2D)            (None, 11, 9, 25)         10025     \n",
      "_________________________________________________________________\n",
      "batch_normalization_4 (Batch (None, 11, 9, 25)         100       \n",
      "_________________________________________________________________\n",
      "conv2d_5 (Conv2D)            (None, 9, 7, 4)           904       \n",
      "_________________________________________________________________\n",
      "flatten_1 (Flatten)          (None, 252)               0         \n",
      "_________________________________________________________________\n",
      "dropout_1 (Dropout)          (None, 252)               0         \n",
      "_________________________________________________________________\n",
      "dense_1 (Dense)              (None, 1)                 253       \n",
      "=================================================================\n",
      "Total params: 26,178\n",
      "Trainable params: 25,904\n",
      "Non-trainable params: 274\n",
      "_________________________________________________________________\n"
     ]
    }
   ],
   "source": [
    "model.summary()"
   ]
  },
  {
   "cell_type": "code",
   "execution_count": 12,
   "metadata": {
    "scrolled": true
   },
   "outputs": [
    {
     "name": "stdout",
     "output_type": "stream",
     "text": [
      "Epoch 1/60\n",
      "64/64 [==============================] - 2s 31ms/step - loss: 0.6561 - acc: 0.6904 - val_loss: 0.6319 - val_acc: 0.7280\n",
      "Epoch 2/60\n",
      "64/64 [==============================] - 1s 13ms/step - loss: 0.5931 - acc: 0.7417 - val_loss: 0.5959 - val_acc: 0.7329\n",
      "Epoch 3/60\n",
      "64/64 [==============================] - 1s 13ms/step - loss: 0.5672 - acc: 0.7568 - val_loss: 0.5445 - val_acc: 0.7666\n",
      "Epoch 4/60\n",
      "64/64 [==============================] - 1s 13ms/step - loss: 0.5392 - acc: 0.7681 - val_loss: 0.5402 - val_acc: 0.7725\n",
      "Epoch 5/60\n",
      "64/64 [==============================] - 1s 14ms/step - loss: 0.5195 - acc: 0.7812 - val_loss: 0.5527 - val_acc: 0.7510\n",
      "Epoch 6/60\n",
      "64/64 [==============================] - 1s 13ms/step - loss: 0.5553 - acc: 0.7534 - val_loss: 0.5719 - val_acc: 0.7729\n",
      "Epoch 7/60\n",
      "64/64 [==============================] - 1s 13ms/step - loss: 0.5198 - acc: 0.7661 - val_loss: 0.5150 - val_acc: 0.7705\n",
      "Epoch 8/60\n",
      "64/64 [==============================] - 1s 13ms/step - loss: 0.5131 - acc: 0.7705 - val_loss: 0.5160 - val_acc: 0.7632\n",
      "Epoch 9/60\n",
      "64/64 [==============================] - 1s 13ms/step - loss: 0.4849 - acc: 0.7656 - val_loss: 0.5134 - val_acc: 0.7603\n",
      "Epoch 10/60\n",
      "64/64 [==============================] - 1s 13ms/step - loss: 0.4707 - acc: 0.7725 - val_loss: 0.5165 - val_acc: 0.7578\n",
      "Epoch 11/60\n",
      "64/64 [==============================] - 1s 13ms/step - loss: 0.4555 - acc: 0.7852 - val_loss: 0.4924 - val_acc: 0.7573\n",
      "Epoch 12/60\n",
      "64/64 [==============================] - 1s 13ms/step - loss: 0.4216 - acc: 0.7822 - val_loss: 0.5531 - val_acc: 0.7676\n",
      "Epoch 13/60\n",
      "64/64 [==============================] - 1s 13ms/step - loss: 0.4193 - acc: 0.7900 - val_loss: 0.4704 - val_acc: 0.7598\n",
      "Epoch 14/60\n",
      "64/64 [==============================] - 1s 14ms/step - loss: 0.4387 - acc: 0.7725 - val_loss: 0.4744 - val_acc: 0.7622\n",
      "Epoch 15/60\n",
      "64/64 [==============================] - 1s 13ms/step - loss: 0.3994 - acc: 0.7871 - val_loss: 0.4641 - val_acc: 0.7803\n",
      "Epoch 16/60\n",
      "64/64 [==============================] - 1s 13ms/step - loss: 0.3968 - acc: 0.7822 - val_loss: 0.4704 - val_acc: 0.7676\n",
      "Epoch 17/60\n",
      "64/64 [==============================] - 1s 13ms/step - loss: 0.3997 - acc: 0.7939 - val_loss: 0.4740 - val_acc: 0.7686\n",
      "Epoch 18/60\n",
      "64/64 [==============================] - 1s 13ms/step - loss: 0.3925 - acc: 0.8013 - val_loss: 0.4294 - val_acc: 0.7744\n",
      "Epoch 19/60\n",
      "64/64 [==============================] - 1s 13ms/step - loss: 0.3772 - acc: 0.8003 - val_loss: 0.4520 - val_acc: 0.7891\n",
      "Epoch 20/60\n",
      "64/64 [==============================] - 1s 13ms/step - loss: 0.3915 - acc: 0.8062 - val_loss: 0.6189 - val_acc: 0.6562\n",
      "Epoch 21/60\n",
      "64/64 [==============================] - 1s 14ms/step - loss: 0.3799 - acc: 0.8228 - val_loss: 0.4392 - val_acc: 0.8066\n",
      "Epoch 22/60\n",
      "64/64 [==============================] - 1s 14ms/step - loss: 0.3529 - acc: 0.8296 - val_loss: 0.4210 - val_acc: 0.7974\n",
      "Epoch 23/60\n",
      "64/64 [==============================] - 1s 13ms/step - loss: 0.3544 - acc: 0.8369 - val_loss: 0.3889 - val_acc: 0.8115\n",
      "Epoch 24/60\n",
      "64/64 [==============================] - 1s 14ms/step - loss: 0.3333 - acc: 0.8579 - val_loss: 0.4788 - val_acc: 0.7627\n",
      "Epoch 25/60\n",
      "64/64 [==============================] - 1s 14ms/step - loss: 0.3416 - acc: 0.8276 - val_loss: 0.4144 - val_acc: 0.8286\n",
      "Epoch 26/60\n",
      "64/64 [==============================] - 1s 14ms/step - loss: 0.3280 - acc: 0.8506 - val_loss: 0.3898 - val_acc: 0.8193\n",
      "Epoch 27/60\n",
      "64/64 [==============================] - 1s 14ms/step - loss: 0.3226 - acc: 0.8486 - val_loss: 0.3433 - val_acc: 0.8496\n",
      "Epoch 28/60\n",
      "64/64 [==============================] - 1s 13ms/step - loss: 0.3070 - acc: 0.8716 - val_loss: 0.3512 - val_acc: 0.8584\n",
      "Epoch 29/60\n",
      "64/64 [==============================] - 1s 13ms/step - loss: 0.2887 - acc: 0.8804 - val_loss: 0.3693 - val_acc: 0.8447\n",
      "Epoch 30/60\n",
      "64/64 [==============================] - 1s 13ms/step - loss: 0.3084 - acc: 0.8721 - val_loss: 0.3608 - val_acc: 0.8516\n",
      "Epoch 31/60\n",
      "64/64 [==============================] - 1s 13ms/step - loss: 0.2861 - acc: 0.8765 - val_loss: 0.3472 - val_acc: 0.8638\n",
      "Epoch 32/60\n",
      "64/64 [==============================] - 1s 13ms/step - loss: 0.2773 - acc: 0.8872 - val_loss: 0.4201 - val_acc: 0.8306\n",
      "Epoch 33/60\n",
      "64/64 [==============================] - 1s 14ms/step - loss: 0.2644 - acc: 0.8872 - val_loss: 0.2854 - val_acc: 0.8887\n",
      "Epoch 34/60\n",
      "64/64 [==============================] - 1s 14ms/step - loss: 0.2929 - acc: 0.8755 - val_loss: 0.3239 - val_acc: 0.8594\n",
      "Epoch 35/60\n",
      "64/64 [==============================] - 1s 14ms/step - loss: 0.2872 - acc: 0.8823 - val_loss: 0.3316 - val_acc: 0.8667\n",
      "Epoch 36/60\n",
      "64/64 [==============================] - 1s 14ms/step - loss: 0.2550 - acc: 0.8926 - val_loss: 0.3248 - val_acc: 0.8589\n",
      "Epoch 37/60\n",
      "64/64 [==============================] - 1s 14ms/step - loss: 0.2563 - acc: 0.8975 - val_loss: 0.3219 - val_acc: 0.8696\n",
      "Epoch 38/60\n",
      "64/64 [==============================] - 1s 14ms/step - loss: 0.2456 - acc: 0.9072 - val_loss: 0.2951 - val_acc: 0.8809\n",
      "Epoch 39/60\n",
      "64/64 [==============================] - 1s 13ms/step - loss: 0.2545 - acc: 0.9028 - val_loss: 0.3567 - val_acc: 0.8677\n",
      "Epoch 40/60\n",
      "64/64 [==============================] - 1s 13ms/step - loss: 0.2539 - acc: 0.9009 - val_loss: 0.3159 - val_acc: 0.8789\n",
      "Epoch 41/60\n",
      "64/64 [==============================] - 1s 13ms/step - loss: 0.2743 - acc: 0.8770 - val_loss: 0.3031 - val_acc: 0.8872\n",
      "Epoch 42/60\n",
      "64/64 [==============================] - 1s 13ms/step - loss: 0.2553 - acc: 0.9004 - val_loss: 0.3123 - val_acc: 0.8740\n",
      "Epoch 43/60\n",
      "64/64 [==============================] - 1s 14ms/step - loss: 0.2523 - acc: 0.9009 - val_loss: 0.2948 - val_acc: 0.8818\n",
      "Epoch 44/60\n",
      "64/64 [==============================] - 1s 13ms/step - loss: 0.2439 - acc: 0.9048 - val_loss: 0.3055 - val_acc: 0.8740\n",
      "Epoch 45/60\n",
      "64/64 [==============================] - 1s 14ms/step - loss: 0.2279 - acc: 0.9116 - val_loss: 0.2887 - val_acc: 0.8901\n",
      "Epoch 46/60\n",
      "64/64 [==============================] - 1s 14ms/step - loss: 0.2099 - acc: 0.9194 - val_loss: 0.2637 - val_acc: 0.9009\n",
      "Epoch 47/60\n",
      "64/64 [==============================] - 1s 13ms/step - loss: 0.1997 - acc: 0.9233 - val_loss: 0.3193 - val_acc: 0.8730\n",
      "Epoch 48/60\n",
      "64/64 [==============================] - 1s 13ms/step - loss: 0.1989 - acc: 0.9238 - val_loss: 0.2628 - val_acc: 0.8926\n",
      "Epoch 49/60\n",
      "64/64 [==============================] - 1s 14ms/step - loss: 0.1868 - acc: 0.9312 - val_loss: 0.2601 - val_acc: 0.9053\n",
      "Epoch 50/60\n",
      "64/64 [==============================] - 1s 13ms/step - loss: 0.2233 - acc: 0.9155 - val_loss: 0.2816 - val_acc: 0.8955\n",
      "Epoch 51/60\n",
      "64/64 [==============================] - 1s 14ms/step - loss: 0.2138 - acc: 0.9121 - val_loss: 0.3274 - val_acc: 0.8716\n",
      "Epoch 52/60\n",
      "64/64 [==============================] - 1s 14ms/step - loss: 0.1887 - acc: 0.9312 - val_loss: 0.2992 - val_acc: 0.9014\n",
      "Epoch 53/60\n",
      "64/64 [==============================] - 1s 14ms/step - loss: 0.1784 - acc: 0.9375 - val_loss: 0.2918 - val_acc: 0.8687\n",
      "Epoch 54/60\n",
      "64/64 [==============================] - 1s 14ms/step - loss: 0.1953 - acc: 0.9326 - val_loss: 0.2778 - val_acc: 0.8882\n",
      "Epoch 55/60\n",
      "64/64 [==============================] - 1s 14ms/step - loss: 0.1881 - acc: 0.9287 - val_loss: 0.2675 - val_acc: 0.8965\n",
      "Epoch 56/60\n",
      "64/64 [==============================] - 1s 14ms/step - loss: 0.1863 - acc: 0.9287 - val_loss: 0.3073 - val_acc: 0.8794\n",
      "Epoch 57/60\n",
      "64/64 [==============================] - 1s 14ms/step - loss: 0.1547 - acc: 0.9521 - val_loss: 0.2971 - val_acc: 0.8809\n",
      "Epoch 58/60\n",
      "64/64 [==============================] - 1s 14ms/step - loss: 0.1664 - acc: 0.9429 - val_loss: 0.2600 - val_acc: 0.8960\n",
      "Epoch 59/60\n",
      "64/64 [==============================] - 1s 14ms/step - loss: 0.1592 - acc: 0.9448 - val_loss: 0.2670 - val_acc: 0.8984\n",
      "Epoch 60/60\n",
      "64/64 [==============================] - 1s 14ms/step - loss: 0.1721 - acc: 0.9326 - val_loss: 0.2962 - val_acc: 0.8745\n"
     ]
    },
    {
     "data": {
      "text/plain": [
       "<keras.callbacks.History at 0x7f591582c2b0>"
      ]
     },
     "execution_count": 12,
     "metadata": {},
     "output_type": "execute_result"
    }
   ],
   "source": [
    "valid=valid_gen()\n",
    "train=train_gen()\n",
    "model.fit_generator(train, \n",
    "                    validation_data=valid, validation_steps=64,\n",
    "                    epochs=60, \n",
    "                    steps_per_epoch=64)"
   ]
  },
  {
   "cell_type": "code",
   "execution_count": 13,
   "metadata": {},
   "outputs": [
    {
     "name": "stdout",
     "output_type": "stream",
     "text": [
      "Kalamazoo 185\n",
      "Predicted:  0.0063344482    Actual:  False \n",
      "\n",
      "09 Suddenly I See 77\n",
      "Predicted:  1.036702e-05    Actual:  False \n",
      "\n",
      "IllBeThereForYou 191\n",
      "Predicted:  0.7664778    Actual:  True \n",
      "\n",
      "AHardRainsAGonnaFall 47\n",
      "Predicted:  0.06766578    Actual:  False \n",
      "\n",
      "HoldMeTight 42\n",
      "Predicted:  0.0146520445    Actual:  False \n",
      "\n",
      "IThinkWereAloneNow2MP 53\n",
      "Predicted:  4.1587764e-06    Actual:  False \n",
      "\n",
      "IfIHadAHammer 47\n",
      "Predicted:  2.217749e-05    Actual:  False \n",
      "\n",
      "ChatanoogaChooChoo 105\n",
      "Predicted:  0.00042409147    Actual:  False \n",
      "\n",
      "BothSidesNow 42\n",
      "Predicted:  6.157358e-05    Actual:  False \n",
      "\n",
      "TheBollWeevil 42\n",
      "Predicted:  0.1895164    Actual:  False \n",
      "\n"
     ]
    }
   ],
   "source": [
    "for i in range(10):\n",
    "    song, tempo, compatible, clip = get_validation_case()\n",
    "    print( song, tempo )\n",
    "    c = clip_to_tf_input(resample_clip(clip))\n",
    "    x = np.expand_dims(c, axis=0)\n",
    "    p = model.predict(x)[0][0]\n",
    "    print( 'Predicted: ', p, '   Actual: ', compatible, '\\n' )"
   ]
  },
  {
   "cell_type": "code",
   "execution_count": null,
   "metadata": {},
   "outputs": [],
   "source": []
  }
 ],
 "metadata": {
  "kernelspec": {
   "display_name": "Python 3",
   "language": "python",
   "name": "python3"
  },
  "language_info": {
   "codemirror_mode": {
    "name": "ipython",
    "version": 3
   },
   "file_extension": ".py",
   "mimetype": "text/x-python",
   "name": "python",
   "nbconvert_exporter": "python",
   "pygments_lexer": "ipython3",
   "version": "3.6.6"
  }
 },
 "nbformat": 4,
 "nbformat_minor": 2
}

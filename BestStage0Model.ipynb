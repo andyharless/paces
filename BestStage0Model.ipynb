{
 "cells": [
  {
   "cell_type": "code",
   "execution_count": 1,
   "metadata": {},
   "outputs": [
    {
     "name": "stderr",
     "output_type": "stream",
     "text": [
      "/home/andy/.local/lib/python3.6/site-packages/h5py/__init__.py:36: FutureWarning: Conversion of the second argument of issubdtype from `float` to `np.floating` is deprecated. In future, it will be treated as `np.float64 == np.dtype(float).type`.\n",
      "  from ._conv import register_converters as _register_converters\n",
      "Using TensorFlow backend.\n"
     ]
    }
   ],
   "source": [
    "from get_training_data import *\n",
    "\n",
    "import tensorflow as tf\n",
    "import keras\n",
    "import pickle\n",
    "import gzip\n",
    "import os\n",
    "import random\n",
    "import matplotlib.pyplot as plt\n",
    "%matplotlib nbagg"
   ]
  },
  {
   "cell_type": "code",
   "execution_count": 2,
   "metadata": {},
   "outputs": [
    {
     "data": {
      "text/plain": [
       "(tuple, 2)"
      ]
     },
     "execution_count": 2,
     "metadata": {},
     "output_type": "execute_result"
    }
   ],
   "source": [
    "with gzip.open('train_cases.pkl.gz','rb') as fp:\n",
    "    train_cases = pickle.load(fp)\n",
    "type(train_cases), len(train_cases)"
   ]
  },
  {
   "cell_type": "code",
   "execution_count": 3,
   "metadata": {},
   "outputs": [
    {
     "data": {
      "text/plain": [
       "(numpy.ndarray,\n",
       " (16384, 16, 16, 128),\n",
       " dtype('float32'),\n",
       " numpy.ndarray,\n",
       " (16384, 1),\n",
       " dtype('float64'))"
      ]
     },
     "execution_count": 3,
     "metadata": {},
     "output_type": "execute_result"
    }
   ],
   "source": [
    "train_X = train_cases[0]\n",
    "train_y = train_cases[1]\n",
    "ntrain = train_X.shape[0]\n",
    "type(train_X), train_X.shape, train_X.dtype, type(train_y), train_y.shape, train_y.dtype"
   ]
  },
  {
   "cell_type": "code",
   "execution_count": 4,
   "metadata": {},
   "outputs": [
    {
     "data": {
      "text/plain": [
       "(numpy.ndarray,\n",
       " (4096, 16, 16, 128),\n",
       " dtype('float32'),\n",
       " numpy.ndarray,\n",
       " (4096, 1),\n",
       " dtype('float64'))"
      ]
     },
     "execution_count": 4,
     "metadata": {},
     "output_type": "execute_result"
    }
   ],
   "source": [
    "with gzip.open('valid_cases.pkl.gz','rb') as fp:\n",
    "    valid_cases = pickle.load(fp)\n",
    "valid_X = valid_cases[0]\n",
    "valid_y = valid_cases[1]\n",
    "nvalid = valid_X.shape[0]\n",
    "type(valid_X), valid_X.shape, valid_X.dtype, type(valid_y), valid_y.shape, valid_y.dtype"
   ]
  },
  {
   "cell_type": "code",
   "execution_count": 5,
   "metadata": {},
   "outputs": [],
   "source": [
    "def choose_training_case():\n",
    "    i = random.randint(0, ntrain-1)\n",
    "    return(train_X[i,:,:,:], train_y[i,:])\n",
    "\n",
    "def choose_validation_case():\n",
    "    i = random.randint(0, nvalid-1)\n",
    "    return(valid_X[i,:,:,:], valid_y[i,:])"
   ]
  },
  {
   "cell_type": "code",
   "execution_count": 6,
   "metadata": {},
   "outputs": [],
   "source": [
    "def make_batch_from_megabatch(batchsize=32, validation=False):\n",
    "    get_case = choose_validation_case if validation else choose_training_case    \n",
    "    xbatch = np.empty([0, INPUTS_PER_BEAT, NBEATS, NCHANNELS],dtype=np.float32)\n",
    "    ybatch = np.empty([0, 1])\n",
    "    for i in range(batchsize):\n",
    "        case = get_case()\n",
    "        x = np.expand_dims(case[0], axis=0)\n",
    "        xbatch = np.concatenate([xbatch, x], axis=0)\n",
    "        y = np.array(int(case[1])).reshape([1,1])\n",
    "        ybatch = np.concatenate([ybatch, y], axis=0)\n",
    "    return(xbatch, ybatch)\n",
    "\n",
    "def train_gen(batchsize=32):\n",
    "    while True:\n",
    "        yield(make_batch_from_megabatch(batchsize, validation=False))\n",
    "\n",
    "def valid_gen(batchsize=32):\n",
    "    while True:\n",
    "        yield(make_batch_from_megabatch(batchsize, validation=True))"
   ]
  },
  {
   "cell_type": "code",
   "execution_count": 7,
   "metadata": {},
   "outputs": [
    {
     "data": {
      "text/plain": [
       "((32, 16, 16, 128), (32, 1))"
      ]
     },
     "execution_count": 7,
     "metadata": {},
     "output_type": "execute_result"
    }
   ],
   "source": [
    "# The generators are way too slow: have to fix this\n",
    "for t in train_gen():\n",
    "    break\n",
    "t[0].shape, t[1].shape"
   ]
  },
  {
   "cell_type": "code",
   "execution_count": 8,
   "metadata": {},
   "outputs": [
    {
     "data": {
      "text/plain": [
       "((32, 16, 16, 128), (32, 1))"
      ]
     },
     "execution_count": 8,
     "metadata": {},
     "output_type": "execute_result"
    }
   ],
   "source": [
    "for v in valid_gen():\n",
    "    break\n",
    "v[0].shape, v[1].shape"
   ]
  },
  {
   "cell_type": "code",
   "execution_count": 9,
   "metadata": {},
   "outputs": [],
   "source": [
    "input_shape = (INPUTS_PER_BEAT, NBEATS, NCHANNELS)\n",
    "\n",
    "model = keras.Sequential()\n",
    "model.add(keras.layers.Conv2D(64, 1, activation='relu', input_shape=input_shape))\n",
    "model.add(keras.layers.BatchNormalization())\n",
    "model.add(keras.layers.Conv2D(32, 1, activation='relu'))\n",
    "model.add(keras.layers.BatchNormalization())\n",
    "model.add(keras.layers.Conv2D(16, (2,4), activation='relu'))\n",
    "model.add(keras.layers.BatchNormalization())\n",
    "model.add(keras.layers.Conv2D(25, (4,6), activation='relu'))\n",
    "model.add(keras.layers.BatchNormalization())\n",
    "model.add(keras.layers.Conv2D(4, (2,4), activation='relu'))\n",
    "model.add(keras.layers.Flatten())\n",
    "model.add(keras.layers.Dropout(.5))\n",
    "model.add(keras.layers.Dense(1, activation='sigmoid'))"
   ]
  },
  {
   "cell_type": "code",
   "execution_count": 10,
   "metadata": {},
   "outputs": [],
   "source": [
    "model.compile(loss='binary_crossentropy', \n",
    "              optimizer=keras.optimizers.Adam(lr=.003,decay=2e-4), \n",
    "              metrics=['accuracy'])"
   ]
  },
  {
   "cell_type": "code",
   "execution_count": 11,
   "metadata": {},
   "outputs": [
    {
     "name": "stdout",
     "output_type": "stream",
     "text": [
      "_________________________________________________________________\n",
      "Layer (type)                 Output Shape              Param #   \n",
      "=================================================================\n",
      "conv2d_1 (Conv2D)            (None, 16, 16, 64)        8256      \n",
      "_________________________________________________________________\n",
      "batch_normalization_1 (Batch (None, 16, 16, 64)        256       \n",
      "_________________________________________________________________\n",
      "conv2d_2 (Conv2D)            (None, 16, 16, 32)        2080      \n",
      "_________________________________________________________________\n",
      "batch_normalization_2 (Batch (None, 16, 16, 32)        128       \n",
      "_________________________________________________________________\n",
      "conv2d_3 (Conv2D)            (None, 15, 13, 16)        4112      \n",
      "_________________________________________________________________\n",
      "batch_normalization_3 (Batch (None, 15, 13, 16)        64        \n",
      "_________________________________________________________________\n",
      "conv2d_4 (Conv2D)            (None, 12, 8, 25)         9625      \n",
      "_________________________________________________________________\n",
      "batch_normalization_4 (Batch (None, 12, 8, 25)         100       \n",
      "_________________________________________________________________\n",
      "conv2d_5 (Conv2D)            (None, 11, 5, 4)          804       \n",
      "_________________________________________________________________\n",
      "flatten_1 (Flatten)          (None, 220)               0         \n",
      "_________________________________________________________________\n",
      "dropout_1 (Dropout)          (None, 220)               0         \n",
      "_________________________________________________________________\n",
      "dense_1 (Dense)              (None, 1)                 221       \n",
      "=================================================================\n",
      "Total params: 25,646\n",
      "Trainable params: 25,372\n",
      "Non-trainable params: 274\n",
      "_________________________________________________________________\n"
     ]
    }
   ],
   "source": [
    "model.summary()"
   ]
  },
  {
   "cell_type": "code",
   "execution_count": 12,
   "metadata": {
    "scrolled": true
   },
   "outputs": [
    {
     "name": "stdout",
     "output_type": "stream",
     "text": [
      "WARNING:tensorflow:Variable *= will be deprecated. Use variable.assign_mul if you want assignment to the variable value or 'x = x * y' if you want a new python Tensor object.\n",
      "Epoch 1/60\n",
      "64/64 [==============================] - 2s 31ms/step - loss: 0.6340 - acc: 0.7305 - val_loss: 0.5954 - val_acc: 0.7456\n",
      "Epoch 2/60\n",
      "64/64 [==============================] - 1s 13ms/step - loss: 0.5560 - acc: 0.7705 - val_loss: 0.5709 - val_acc: 0.7520\n",
      "Epoch 3/60\n",
      "64/64 [==============================] - 1s 13ms/step - loss: 0.5541 - acc: 0.7671 - val_loss: 0.7306 - val_acc: 0.7700\n",
      "Epoch 4/60\n",
      "64/64 [==============================] - 1s 13ms/step - loss: 0.5652 - acc: 0.7656 - val_loss: 0.5906 - val_acc: 0.7661\n",
      "Epoch 5/60\n",
      "64/64 [==============================] - 1s 13ms/step - loss: 0.5171 - acc: 0.7861 - val_loss: 0.5611 - val_acc: 0.7612\n",
      "Epoch 6/60\n",
      "64/64 [==============================] - 1s 13ms/step - loss: 0.5300 - acc: 0.7642 - val_loss: 0.5597 - val_acc: 0.7656\n",
      "Epoch 7/60\n",
      "64/64 [==============================] - 1s 13ms/step - loss: 0.4793 - acc: 0.7764 - val_loss: 0.5119 - val_acc: 0.7627\n",
      "Epoch 8/60\n",
      "64/64 [==============================] - 1s 13ms/step - loss: 0.4696 - acc: 0.7705 - val_loss: 0.4868 - val_acc: 0.7627\n",
      "Epoch 9/60\n",
      "64/64 [==============================] - 1s 13ms/step - loss: 0.4514 - acc: 0.7720 - val_loss: 0.5144 - val_acc: 0.7764\n",
      "Epoch 10/60\n",
      "64/64 [==============================] - 1s 13ms/step - loss: 0.4639 - acc: 0.7588 - val_loss: 0.4933 - val_acc: 0.7524\n",
      "Epoch 11/60\n",
      "64/64 [==============================] - 1s 13ms/step - loss: 0.4243 - acc: 0.7515 - val_loss: 0.4515 - val_acc: 0.7549\n",
      "Epoch 12/60\n",
      "64/64 [==============================] - 1s 13ms/step - loss: 0.4005 - acc: 0.7578 - val_loss: 0.4049 - val_acc: 0.7603\n",
      "Epoch 13/60\n",
      "64/64 [==============================] - 1s 13ms/step - loss: 0.3602 - acc: 0.7861 - val_loss: 0.3827 - val_acc: 0.7939\n",
      "Epoch 14/60\n",
      "64/64 [==============================] - 1s 13ms/step - loss: 0.3250 - acc: 0.8330 - val_loss: 0.4303 - val_acc: 0.8354\n",
      "Epoch 15/60\n",
      "64/64 [==============================] - 1s 13ms/step - loss: 0.3053 - acc: 0.8545 - val_loss: 0.4228 - val_acc: 0.8091\n",
      "Epoch 16/60\n",
      "64/64 [==============================] - 1s 13ms/step - loss: 0.2813 - acc: 0.8726 - val_loss: 0.3802 - val_acc: 0.8223\n",
      "Epoch 17/60\n",
      "64/64 [==============================] - 1s 13ms/step - loss: 0.2850 - acc: 0.8623 - val_loss: 0.2984 - val_acc: 0.8765\n",
      "Epoch 18/60\n",
      "64/64 [==============================] - 1s 13ms/step - loss: 0.2828 - acc: 0.8848 - val_loss: 0.2983 - val_acc: 0.8745\n",
      "Epoch 19/60\n",
      "64/64 [==============================] - 1s 13ms/step - loss: 0.2485 - acc: 0.9023 - val_loss: 0.3026 - val_acc: 0.8696\n",
      "Epoch 20/60\n",
      "64/64 [==============================] - 1s 13ms/step - loss: 0.2353 - acc: 0.9121 - val_loss: 0.2825 - val_acc: 0.8862\n",
      "Epoch 21/60\n",
      "64/64 [==============================] - 1s 13ms/step - loss: 0.2455 - acc: 0.9053 - val_loss: 0.2902 - val_acc: 0.8677\n",
      "Epoch 22/60\n",
      "64/64 [==============================] - 1s 13ms/step - loss: 0.2293 - acc: 0.9067 - val_loss: 0.2579 - val_acc: 0.8970\n",
      "Epoch 23/60\n",
      "64/64 [==============================] - 1s 13ms/step - loss: 0.2425 - acc: 0.9014 - val_loss: 0.2787 - val_acc: 0.8882\n",
      "Epoch 24/60\n",
      "64/64 [==============================] - 1s 13ms/step - loss: 0.2096 - acc: 0.9150 - val_loss: 0.2903 - val_acc: 0.8735\n",
      "Epoch 25/60\n",
      "64/64 [==============================] - 1s 13ms/step - loss: 0.2025 - acc: 0.9136 - val_loss: 0.2796 - val_acc: 0.8818\n",
      "Epoch 26/60\n",
      "64/64 [==============================] - 1s 13ms/step - loss: 0.2223 - acc: 0.9102 - val_loss: 0.2804 - val_acc: 0.8887\n",
      "Epoch 27/60\n",
      "64/64 [==============================] - 1s 13ms/step - loss: 0.2215 - acc: 0.9189 - val_loss: 0.2707 - val_acc: 0.9009\n",
      "Epoch 28/60\n",
      "64/64 [==============================] - 1s 13ms/step - loss: 0.1878 - acc: 0.9263 - val_loss: 0.3361 - val_acc: 0.8774\n",
      "Epoch 29/60\n",
      "64/64 [==============================] - 1s 13ms/step - loss: 0.2114 - acc: 0.9136 - val_loss: 0.2871 - val_acc: 0.8794\n",
      "Epoch 30/60\n",
      "64/64 [==============================] - 1s 13ms/step - loss: 0.1882 - acc: 0.9248 - val_loss: 0.3297 - val_acc: 0.8643\n",
      "Epoch 31/60\n",
      "64/64 [==============================] - 1s 13ms/step - loss: 0.1879 - acc: 0.9214 - val_loss: 0.2839 - val_acc: 0.8799\n",
      "Epoch 32/60\n",
      "64/64 [==============================] - 1s 13ms/step - loss: 0.1981 - acc: 0.9243 - val_loss: 0.3083 - val_acc: 0.8730\n",
      "Epoch 33/60\n",
      "64/64 [==============================] - 1s 13ms/step - loss: 0.1989 - acc: 0.9214 - val_loss: 0.2677 - val_acc: 0.8823\n",
      "Epoch 34/60\n",
      "64/64 [==============================] - 1s 13ms/step - loss: 0.1741 - acc: 0.9380 - val_loss: 0.2678 - val_acc: 0.8906\n",
      "Epoch 35/60\n",
      "64/64 [==============================] - 1s 13ms/step - loss: 0.1965 - acc: 0.9292 - val_loss: 0.2876 - val_acc: 0.8604\n",
      "Epoch 36/60\n",
      "64/64 [==============================] - 1s 13ms/step - loss: 0.1700 - acc: 0.9375 - val_loss: 0.2987 - val_acc: 0.8838\n",
      "Epoch 37/60\n",
      "64/64 [==============================] - 1s 13ms/step - loss: 0.1779 - acc: 0.9351 - val_loss: 0.2640 - val_acc: 0.8765\n",
      "Epoch 38/60\n",
      "64/64 [==============================] - 1s 13ms/step - loss: 0.2149 - acc: 0.9185 - val_loss: 0.3001 - val_acc: 0.8608\n",
      "Epoch 39/60\n",
      "64/64 [==============================] - 1s 13ms/step - loss: 0.1676 - acc: 0.9375 - val_loss: 0.3164 - val_acc: 0.8706\n",
      "Epoch 40/60\n",
      "64/64 [==============================] - 1s 13ms/step - loss: 0.1576 - acc: 0.9399 - val_loss: 0.2669 - val_acc: 0.8931\n",
      "Epoch 41/60\n",
      "64/64 [==============================] - 1s 13ms/step - loss: 0.1698 - acc: 0.9346 - val_loss: 0.2445 - val_acc: 0.9097\n",
      "Epoch 42/60\n",
      "64/64 [==============================] - 1s 13ms/step - loss: 0.1562 - acc: 0.9502 - val_loss: 0.2741 - val_acc: 0.8750\n",
      "Epoch 43/60\n",
      "64/64 [==============================] - 1s 13ms/step - loss: 0.1594 - acc: 0.9414 - val_loss: 0.2939 - val_acc: 0.8730\n",
      "Epoch 44/60\n",
      "64/64 [==============================] - 1s 13ms/step - loss: 0.1441 - acc: 0.9517 - val_loss: 0.2568 - val_acc: 0.8940\n",
      "Epoch 45/60\n",
      "64/64 [==============================] - 1s 13ms/step - loss: 0.1398 - acc: 0.9443 - val_loss: 0.2651 - val_acc: 0.8818\n",
      "Epoch 46/60\n",
      "64/64 [==============================] - 1s 13ms/step - loss: 0.1453 - acc: 0.9478 - val_loss: 0.2654 - val_acc: 0.8779\n",
      "Epoch 47/60\n",
      "64/64 [==============================] - 1s 13ms/step - loss: 0.1253 - acc: 0.9600 - val_loss: 0.2786 - val_acc: 0.8701\n",
      "Epoch 48/60\n",
      "64/64 [==============================] - 1s 13ms/step - loss: 0.1510 - acc: 0.9380 - val_loss: 0.2822 - val_acc: 0.8872\n",
      "Epoch 49/60\n",
      "64/64 [==============================] - 1s 13ms/step - loss: 0.1501 - acc: 0.9404 - val_loss: 0.2644 - val_acc: 0.8926\n",
      "Epoch 50/60\n",
      "64/64 [==============================] - 1s 13ms/step - loss: 0.1357 - acc: 0.9497 - val_loss: 0.2905 - val_acc: 0.8950\n",
      "Epoch 51/60\n",
      "64/64 [==============================] - 1s 13ms/step - loss: 0.1363 - acc: 0.9492 - val_loss: 0.2638 - val_acc: 0.8838\n",
      "Epoch 52/60\n",
      "64/64 [==============================] - 1s 13ms/step - loss: 0.1356 - acc: 0.9531 - val_loss: 0.2839 - val_acc: 0.8745\n",
      "Epoch 53/60\n",
      "64/64 [==============================] - 1s 13ms/step - loss: 0.1377 - acc: 0.9487 - val_loss: 0.2449 - val_acc: 0.9141\n",
      "Epoch 54/60\n",
      "64/64 [==============================] - 1s 13ms/step - loss: 0.1579 - acc: 0.9448 - val_loss: 0.2553 - val_acc: 0.8882\n",
      "Epoch 55/60\n",
      "64/64 [==============================] - 1s 13ms/step - loss: 0.1290 - acc: 0.9507 - val_loss: 0.2679 - val_acc: 0.8940\n",
      "Epoch 56/60\n",
      "64/64 [==============================] - 1s 13ms/step - loss: 0.1283 - acc: 0.9512 - val_loss: 0.2828 - val_acc: 0.8901\n",
      "Epoch 57/60\n",
      "64/64 [==============================] - 1s 13ms/step - loss: 0.1236 - acc: 0.9570 - val_loss: 0.2597 - val_acc: 0.8960\n",
      "Epoch 58/60\n",
      "64/64 [==============================] - 1s 13ms/step - loss: 0.1430 - acc: 0.9443 - val_loss: 0.2945 - val_acc: 0.8794\n",
      "Epoch 59/60\n",
      "64/64 [==============================] - 1s 13ms/step - loss: 0.1289 - acc: 0.9497 - val_loss: 0.2911 - val_acc: 0.8916\n",
      "Epoch 60/60\n",
      "64/64 [==============================] - 1s 13ms/step - loss: 0.1237 - acc: 0.9546 - val_loss: 0.2681 - val_acc: 0.8867\n"
     ]
    },
    {
     "data": {
      "text/plain": [
       "<keras.callbacks.History at 0x7fb4b7b9b710>"
      ]
     },
     "execution_count": 12,
     "metadata": {},
     "output_type": "execute_result"
    }
   ],
   "source": [
    "valid=valid_gen()\n",
    "train=train_gen()\n",
    "model.fit_generator(train, \n",
    "                    validation_data=valid, validation_steps=64,\n",
    "                    epochs=60, \n",
    "                    steps_per_epoch=64)"
   ]
  },
  {
   "cell_type": "code",
   "execution_count": 13,
   "metadata": {},
   "outputs": [
    {
     "name": "stdout",
     "output_type": "stream",
     "text": [
      "IfIHadAHammer 78\n",
      "Predicted:  0.00054123363    Actual:  False \n",
      "\n",
      "FugueForTinhorns2 41\n",
      "Predicted:  0.66406107    Actual:  False \n",
      "\n",
      "53rdAnd3rdMP 55\n",
      "Predicted:  1.3971662e-07    Actual:  False \n",
      "\n",
      "IThinkWereAloneNow2MP 53\n",
      "Predicted:  3.261056e-06    Actual:  False \n",
      "\n",
      "SmoothOperator 53\n",
      "Predicted:  0.00094600837    Actual:  False \n",
      "\n",
      "ItsRainingMen 136\n",
      "Predicted:  0.90117323    Actual:  True \n",
      "\n",
      "BigJimMP 62\n",
      "Predicted:  2.3121012e-13    Actual:  False \n",
      "\n",
      "IllBeThereForYou 42\n",
      "Predicted:  9.873636e-05    Actual:  False \n",
      "\n",
      "BloodyMerryMorning 43\n",
      "Predicted:  1.3076013e-07    Actual:  False \n",
      "\n",
      "Kalamazoo 101\n",
      "Predicted:  0.7393145    Actual:  False \n",
      "\n"
     ]
    }
   ],
   "source": [
    "for i in range(10):\n",
    "    song, tempo, compatible, clip = get_validation_case()\n",
    "    print( song, tempo )\n",
    "    c = clip_to_tf_input(resample_clip(clip))\n",
    "    x = np.expand_dims(c, axis=0)\n",
    "    p = model.predict(x)[0][0]\n",
    "    print( 'Predicted: ', p, '   Actual: ', compatible, '\\n' )"
   ]
  },
  {
   "cell_type": "code",
   "execution_count": null,
   "metadata": {},
   "outputs": [],
   "source": []
  }
 ],
 "metadata": {
  "kernelspec": {
   "display_name": "Python 3",
   "language": "python",
   "name": "python3"
  },
  "language_info": {
   "codemirror_mode": {
    "name": "ipython",
    "version": 3
   },
   "file_extension": ".py",
   "mimetype": "text/x-python",
   "name": "python",
   "nbconvert_exporter": "python",
   "pygments_lexer": "ipython3",
   "version": "3.6.6"
  }
 },
 "nbformat": 4,
 "nbformat_minor": 2
}

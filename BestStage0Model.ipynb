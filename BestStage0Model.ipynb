{
 "cells": [
  {
   "cell_type": "code",
   "execution_count": 1,
   "metadata": {},
   "outputs": [
    {
     "name": "stderr",
     "output_type": "stream",
     "text": [
      "/home/andy/.local/lib/python3.6/site-packages/h5py/__init__.py:36: FutureWarning: Conversion of the second argument of issubdtype from `float` to `np.floating` is deprecated. In future, it will be treated as `np.float64 == np.dtype(float).type`.\n",
      "  from ._conv import register_converters as _register_converters\n",
      "Using TensorFlow backend.\n"
     ]
    }
   ],
   "source": [
    "from get_training_data import *\n",
    "\n",
    "import tensorflow as tf\n",
    "import keras\n",
    "import pickle\n",
    "import gzip\n",
    "import os\n",
    "import random\n",
    "import matplotlib.pyplot as plt\n",
    "%matplotlib nbagg"
   ]
  },
  {
   "cell_type": "code",
   "execution_count": 2,
   "metadata": {},
   "outputs": [
    {
     "data": {
      "text/plain": [
       "(tuple, 2)"
      ]
     },
     "execution_count": 2,
     "metadata": {},
     "output_type": "execute_result"
    }
   ],
   "source": [
    "with gzip.open('train_cases.pkl.gz','rb') as fp:\n",
    "    train_cases = pickle.load(fp)\n",
    "type(train_cases), len(train_cases)"
   ]
  },
  {
   "cell_type": "code",
   "execution_count": 3,
   "metadata": {},
   "outputs": [
    {
     "data": {
      "text/plain": [
       "(numpy.ndarray,\n",
       " (16384, 16, 16, 128),\n",
       " dtype('float32'),\n",
       " numpy.ndarray,\n",
       " (16384, 1),\n",
       " dtype('float64'))"
      ]
     },
     "execution_count": 3,
     "metadata": {},
     "output_type": "execute_result"
    }
   ],
   "source": [
    "train_X = train_cases[0]\n",
    "train_y = train_cases[1]\n",
    "ntrain = train_X.shape[0]\n",
    "type(train_X), train_X.shape, train_X.dtype, type(train_y), train_y.shape, train_y.dtype"
   ]
  },
  {
   "cell_type": "code",
   "execution_count": 4,
   "metadata": {},
   "outputs": [
    {
     "data": {
      "text/plain": [
       "(numpy.ndarray,\n",
       " (4096, 16, 16, 128),\n",
       " dtype('float32'),\n",
       " numpy.ndarray,\n",
       " (4096, 1),\n",
       " dtype('float64'))"
      ]
     },
     "execution_count": 4,
     "metadata": {},
     "output_type": "execute_result"
    }
   ],
   "source": [
    "with gzip.open('valid_cases.pkl.gz','rb') as fp:\n",
    "    valid_cases = pickle.load(fp)\n",
    "valid_X = valid_cases[0]\n",
    "valid_y = valid_cases[1]\n",
    "nvalid = valid_X.shape[0]\n",
    "type(valid_X), valid_X.shape, valid_X.dtype, type(valid_y), valid_y.shape, valid_y.dtype"
   ]
  },
  {
   "cell_type": "code",
   "execution_count": 5,
   "metadata": {},
   "outputs": [],
   "source": [
    "def choose_training_case():\n",
    "    i = random.randint(0, ntrain-1)\n",
    "    return(train_X[i,:,:,:], train_y[i,:])\n",
    "\n",
    "def choose_validation_case():\n",
    "    i = random.randint(0, nvalid-1)\n",
    "    return(valid_X[i,:,:,:], valid_y[i,:])"
   ]
  },
  {
   "cell_type": "code",
   "execution_count": 6,
   "metadata": {},
   "outputs": [],
   "source": [
    "ADD_CONST = 1e-5\n",
    "CENTER = -2.5\n",
    "SCALE = 5\n",
    "XFORM = True"
   ]
  },
  {
   "cell_type": "code",
   "execution_count": 7,
   "metadata": {},
   "outputs": [],
   "source": [
    "def preproc(a):\n",
    "    if XFORM:\n",
    "        return((np.log(a+ADD_CONST) - CENTER) / SCALE)\n",
    "    else:\n",
    "        return(a)"
   ]
  },
  {
   "cell_type": "code",
   "execution_count": 8,
   "metadata": {},
   "outputs": [],
   "source": [
    "def make_batch_from_megabatch(batchsize=32, validation=False):\n",
    "    get_case = choose_validation_case if validation else choose_training_case    \n",
    "    xbatch = np.empty([0, INPUTS_PER_BEAT, NBEATS, NCHANNELS],dtype=np.float32)\n",
    "    ybatch = np.empty([0, 1])\n",
    "    for i in range(batchsize):\n",
    "        case = get_case()\n",
    "        x = np.expand_dims(case[0], axis=0)\n",
    "        xbatch = np.concatenate([xbatch, x], axis=0)\n",
    "        y = np.array(int(case[1])).reshape([1,1])\n",
    "        ybatch = np.concatenate([ybatch, y], axis=0)\n",
    "    return(preproc(xbatch), ybatch)\n",
    "\n",
    "def train_gen(batchsize=32):\n",
    "    while True:\n",
    "        yield(make_batch_from_megabatch(batchsize, validation=False))\n",
    "\n",
    "def valid_gen(batchsize=32):\n",
    "    while True:\n",
    "        yield(make_batch_from_megabatch(batchsize, validation=True))"
   ]
  },
  {
   "cell_type": "code",
   "execution_count": 9,
   "metadata": {},
   "outputs": [
    {
     "data": {
      "text/plain": [
       "((32, 16, 16, 128), (32, 1))"
      ]
     },
     "execution_count": 9,
     "metadata": {},
     "output_type": "execute_result"
    }
   ],
   "source": [
    "# The generators are way too slow: have to fix this\n",
    "for t in train_gen():\n",
    "    break\n",
    "t[0].shape, t[1].shape"
   ]
  },
  {
   "cell_type": "code",
   "execution_count": 10,
   "metadata": {},
   "outputs": [
    {
     "data": {
      "text/plain": [
       "((32, 16, 16, 128), (32, 1))"
      ]
     },
     "execution_count": 10,
     "metadata": {},
     "output_type": "execute_result"
    }
   ],
   "source": [
    "for v in valid_gen():\n",
    "    break\n",
    "v[0].shape, v[1].shape"
   ]
  },
  {
   "cell_type": "code",
   "execution_count": 11,
   "metadata": {},
   "outputs": [],
   "source": [
    "input_shape = (INPUTS_PER_BEAT, NBEATS, NCHANNELS)\n",
    "\n",
    "model = keras.Sequential()\n",
    "model.add(keras.layers.Conv2D(64, 1, activation='relu', input_shape=input_shape))\n",
    "model.add(keras.layers.SpatialDropout2D(.1))\n",
    "model.add(keras.layers.Conv2D(32, 1, activation='relu'))\n",
    "model.add(keras.layers.BatchNormalization())\n",
    "model.add(keras.layers.Conv2D(12, (1,4), activation='relu'))\n",
    "model.add(keras.layers.SpatialDropout2D(.3))\n",
    "model.add(keras.layers.Conv2D(25, (4,6), activation='relu'))\n",
    "model.add(keras.layers.BatchNormalization())\n",
    "model.add(keras.layers.Conv2D(3, (1,4), activation='relu'))\n",
    "model.add(keras.layers.Flatten())\n",
    "model.add(keras.layers.Dropout(.6))\n",
    "model.add(keras.layers.Dense(1, activation='sigmoid'))"
   ]
  },
  {
   "cell_type": "code",
   "execution_count": 12,
   "metadata": {},
   "outputs": [],
   "source": [
    "model.compile(loss='binary_crossentropy', \n",
    "              optimizer=keras.optimizers.Adam(lr=.003,decay=2e-4), \n",
    "              metrics=['accuracy'])"
   ]
  },
  {
   "cell_type": "code",
   "execution_count": 13,
   "metadata": {},
   "outputs": [
    {
     "name": "stdout",
     "output_type": "stream",
     "text": [
      "_________________________________________________________________\n",
      "Layer (type)                 Output Shape              Param #   \n",
      "=================================================================\n",
      "conv2d_1 (Conv2D)            (None, 16, 16, 64)        8256      \n",
      "_________________________________________________________________\n",
      "spatial_dropout2d_1 (Spatial (None, 16, 16, 64)        0         \n",
      "_________________________________________________________________\n",
      "conv2d_2 (Conv2D)            (None, 16, 16, 32)        2080      \n",
      "_________________________________________________________________\n",
      "batch_normalization_1 (Batch (None, 16, 16, 32)        128       \n",
      "_________________________________________________________________\n",
      "conv2d_3 (Conv2D)            (None, 16, 13, 12)        1548      \n",
      "_________________________________________________________________\n",
      "spatial_dropout2d_2 (Spatial (None, 16, 13, 12)        0         \n",
      "_________________________________________________________________\n",
      "conv2d_4 (Conv2D)            (None, 13, 8, 25)         7225      \n",
      "_________________________________________________________________\n",
      "batch_normalization_2 (Batch (None, 13, 8, 25)         100       \n",
      "_________________________________________________________________\n",
      "conv2d_5 (Conv2D)            (None, 13, 5, 3)          303       \n",
      "_________________________________________________________________\n",
      "flatten_1 (Flatten)          (None, 195)               0         \n",
      "_________________________________________________________________\n",
      "dropout_1 (Dropout)          (None, 195)               0         \n",
      "_________________________________________________________________\n",
      "dense_1 (Dense)              (None, 1)                 196       \n",
      "=================================================================\n",
      "Total params: 19,836\n",
      "Trainable params: 19,722\n",
      "Non-trainable params: 114\n",
      "_________________________________________________________________\n"
     ]
    }
   ],
   "source": [
    "model.summary()"
   ]
  },
  {
   "cell_type": "code",
   "execution_count": 14,
   "metadata": {
    "scrolled": true
   },
   "outputs": [
    {
     "name": "stdout",
     "output_type": "stream",
     "text": [
      "WARNING:tensorflow:Variable *= will be deprecated. Use variable.assign_mul if you want assignment to the variable value or 'x = x * y' if you want a new python Tensor object.\n",
      "Epoch 1/60\n",
      "64/64 [==============================] - 2s 36ms/step - loss: 0.6478 - acc: 0.6958 - val_loss: 0.5668 - val_acc: 0.7593\n",
      "Epoch 2/60\n",
      "64/64 [==============================] - 1s 20ms/step - loss: 0.5875 - acc: 0.7676 - val_loss: 0.5779 - val_acc: 0.7837\n",
      "Epoch 3/60\n",
      "64/64 [==============================] - 1s 20ms/step - loss: 0.5617 - acc: 0.7764 - val_loss: 0.5589 - val_acc: 0.7573\n",
      "Epoch 4/60\n",
      "64/64 [==============================] - 1s 21ms/step - loss: 0.5562 - acc: 0.7725 - val_loss: 0.5567 - val_acc: 0.7563\n",
      "Epoch 5/60\n",
      "64/64 [==============================] - 1s 21ms/step - loss: 0.5341 - acc: 0.7827 - val_loss: 0.5308 - val_acc: 0.7578\n",
      "Epoch 6/60\n",
      "64/64 [==============================] - 1s 20ms/step - loss: 0.5300 - acc: 0.7690 - val_loss: 0.5191 - val_acc: 0.7671\n",
      "Epoch 7/60\n",
      "64/64 [==============================] - 1s 21ms/step - loss: 0.5054 - acc: 0.7720 - val_loss: 0.5206 - val_acc: 0.7588\n",
      "Epoch 8/60\n",
      "64/64 [==============================] - 1s 20ms/step - loss: 0.4593 - acc: 0.7773 - val_loss: 0.4650 - val_acc: 0.7695\n",
      "Epoch 9/60\n",
      "64/64 [==============================] - 1s 20ms/step - loss: 0.4563 - acc: 0.7705 - val_loss: 0.4627 - val_acc: 0.7539\n",
      "Epoch 10/60\n",
      "64/64 [==============================] - 1s 20ms/step - loss: 0.4480 - acc: 0.7510 - val_loss: 0.4409 - val_acc: 0.7573\n",
      "Epoch 11/60\n",
      "64/64 [==============================] - 1s 20ms/step - loss: 0.4023 - acc: 0.7700 - val_loss: 0.3809 - val_acc: 0.7808\n",
      "Epoch 12/60\n",
      "64/64 [==============================] - 1s 20ms/step - loss: 0.3648 - acc: 0.7588 - val_loss: 0.3765 - val_acc: 0.7686\n",
      "Epoch 13/60\n",
      "64/64 [==============================] - 1s 20ms/step - loss: 0.3361 - acc: 0.7959 - val_loss: 0.3779 - val_acc: 0.8364\n",
      "Epoch 14/60\n",
      "64/64 [==============================] - 1s 20ms/step - loss: 0.3113 - acc: 0.8550 - val_loss: 0.3511 - val_acc: 0.8311\n",
      "Epoch 15/60\n",
      "64/64 [==============================] - 1s 19ms/step - loss: 0.2947 - acc: 0.8594 - val_loss: 0.2889 - val_acc: 0.8774\n",
      "Epoch 16/60\n",
      "64/64 [==============================] - 1s 20ms/step - loss: 0.2840 - acc: 0.8735 - val_loss: 0.2810 - val_acc: 0.8975\n",
      "Epoch 17/60\n",
      "64/64 [==============================] - 1s 20ms/step - loss: 0.2879 - acc: 0.8906 - val_loss: 0.2914 - val_acc: 0.8687\n",
      "Epoch 18/60\n",
      "64/64 [==============================] - 1s 19ms/step - loss: 0.2736 - acc: 0.8809 - val_loss: 0.2841 - val_acc: 0.8867\n",
      "Epoch 19/60\n",
      "64/64 [==============================] - 1s 19ms/step - loss: 0.2490 - acc: 0.9053 - val_loss: 0.3664 - val_acc: 0.8740\n",
      "Epoch 20/60\n",
      "64/64 [==============================] - 1s 19ms/step - loss: 0.2514 - acc: 0.8965 - val_loss: 0.2798 - val_acc: 0.8833\n",
      "Epoch 21/60\n",
      "64/64 [==============================] - 1s 20ms/step - loss: 0.2547 - acc: 0.8960 - val_loss: 0.2755 - val_acc: 0.8818\n",
      "Epoch 22/60\n",
      "64/64 [==============================] - 1s 20ms/step - loss: 0.2569 - acc: 0.8999 - val_loss: 0.3010 - val_acc: 0.9058\n",
      "Epoch 23/60\n",
      "64/64 [==============================] - 1s 20ms/step - loss: 0.2407 - acc: 0.9009 - val_loss: 0.2609 - val_acc: 0.8979\n",
      "Epoch 24/60\n",
      "64/64 [==============================] - 1s 20ms/step - loss: 0.2148 - acc: 0.9180 - val_loss: 0.2467 - val_acc: 0.8999\n",
      "Epoch 25/60\n",
      "64/64 [==============================] - 1s 20ms/step - loss: 0.2109 - acc: 0.9194 - val_loss: 0.2872 - val_acc: 0.8960\n",
      "Epoch 26/60\n",
      "64/64 [==============================] - 1s 20ms/step - loss: 0.2280 - acc: 0.9106 - val_loss: 0.2232 - val_acc: 0.9121\n",
      "Epoch 27/60\n",
      "64/64 [==============================] - 1s 20ms/step - loss: 0.2016 - acc: 0.9233 - val_loss: 0.2340 - val_acc: 0.9136\n",
      "Epoch 28/60\n",
      "64/64 [==============================] - 1s 20ms/step - loss: 0.2226 - acc: 0.9116 - val_loss: 0.2321 - val_acc: 0.9160\n",
      "Epoch 29/60\n",
      "64/64 [==============================] - 1s 20ms/step - loss: 0.2010 - acc: 0.9204 - val_loss: 0.2372 - val_acc: 0.9038\n",
      "Epoch 30/60\n",
      "64/64 [==============================] - 1s 20ms/step - loss: 0.2008 - acc: 0.9272 - val_loss: 0.2308 - val_acc: 0.9019\n",
      "Epoch 31/60\n",
      "64/64 [==============================] - 1s 20ms/step - loss: 0.2068 - acc: 0.9185 - val_loss: 0.2382 - val_acc: 0.9111\n",
      "Epoch 32/60\n",
      "64/64 [==============================] - 1s 19ms/step - loss: 0.1812 - acc: 0.9297 - val_loss: 0.2266 - val_acc: 0.9141\n",
      "Epoch 33/60\n",
      "64/64 [==============================] - 1s 20ms/step - loss: 0.2009 - acc: 0.9219 - val_loss: 0.2156 - val_acc: 0.9146\n",
      "Epoch 34/60\n",
      "64/64 [==============================] - 1s 20ms/step - loss: 0.1717 - acc: 0.9316 - val_loss: 0.2440 - val_acc: 0.8994\n",
      "Epoch 35/60\n",
      "64/64 [==============================] - 1s 21ms/step - loss: 0.1690 - acc: 0.9321 - val_loss: 0.2212 - val_acc: 0.9092\n",
      "Epoch 36/60\n",
      "64/64 [==============================] - 1s 20ms/step - loss: 0.2117 - acc: 0.9160 - val_loss: 0.3141 - val_acc: 0.8735\n",
      "Epoch 37/60\n",
      "64/64 [==============================] - 1s 21ms/step - loss: 0.1951 - acc: 0.9238 - val_loss: 0.2042 - val_acc: 0.9365\n",
      "Epoch 38/60\n",
      "64/64 [==============================] - 1s 21ms/step - loss: 0.1846 - acc: 0.9302 - val_loss: 0.2112 - val_acc: 0.9185\n",
      "Epoch 39/60\n",
      "64/64 [==============================] - 1s 20ms/step - loss: 0.2035 - acc: 0.9219 - val_loss: 0.2321 - val_acc: 0.9136\n",
      "Epoch 40/60\n",
      "64/64 [==============================] - 1s 19ms/step - loss: 0.1601 - acc: 0.9385 - val_loss: 0.2194 - val_acc: 0.9141\n",
      "Epoch 41/60\n",
      "64/64 [==============================] - 1s 20ms/step - loss: 0.1789 - acc: 0.9282 - val_loss: 0.2106 - val_acc: 0.9224\n",
      "Epoch 42/60\n",
      "64/64 [==============================] - 1s 20ms/step - loss: 0.1757 - acc: 0.9302 - val_loss: 0.2039 - val_acc: 0.9136\n",
      "Epoch 43/60\n",
      "64/64 [==============================] - 1s 21ms/step - loss: 0.1696 - acc: 0.9287 - val_loss: 0.1995 - val_acc: 0.9258\n",
      "Epoch 44/60\n",
      "64/64 [==============================] - 1s 21ms/step - loss: 0.1599 - acc: 0.9409 - val_loss: 0.2226 - val_acc: 0.9092\n",
      "Epoch 45/60\n",
      "64/64 [==============================] - 1s 20ms/step - loss: 0.1810 - acc: 0.9292 - val_loss: 0.1909 - val_acc: 0.9336\n",
      "Epoch 46/60\n",
      "64/64 [==============================] - 1s 20ms/step - loss: 0.1733 - acc: 0.9346 - val_loss: 0.2148 - val_acc: 0.9224\n",
      "Epoch 47/60\n",
      "64/64 [==============================] - 1s 21ms/step - loss: 0.1609 - acc: 0.9409 - val_loss: 0.2244 - val_acc: 0.9146\n",
      "Epoch 48/60\n",
      "64/64 [==============================] - 1s 20ms/step - loss: 0.1649 - acc: 0.9434 - val_loss: 0.2401 - val_acc: 0.9155\n",
      "Epoch 49/60\n",
      "64/64 [==============================] - 1s 20ms/step - loss: 0.1770 - acc: 0.9302 - val_loss: 0.2258 - val_acc: 0.9160\n",
      "Epoch 50/60\n",
      "64/64 [==============================] - 1s 21ms/step - loss: 0.1717 - acc: 0.9395 - val_loss: 0.2130 - val_acc: 0.9194\n",
      "Epoch 51/60\n",
      "64/64 [==============================] - 1s 20ms/step - loss: 0.1564 - acc: 0.9448 - val_loss: 0.2121 - val_acc: 0.9141\n",
      "Epoch 52/60\n",
      "64/64 [==============================] - 1s 21ms/step - loss: 0.1696 - acc: 0.9385 - val_loss: 0.2292 - val_acc: 0.9131\n",
      "Epoch 53/60\n",
      "64/64 [==============================] - 1s 20ms/step - loss: 0.1615 - acc: 0.9414 - val_loss: 0.2157 - val_acc: 0.9189\n",
      "Epoch 54/60\n",
      "64/64 [==============================] - 1s 21ms/step - loss: 0.1567 - acc: 0.9351 - val_loss: 0.2259 - val_acc: 0.9077\n",
      "Epoch 55/60\n",
      "64/64 [==============================] - 1s 20ms/step - loss: 0.1463 - acc: 0.9395 - val_loss: 0.2135 - val_acc: 0.9121\n",
      "Epoch 56/60\n",
      "64/64 [==============================] - 1s 20ms/step - loss: 0.1586 - acc: 0.9395 - val_loss: 0.2336 - val_acc: 0.9082\n",
      "Epoch 57/60\n",
      "64/64 [==============================] - 1s 20ms/step - loss: 0.1671 - acc: 0.9395 - val_loss: 0.1959 - val_acc: 0.9287\n",
      "Epoch 58/60\n",
      "64/64 [==============================] - 1s 21ms/step - loss: 0.1641 - acc: 0.9399 - val_loss: 0.2100 - val_acc: 0.9087\n",
      "Epoch 59/60\n",
      "64/64 [==============================] - 1s 21ms/step - loss: 0.1623 - acc: 0.9434 - val_loss: 0.2232 - val_acc: 0.9121\n",
      "Epoch 60/60\n",
      "64/64 [==============================] - 1s 21ms/step - loss: 0.1571 - acc: 0.9443 - val_loss: 0.2099 - val_acc: 0.9248\n"
     ]
    },
    {
     "data": {
      "text/plain": [
       "<keras.callbacks.History at 0x7f1ea599b5c0>"
      ]
     },
     "execution_count": 14,
     "metadata": {},
     "output_type": "execute_result"
    }
   ],
   "source": [
    "valid=valid_gen()\n",
    "train=train_gen()\n",
    "model.fit_generator(train, \n",
    "                    validation_data=valid, validation_steps=64,\n",
    "                    epochs=60, \n",
    "                    steps_per_epoch=64)"
   ]
  },
  {
   "cell_type": "code",
   "execution_count": 15,
   "metadata": {},
   "outputs": [
    {
     "name": "stdout",
     "output_type": "stream",
     "text": [
      "BloodyMerryMorning 54\n",
      "Predicted:  0.69377655    Actual:  True \n",
      "\n",
      "ImLookingThruYou 172\n",
      "Predicted:  0.8795524    Actual:  True \n",
      "\n",
      "EternalFlame 123\n",
      "Predicted:  0.00018837058    Actual:  False \n",
      "\n",
      "IfIHadAHammer 94\n",
      "Predicted:  0.85999244    Actual:  True \n",
      "\n",
      "AHardRainsAGonnaFall 75\n",
      "Predicted:  0.00054686726    Actual:  False \n",
      "\n",
      "BigJimMP 83\n",
      "Predicted:  0.8917004    Actual:  True \n",
      "\n",
      "53rdAnd3rdMP 287\n",
      "Predicted:  0.37219226    Actual:  False \n",
      "\n",
      "AHardRainsAGonnaFall 47\n",
      "Predicted:  0.03424412    Actual:  False \n",
      "\n",
      "AHardRainsAGonnaFall 62\n",
      "Predicted:  0.20189461    Actual:  True \n",
      "\n",
      "SmoothOperator 120\n",
      "Predicted:  0.8917004    Actual:  True \n",
      "\n"
     ]
    }
   ],
   "source": [
    "for i in range(10):\n",
    "    song, tempo, compatible, clip = get_validation_case()\n",
    "    print( song, tempo )\n",
    "    c = clip_to_tf_input(resample_clip(clip))\n",
    "    x = np.expand_dims(preproc(c), axis=0)\n",
    "    p = model.predict(x)[0][0]\n",
    "    print( 'Predicted: ', p, '   Actual: ', compatible, '\\n' )"
   ]
  },
  {
   "cell_type": "code",
   "execution_count": null,
   "metadata": {},
   "outputs": [],
   "source": []
  }
 ],
 "metadata": {
  "kernelspec": {
   "display_name": "Python 3",
   "language": "python",
   "name": "python3"
  },
  "language_info": {
   "codemirror_mode": {
    "name": "ipython",
    "version": 3
   },
   "file_extension": ".py",
   "mimetype": "text/x-python",
   "name": "python",
   "nbconvert_exporter": "python",
   "pygments_lexer": "ipython3",
   "version": "3.6.6"
  }
 },
 "nbformat": 4,
 "nbformat_minor": 2
}

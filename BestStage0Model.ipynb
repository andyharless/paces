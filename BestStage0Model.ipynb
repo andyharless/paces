{
 "cells": [
  {
   "cell_type": "code",
   "execution_count": 1,
   "metadata": {},
   "outputs": [
    {
     "name": "stderr",
     "output_type": "stream",
     "text": [
      "/home/andy/.local/lib/python3.6/site-packages/h5py/__init__.py:36: FutureWarning: Conversion of the second argument of issubdtype from `float` to `np.floating` is deprecated. In future, it will be treated as `np.float64 == np.dtype(float).type`.\n",
      "  from ._conv import register_converters as _register_converters\n",
      "Using TensorFlow backend.\n"
     ]
    }
   ],
   "source": [
    "from get_training_data import *\n",
    "\n",
    "import tensorflow as tf\n",
    "import keras\n",
    "import pickle\n",
    "import gzip\n",
    "import os\n",
    "import random\n",
    "import matplotlib.pyplot as plt\n",
    "%matplotlib nbagg"
   ]
  },
  {
   "cell_type": "code",
   "execution_count": 2,
   "metadata": {},
   "outputs": [
    {
     "data": {
      "text/plain": [
       "(tuple, 2)"
      ]
     },
     "execution_count": 2,
     "metadata": {},
     "output_type": "execute_result"
    }
   ],
   "source": [
    "with gzip.open('train_cases.pkl.gz','rb') as fp:\n",
    "    train_cases = pickle.load(fp)\n",
    "type(train_cases), len(train_cases)"
   ]
  },
  {
   "cell_type": "code",
   "execution_count": 3,
   "metadata": {},
   "outputs": [
    {
     "data": {
      "text/plain": [
       "(numpy.ndarray,\n",
       " (16384, 16, 16, 128),\n",
       " dtype('float32'),\n",
       " numpy.ndarray,\n",
       " (16384, 1),\n",
       " dtype('float64'))"
      ]
     },
     "execution_count": 3,
     "metadata": {},
     "output_type": "execute_result"
    }
   ],
   "source": [
    "train_X = train_cases[0]\n",
    "train_y = train_cases[1]\n",
    "ntrain = train_X.shape[0]\n",
    "type(train_X), train_X.shape, train_X.dtype, type(train_y), train_y.shape, train_y.dtype"
   ]
  },
  {
   "cell_type": "code",
   "execution_count": 4,
   "metadata": {},
   "outputs": [
    {
     "data": {
      "text/plain": [
       "(numpy.ndarray,\n",
       " (4096, 16, 16, 128),\n",
       " dtype('float32'),\n",
       " numpy.ndarray,\n",
       " (4096, 1),\n",
       " dtype('float64'))"
      ]
     },
     "execution_count": 4,
     "metadata": {},
     "output_type": "execute_result"
    }
   ],
   "source": [
    "with gzip.open('valid_cases.pkl.gz','rb') as fp:\n",
    "    valid_cases = pickle.load(fp)\n",
    "valid_X = valid_cases[0]\n",
    "valid_y = valid_cases[1]\n",
    "nvalid = valid_X.shape[0]\n",
    "type(valid_X), valid_X.shape, valid_X.dtype, type(valid_y), valid_y.shape, valid_y.dtype"
   ]
  },
  {
   "cell_type": "code",
   "execution_count": 5,
   "metadata": {},
   "outputs": [],
   "source": [
    "def choose_training_case():\n",
    "    i = random.randint(0, ntrain-1)\n",
    "    return(train_X[i,:,:,:], train_y[i,:])\n",
    "\n",
    "def choose_validation_case():\n",
    "    i = random.randint(0, nvalid-1)\n",
    "    return(valid_X[i,:,:,:], valid_y[i,:])"
   ]
  },
  {
   "cell_type": "code",
   "execution_count": 6,
   "metadata": {},
   "outputs": [],
   "source": [
    "ADD_CONST = 1e-5\n",
    "CENTER = -2.5\n",
    "SCALE = 5\n",
    "XFORM = True"
   ]
  },
  {
   "cell_type": "code",
   "execution_count": 7,
   "metadata": {},
   "outputs": [],
   "source": [
    "def preproc(a):\n",
    "    if XFORM:\n",
    "        return((np.log(a+ADD_CONST) - CENTER) / SCALE)\n",
    "    else:\n",
    "        return(a)"
   ]
  },
  {
   "cell_type": "code",
   "execution_count": 8,
   "metadata": {},
   "outputs": [],
   "source": [
    "def make_batch_from_megabatch(batchsize=32, validation=False):\n",
    "    get_case = choose_validation_case if validation else choose_training_case    \n",
    "    xbatch = np.empty([0, INPUTS_PER_BEAT, NBEATS, NCHANNELS],dtype=np.float32)\n",
    "    ybatch = np.empty([0, 1])\n",
    "    for i in range(batchsize):\n",
    "        case = get_case()\n",
    "        x = np.expand_dims(case[0], axis=0)\n",
    "        xbatch = np.concatenate([xbatch, x], axis=0)\n",
    "        y = np.array(int(case[1])).reshape([1,1])\n",
    "        ybatch = np.concatenate([ybatch, y], axis=0)\n",
    "    return(preproc(xbatch), ybatch)\n",
    "\n",
    "def train_gen(batchsize=32):\n",
    "    while True:\n",
    "        yield(make_batch_from_megabatch(batchsize, validation=False))\n",
    "\n",
    "def valid_gen(batchsize=32):\n",
    "    while True:\n",
    "        yield(make_batch_from_megabatch(batchsize, validation=True))"
   ]
  },
  {
   "cell_type": "code",
   "execution_count": 9,
   "metadata": {},
   "outputs": [
    {
     "data": {
      "text/plain": [
       "((32, 16, 16, 128), (32, 1))"
      ]
     },
     "execution_count": 9,
     "metadata": {},
     "output_type": "execute_result"
    }
   ],
   "source": [
    "# The generators are way too slow: have to fix this\n",
    "for t in train_gen():\n",
    "    break\n",
    "t[0].shape, t[1].shape"
   ]
  },
  {
   "cell_type": "code",
   "execution_count": 10,
   "metadata": {},
   "outputs": [
    {
     "data": {
      "text/plain": [
       "((32, 16, 16, 128), (32, 1))"
      ]
     },
     "execution_count": 10,
     "metadata": {},
     "output_type": "execute_result"
    }
   ],
   "source": [
    "for v in valid_gen():\n",
    "    break\n",
    "v[0].shape, v[1].shape"
   ]
  },
  {
   "cell_type": "code",
   "execution_count": 11,
   "metadata": {},
   "outputs": [],
   "source": [
    "input_shape = (INPUTS_PER_BEAT, NBEATS, NCHANNELS)\n",
    "\n",
    "model = keras.Sequential()\n",
    "model.add(keras.layers.Conv2D(64, 1, activation='relu', input_shape=input_shape))\n",
    "model.add(keras.layers.SpatialDropout2D(.1))\n",
    "model.add(keras.layers.Conv2D(32, 1, activation='relu'))\n",
    "model.add(keras.layers.BatchNormalization())\n",
    "model.add(keras.layers.Conv2D(16, (2,4), activation='relu'))\n",
    "model.add(keras.layers.SpatialDropout2D(.3))\n",
    "model.add(keras.layers.Conv2D(25, (4,6), activation='relu'))\n",
    "model.add(keras.layers.BatchNormalization())\n",
    "model.add(keras.layers.Conv2D(3, (2,4), activation='relu'))\n",
    "model.add(keras.layers.Flatten())\n",
    "model.add(keras.layers.Dropout(.6))\n",
    "model.add(keras.layers.Dense(1, activation='sigmoid'))"
   ]
  },
  {
   "cell_type": "code",
   "execution_count": 12,
   "metadata": {},
   "outputs": [],
   "source": [
    "model.compile(loss='binary_crossentropy', \n",
    "              optimizer=keras.optimizers.Adam(lr=.003,decay=2e-4), \n",
    "              metrics=['accuracy'])"
   ]
  },
  {
   "cell_type": "code",
   "execution_count": 13,
   "metadata": {},
   "outputs": [
    {
     "name": "stdout",
     "output_type": "stream",
     "text": [
      "_________________________________________________________________\n",
      "Layer (type)                 Output Shape              Param #   \n",
      "=================================================================\n",
      "conv2d_1 (Conv2D)            (None, 16, 16, 64)        8256      \n",
      "_________________________________________________________________\n",
      "spatial_dropout2d_1 (Spatial (None, 16, 16, 64)        0         \n",
      "_________________________________________________________________\n",
      "conv2d_2 (Conv2D)            (None, 16, 16, 32)        2080      \n",
      "_________________________________________________________________\n",
      "batch_normalization_1 (Batch (None, 16, 16, 32)        128       \n",
      "_________________________________________________________________\n",
      "conv2d_3 (Conv2D)            (None, 15, 13, 16)        4112      \n",
      "_________________________________________________________________\n",
      "spatial_dropout2d_2 (Spatial (None, 15, 13, 16)        0         \n",
      "_________________________________________________________________\n",
      "conv2d_4 (Conv2D)            (None, 12, 8, 25)         9625      \n",
      "_________________________________________________________________\n",
      "batch_normalization_2 (Batch (None, 12, 8, 25)         100       \n",
      "_________________________________________________________________\n",
      "conv2d_5 (Conv2D)            (None, 11, 5, 3)          603       \n",
      "_________________________________________________________________\n",
      "flatten_1 (Flatten)          (None, 165)               0         \n",
      "_________________________________________________________________\n",
      "dropout_1 (Dropout)          (None, 165)               0         \n",
      "_________________________________________________________________\n",
      "dense_1 (Dense)              (None, 1)                 166       \n",
      "=================================================================\n",
      "Total params: 25,070\n",
      "Trainable params: 24,956\n",
      "Non-trainable params: 114\n",
      "_________________________________________________________________\n"
     ]
    }
   ],
   "source": [
    "model.summary()"
   ]
  },
  {
   "cell_type": "code",
   "execution_count": 14,
   "metadata": {
    "scrolled": true
   },
   "outputs": [
    {
     "name": "stdout",
     "output_type": "stream",
     "text": [
      "WARNING:tensorflow:Variable *= will be deprecated. Use variable.assign_mul if you want assignment to the variable value or 'x = x * y' if you want a new python Tensor object.\n",
      "Epoch 1/60\n",
      "64/64 [==============================] - 2s 36ms/step - loss: 0.6830 - acc: 0.6914 - val_loss: 0.8609 - val_acc: 0.7427\n",
      "Epoch 2/60\n",
      "64/64 [==============================] - 1s 20ms/step - loss: 0.5906 - acc: 0.7500 - val_loss: 0.5890 - val_acc: 0.7554\n",
      "Epoch 3/60\n",
      "64/64 [==============================] - 1s 20ms/step - loss: 0.5886 - acc: 0.7544 - val_loss: 0.5740 - val_acc: 0.7637\n",
      "Epoch 4/60\n",
      "64/64 [==============================] - 1s 21ms/step - loss: 0.5620 - acc: 0.7656 - val_loss: 0.5799 - val_acc: 0.7485\n",
      "Epoch 5/60\n",
      "64/64 [==============================] - 1s 20ms/step - loss: 0.5342 - acc: 0.7886 - val_loss: 0.5540 - val_acc: 0.7524\n",
      "Epoch 6/60\n",
      "64/64 [==============================] - 1s 20ms/step - loss: 0.5238 - acc: 0.7729 - val_loss: 0.5423 - val_acc: 0.7554\n",
      "Epoch 7/60\n",
      "64/64 [==============================] - 1s 20ms/step - loss: 0.5109 - acc: 0.7734 - val_loss: 0.5127 - val_acc: 0.7603\n",
      "Epoch 8/60\n",
      "64/64 [==============================] - 1s 20ms/step - loss: 0.4823 - acc: 0.7808 - val_loss: 0.5161 - val_acc: 0.7520\n",
      "Epoch 9/60\n",
      "64/64 [==============================] - 1s 20ms/step - loss: 0.4586 - acc: 0.7876 - val_loss: 0.4958 - val_acc: 0.7666\n",
      "Epoch 10/60\n",
      "64/64 [==============================] - 1s 21ms/step - loss: 0.4581 - acc: 0.7715 - val_loss: 0.4980 - val_acc: 0.7725\n",
      "Epoch 11/60\n",
      "64/64 [==============================] - 1s 20ms/step - loss: 0.4620 - acc: 0.7671 - val_loss: 0.4860 - val_acc: 0.7764\n",
      "Epoch 12/60\n",
      "64/64 [==============================] - 1s 20ms/step - loss: 0.4408 - acc: 0.7803 - val_loss: 0.4406 - val_acc: 0.7651\n",
      "Epoch 13/60\n",
      "64/64 [==============================] - 1s 21ms/step - loss: 0.4141 - acc: 0.7671 - val_loss: 0.4364 - val_acc: 0.7690\n",
      "Epoch 14/60\n",
      "64/64 [==============================] - 1s 20ms/step - loss: 0.3980 - acc: 0.7744 - val_loss: 0.4251 - val_acc: 0.7646\n",
      "Epoch 15/60\n",
      "64/64 [==============================] - 1s 20ms/step - loss: 0.3709 - acc: 0.7764 - val_loss: 0.3733 - val_acc: 0.7773\n",
      "Epoch 16/60\n",
      "64/64 [==============================] - 1s 21ms/step - loss: 0.3465 - acc: 0.7788 - val_loss: 0.4515 - val_acc: 0.7646\n",
      "Epoch 17/60\n",
      "64/64 [==============================] - 1s 20ms/step - loss: 0.3350 - acc: 0.7905 - val_loss: 0.3278 - val_acc: 0.8467\n",
      "Epoch 18/60\n",
      "64/64 [==============================] - 1s 20ms/step - loss: 0.2805 - acc: 0.8716 - val_loss: 0.3074 - val_acc: 0.8530\n",
      "Epoch 19/60\n",
      "64/64 [==============================] - 1s 20ms/step - loss: 0.2920 - acc: 0.8765 - val_loss: 0.2831 - val_acc: 0.8887\n",
      "Epoch 20/60\n",
      "64/64 [==============================] - 1s 20ms/step - loss: 0.2877 - acc: 0.8784 - val_loss: 0.3134 - val_acc: 0.8848\n",
      "Epoch 21/60\n",
      "64/64 [==============================] - 1s 20ms/step - loss: 0.2612 - acc: 0.8950 - val_loss: 0.2748 - val_acc: 0.8931\n",
      "Epoch 22/60\n",
      "64/64 [==============================] - 1s 20ms/step - loss: 0.2505 - acc: 0.9028 - val_loss: 0.2869 - val_acc: 0.8823\n",
      "Epoch 23/60\n",
      "64/64 [==============================] - 1s 20ms/step - loss: 0.2521 - acc: 0.9053 - val_loss: 0.2826 - val_acc: 0.8945\n",
      "Epoch 24/60\n",
      "64/64 [==============================] - 1s 20ms/step - loss: 0.2296 - acc: 0.9199 - val_loss: 0.2888 - val_acc: 0.8887\n",
      "Epoch 25/60\n",
      "64/64 [==============================] - 1s 20ms/step - loss: 0.2569 - acc: 0.9009 - val_loss: 0.2604 - val_acc: 0.8921\n",
      "Epoch 26/60\n",
      "64/64 [==============================] - 1s 20ms/step - loss: 0.2274 - acc: 0.9111 - val_loss: 0.2826 - val_acc: 0.8975\n",
      "Epoch 27/60\n",
      "64/64 [==============================] - 1s 20ms/step - loss: 0.2213 - acc: 0.9116 - val_loss: 0.2584 - val_acc: 0.9004\n",
      "Epoch 28/60\n",
      "64/64 [==============================] - 1s 20ms/step - loss: 0.2201 - acc: 0.9136 - val_loss: 0.2521 - val_acc: 0.9053\n",
      "Epoch 29/60\n",
      "64/64 [==============================] - 1s 21ms/step - loss: 0.2166 - acc: 0.9175 - val_loss: 0.2655 - val_acc: 0.8965\n",
      "Epoch 30/60\n",
      "64/64 [==============================] - 1s 21ms/step - loss: 0.2240 - acc: 0.9194 - val_loss: 0.2391 - val_acc: 0.9067\n",
      "Epoch 31/60\n",
      "64/64 [==============================] - 1s 21ms/step - loss: 0.2250 - acc: 0.9102 - val_loss: 0.2289 - val_acc: 0.9121\n",
      "Epoch 32/60\n",
      "64/64 [==============================] - 1s 21ms/step - loss: 0.1880 - acc: 0.9258 - val_loss: 0.2276 - val_acc: 0.9141\n",
      "Epoch 33/60\n",
      "64/64 [==============================] - 1s 21ms/step - loss: 0.1998 - acc: 0.9297 - val_loss: 0.2275 - val_acc: 0.9155\n",
      "Epoch 34/60\n",
      "64/64 [==============================] - 1s 20ms/step - loss: 0.1849 - acc: 0.9321 - val_loss: 0.2340 - val_acc: 0.9189\n",
      "Epoch 35/60\n",
      "64/64 [==============================] - 1s 20ms/step - loss: 0.1964 - acc: 0.9243 - val_loss: 0.2394 - val_acc: 0.8994\n",
      "Epoch 36/60\n",
      "64/64 [==============================] - 1s 20ms/step - loss: 0.2279 - acc: 0.9194 - val_loss: 0.2654 - val_acc: 0.9033\n",
      "Epoch 37/60\n",
      "64/64 [==============================] - 1s 21ms/step - loss: 0.2034 - acc: 0.9238 - val_loss: 0.2420 - val_acc: 0.9087\n",
      "Epoch 38/60\n",
      "64/64 [==============================] - 1s 21ms/step - loss: 0.1887 - acc: 0.9272 - val_loss: 0.2448 - val_acc: 0.8857\n",
      "Epoch 39/60\n",
      "64/64 [==============================] - 1s 21ms/step - loss: 0.1833 - acc: 0.9331 - val_loss: 0.2130 - val_acc: 0.9253\n",
      "Epoch 40/60\n",
      "64/64 [==============================] - 1s 21ms/step - loss: 0.1884 - acc: 0.9233 - val_loss: 0.2166 - val_acc: 0.9258\n",
      "Epoch 41/60\n",
      "64/64 [==============================] - 1s 21ms/step - loss: 0.2133 - acc: 0.9238 - val_loss: 0.2256 - val_acc: 0.9116\n",
      "Epoch 42/60\n",
      "64/64 [==============================] - 1s 21ms/step - loss: 0.1877 - acc: 0.9287 - val_loss: 0.2219 - val_acc: 0.9150\n",
      "Epoch 43/60\n",
      "64/64 [==============================] - 1s 20ms/step - loss: 0.1812 - acc: 0.9307 - val_loss: 0.2238 - val_acc: 0.9165\n",
      "Epoch 44/60\n",
      "64/64 [==============================] - 1s 20ms/step - loss: 0.1826 - acc: 0.9355 - val_loss: 0.2219 - val_acc: 0.9121\n",
      "Epoch 45/60\n",
      "64/64 [==============================] - 1s 20ms/step - loss: 0.1803 - acc: 0.9292 - val_loss: 0.2046 - val_acc: 0.9248\n",
      "Epoch 46/60\n",
      "64/64 [==============================] - 1s 20ms/step - loss: 0.1875 - acc: 0.9292 - val_loss: 0.2397 - val_acc: 0.9214\n",
      "Epoch 47/60\n",
      "64/64 [==============================] - 1s 20ms/step - loss: 0.1599 - acc: 0.9473 - val_loss: 0.2103 - val_acc: 0.9219\n",
      "Epoch 48/60\n",
      "64/64 [==============================] - 1s 20ms/step - loss: 0.1722 - acc: 0.9312 - val_loss: 0.2329 - val_acc: 0.9053\n",
      "Epoch 49/60\n",
      "64/64 [==============================] - 1s 21ms/step - loss: 0.1820 - acc: 0.9292 - val_loss: 0.2086 - val_acc: 0.9141\n",
      "Epoch 50/60\n",
      "64/64 [==============================] - 1s 20ms/step - loss: 0.1750 - acc: 0.9321 - val_loss: 0.2254 - val_acc: 0.9165\n",
      "Epoch 51/60\n",
      "64/64 [==============================] - 1s 21ms/step - loss: 0.1744 - acc: 0.9302 - val_loss: 0.2195 - val_acc: 0.9126\n",
      "Epoch 52/60\n",
      "64/64 [==============================] - 1s 20ms/step - loss: 0.1811 - acc: 0.9282 - val_loss: 0.2119 - val_acc: 0.9243\n",
      "Epoch 53/60\n",
      "64/64 [==============================] - 1s 20ms/step - loss: 0.1644 - acc: 0.9404 - val_loss: 0.2203 - val_acc: 0.9087\n",
      "Epoch 54/60\n",
      "64/64 [==============================] - 1s 20ms/step - loss: 0.1741 - acc: 0.9351 - val_loss: 0.2602 - val_acc: 0.9111\n",
      "Epoch 55/60\n",
      "64/64 [==============================] - 1s 20ms/step - loss: 0.1638 - acc: 0.9331 - val_loss: 0.2452 - val_acc: 0.9097\n",
      "Epoch 56/60\n",
      "64/64 [==============================] - 1s 20ms/step - loss: 0.1840 - acc: 0.9268 - val_loss: 0.2256 - val_acc: 0.9053\n",
      "Epoch 57/60\n",
      "64/64 [==============================] - 1s 20ms/step - loss: 0.1707 - acc: 0.9351 - val_loss: 0.2249 - val_acc: 0.9087\n",
      "Epoch 58/60\n",
      "64/64 [==============================] - 1s 20ms/step - loss: 0.1635 - acc: 0.9468 - val_loss: 0.2135 - val_acc: 0.9160\n",
      "Epoch 59/60\n",
      "64/64 [==============================] - 1s 20ms/step - loss: 0.1610 - acc: 0.9434 - val_loss: 0.2163 - val_acc: 0.9170\n",
      "Epoch 60/60\n",
      "64/64 [==============================] - 1s 20ms/step - loss: 0.1706 - acc: 0.9336 - val_loss: 0.1901 - val_acc: 0.9214\n"
     ]
    },
    {
     "data": {
      "text/plain": [
       "<keras.callbacks.History at 0x7ff74a6da6d8>"
      ]
     },
     "execution_count": 14,
     "metadata": {},
     "output_type": "execute_result"
    }
   ],
   "source": [
    "valid=valid_gen()\n",
    "train=train_gen()\n",
    "model.fit_generator(train, \n",
    "                    validation_data=valid, validation_steps=64,\n",
    "                    epochs=60, \n",
    "                    steps_per_epoch=64)"
   ]
  },
  {
   "cell_type": "code",
   "execution_count": 15,
   "metadata": {},
   "outputs": [
    {
     "name": "stdout",
     "output_type": "stream",
     "text": [
      "ImLookingThruYou 69\n",
      "Predicted:  0.0006818745    Actual:  False \n",
      "\n",
      "HangingOnTheTelephone 99\n",
      "Predicted:  0.00021099366    Actual:  False \n",
      "\n",
      "BothSidesNow 85\n",
      "Predicted:  0.048795793    Actual:  False \n",
      "\n",
      "EternalFlame 80\n",
      "Predicted:  0.7326286    Actual:  True \n",
      "\n",
      "WalkThisWay1 49\n",
      "Predicted:  0.00021785329    Actual:  False \n",
      "\n",
      "IThinkWereAloneNow2MP 172\n",
      "Predicted:  0.0102476785    Actual:  False \n",
      "\n",
      "09 Suddenly I See 144\n",
      "Predicted:  0.003922112    Actual:  False \n",
      "\n",
      "Kalamazoo 185\n",
      "Predicted:  0.0029575678    Actual:  False \n",
      "\n",
      "CaliforniaDreamin2MP 56\n",
      "Predicted:  0.87617373    Actual:  True \n",
      "\n",
      "HangingOnTheTelephone 99\n",
      "Predicted:  0.0011896356    Actual:  False \n",
      "\n"
     ]
    }
   ],
   "source": [
    "for i in range(10):\n",
    "    song, tempo, compatible, clip = get_validation_case()\n",
    "    print( song, tempo )\n",
    "    c = clip_to_tf_input(resample_clip(clip))\n",
    "    x = np.expand_dims(preproc(c), axis=0)\n",
    "    p = model.predict(x)[0][0]\n",
    "    print( 'Predicted: ', p, '   Actual: ', compatible, '\\n' )"
   ]
  },
  {
   "cell_type": "code",
   "execution_count": null,
   "metadata": {},
   "outputs": [],
   "source": []
  }
 ],
 "metadata": {
  "kernelspec": {
   "display_name": "Python 3",
   "language": "python",
   "name": "python3"
  },
  "language_info": {
   "codemirror_mode": {
    "name": "ipython",
    "version": 3
   },
   "file_extension": ".py",
   "mimetype": "text/x-python",
   "name": "python",
   "nbconvert_exporter": "python",
   "pygments_lexer": "ipython3",
   "version": "3.6.6"
  }
 },
 "nbformat": 4,
 "nbformat_minor": 2
}

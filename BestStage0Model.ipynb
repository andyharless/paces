{
 "cells": [
  {
   "cell_type": "code",
   "execution_count": 1,
   "metadata": {},
   "outputs": [
    {
     "name": "stderr",
     "output_type": "stream",
     "text": [
      "/home/andy/.local/lib/python3.6/site-packages/h5py/__init__.py:36: FutureWarning: Conversion of the second argument of issubdtype from `float` to `np.floating` is deprecated. In future, it will be treated as `np.float64 == np.dtype(float).type`.\n",
      "  from ._conv import register_converters as _register_converters\n",
      "Using TensorFlow backend.\n"
     ]
    }
   ],
   "source": [
    "from get_training_data import *\n",
    "\n",
    "import tensorflow as tf\n",
    "import keras\n",
    "import pickle\n",
    "import gzip\n",
    "import os\n",
    "import random\n",
    "import matplotlib.pyplot as plt\n",
    "%matplotlib nbagg"
   ]
  },
  {
   "cell_type": "code",
   "execution_count": 2,
   "metadata": {},
   "outputs": [
    {
     "data": {
      "text/plain": [
       "(tuple, 2)"
      ]
     },
     "execution_count": 2,
     "metadata": {},
     "output_type": "execute_result"
    }
   ],
   "source": [
    "with gzip.open('train_cases.pkl.gz','rb') as fp:\n",
    "    train_cases = pickle.load(fp)\n",
    "type(train_cases), len(train_cases)"
   ]
  },
  {
   "cell_type": "code",
   "execution_count": 3,
   "metadata": {},
   "outputs": [
    {
     "data": {
      "text/plain": [
       "(numpy.ndarray,\n",
       " (16384, 16, 16, 128),\n",
       " dtype('float32'),\n",
       " numpy.ndarray,\n",
       " (16384, 1),\n",
       " dtype('float64'))"
      ]
     },
     "execution_count": 3,
     "metadata": {},
     "output_type": "execute_result"
    }
   ],
   "source": [
    "train_X = train_cases[0]\n",
    "train_y = train_cases[1]\n",
    "ntrain = train_X.shape[0]\n",
    "type(train_X), train_X.shape, train_X.dtype, type(train_y), train_y.shape, train_y.dtype"
   ]
  },
  {
   "cell_type": "code",
   "execution_count": 4,
   "metadata": {},
   "outputs": [
    {
     "data": {
      "text/plain": [
       "(numpy.ndarray,\n",
       " (4096, 16, 16, 128),\n",
       " dtype('float32'),\n",
       " numpy.ndarray,\n",
       " (4096, 1),\n",
       " dtype('float64'))"
      ]
     },
     "execution_count": 4,
     "metadata": {},
     "output_type": "execute_result"
    }
   ],
   "source": [
    "with gzip.open('valid_cases.pkl.gz','rb') as fp:\n",
    "    valid_cases = pickle.load(fp)\n",
    "valid_X = valid_cases[0]\n",
    "valid_y = valid_cases[1]\n",
    "nvalid = valid_X.shape[0]\n",
    "type(valid_X), valid_X.shape, valid_X.dtype, type(valid_y), valid_y.shape, valid_y.dtype"
   ]
  },
  {
   "cell_type": "code",
   "execution_count": 5,
   "metadata": {},
   "outputs": [],
   "source": [
    "def choose_training_case():\n",
    "    i = random.randint(0, ntrain-1)\n",
    "    return(train_X[i,:,:,:], train_y[i,:])\n",
    "\n",
    "def choose_validation_case():\n",
    "    i = random.randint(0, nvalid-1)\n",
    "    return(valid_X[i,:,:,:], valid_y[i,:])"
   ]
  },
  {
   "cell_type": "code",
   "execution_count": 6,
   "metadata": {},
   "outputs": [],
   "source": [
    "def make_batch_from_megabatch(batchsize=32, validation=False):\n",
    "    get_case = choose_validation_case if validation else choose_training_case    \n",
    "    xbatch = np.empty([0, INPUTS_PER_BEAT, NBEATS, NCHANNELS],dtype=np.float32)\n",
    "    ybatch = np.empty([0, 1])\n",
    "    for i in range(batchsize):\n",
    "        case = get_case()\n",
    "        x = np.expand_dims(case[0], axis=0)\n",
    "        xbatch = np.concatenate([xbatch, x], axis=0)\n",
    "        y = np.array(int(case[1])).reshape([1,1])\n",
    "        ybatch = np.concatenate([ybatch, y], axis=0)\n",
    "    return(xbatch, ybatch)\n",
    "\n",
    "def train_gen(batchsize=32):\n",
    "    while True:\n",
    "        yield(make_batch_from_megabatch(batchsize, validation=False))\n",
    "\n",
    "def valid_gen(batchsize=32):\n",
    "    while True:\n",
    "        yield(make_batch_from_megabatch(batchsize, validation=True))"
   ]
  },
  {
   "cell_type": "code",
   "execution_count": 7,
   "metadata": {},
   "outputs": [
    {
     "data": {
      "text/plain": [
       "((32, 16, 16, 128), (32, 1))"
      ]
     },
     "execution_count": 7,
     "metadata": {},
     "output_type": "execute_result"
    }
   ],
   "source": [
    "# The generators are way too slow: have to fix this\n",
    "for t in train_gen():\n",
    "    break\n",
    "t[0].shape, t[1].shape"
   ]
  },
  {
   "cell_type": "code",
   "execution_count": 8,
   "metadata": {},
   "outputs": [
    {
     "data": {
      "text/plain": [
       "((32, 16, 16, 128), (32, 1))"
      ]
     },
     "execution_count": 8,
     "metadata": {},
     "output_type": "execute_result"
    }
   ],
   "source": [
    "for v in valid_gen():\n",
    "    break\n",
    "v[0].shape, v[1].shape"
   ]
  },
  {
   "cell_type": "code",
   "execution_count": 9,
   "metadata": {},
   "outputs": [],
   "source": [
    "input_shape = (INPUTS_PER_BEAT, NBEATS, NCHANNELS)\n",
    "\n",
    "model = keras.Sequential()\n",
    "model.add(keras.layers.Conv2D(64, 1, activation='relu', input_shape=input_shape))\n",
    "model.add(keras.layers.BatchNormalization())\n",
    "model.add(keras.layers.Conv2D(32, 1, activation='relu'))\n",
    "model.add(keras.layers.BatchNormalization())\n",
    "model.add(keras.layers.Conv2D(16, (2,4), activation='relu'))\n",
    "model.add(keras.layers.BatchNormalization())\n",
    "model.add(keras.layers.Conv2D(25, (4,6), activation='relu'))\n",
    "model.add(keras.layers.BatchNormalization())\n",
    "model.add(keras.layers.Conv2D(3, (2,4), activation='relu'))\n",
    "model.add(keras.layers.Flatten())\n",
    "model.add(keras.layers.Dropout(.5))\n",
    "model.add(keras.layers.Dense(1, activation='sigmoid'))"
   ]
  },
  {
   "cell_type": "code",
   "execution_count": 10,
   "metadata": {},
   "outputs": [],
   "source": [
    "model.compile(loss='binary_crossentropy', \n",
    "              optimizer=keras.optimizers.Adam(lr=.003,decay=2e-4), \n",
    "              metrics=['accuracy'])"
   ]
  },
  {
   "cell_type": "code",
   "execution_count": 11,
   "metadata": {},
   "outputs": [
    {
     "name": "stdout",
     "output_type": "stream",
     "text": [
      "_________________________________________________________________\n",
      "Layer (type)                 Output Shape              Param #   \n",
      "=================================================================\n",
      "conv2d_1 (Conv2D)            (None, 16, 16, 64)        8256      \n",
      "_________________________________________________________________\n",
      "batch_normalization_1 (Batch (None, 16, 16, 64)        256       \n",
      "_________________________________________________________________\n",
      "conv2d_2 (Conv2D)            (None, 16, 16, 32)        2080      \n",
      "_________________________________________________________________\n",
      "batch_normalization_2 (Batch (None, 16, 16, 32)        128       \n",
      "_________________________________________________________________\n",
      "conv2d_3 (Conv2D)            (None, 15, 13, 16)        4112      \n",
      "_________________________________________________________________\n",
      "batch_normalization_3 (Batch (None, 15, 13, 16)        64        \n",
      "_________________________________________________________________\n",
      "conv2d_4 (Conv2D)            (None, 12, 8, 25)         9625      \n",
      "_________________________________________________________________\n",
      "batch_normalization_4 (Batch (None, 12, 8, 25)         100       \n",
      "_________________________________________________________________\n",
      "conv2d_5 (Conv2D)            (None, 11, 5, 3)          603       \n",
      "_________________________________________________________________\n",
      "flatten_1 (Flatten)          (None, 165)               0         \n",
      "_________________________________________________________________\n",
      "dropout_1 (Dropout)          (None, 165)               0         \n",
      "_________________________________________________________________\n",
      "dense_1 (Dense)              (None, 1)                 166       \n",
      "=================================================================\n",
      "Total params: 25,390\n",
      "Trainable params: 25,116\n",
      "Non-trainable params: 274\n",
      "_________________________________________________________________\n"
     ]
    }
   ],
   "source": [
    "model.summary()"
   ]
  },
  {
   "cell_type": "code",
   "execution_count": 12,
   "metadata": {
    "scrolled": true
   },
   "outputs": [
    {
     "name": "stdout",
     "output_type": "stream",
     "text": [
      "WARNING:tensorflow:Variable *= will be deprecated. Use variable.assign_mul if you want assignment to the variable value or 'x = x * y' if you want a new python Tensor object.\n",
      "Epoch 1/60\n",
      "64/64 [==============================] - 2s 32ms/step - loss: 0.6410 - acc: 0.7202 - val_loss: 0.5987 - val_acc: 0.7544\n",
      "Epoch 2/60\n",
      "64/64 [==============================] - 1s 14ms/step - loss: 0.5764 - acc: 0.7588 - val_loss: 0.5644 - val_acc: 0.7500\n",
      "Epoch 3/60\n",
      "64/64 [==============================] - 1s 14ms/step - loss: 0.5526 - acc: 0.7749 - val_loss: 0.5514 - val_acc: 0.7715\n",
      "Epoch 4/60\n",
      "64/64 [==============================] - 1s 13ms/step - loss: 0.5366 - acc: 0.7739 - val_loss: 0.5560 - val_acc: 0.7646\n",
      "Epoch 5/60\n",
      "64/64 [==============================] - 1s 14ms/step - loss: 0.5495 - acc: 0.7554 - val_loss: 0.5460 - val_acc: 0.7651\n",
      "Epoch 6/60\n",
      "64/64 [==============================] - 1s 13ms/step - loss: 0.5111 - acc: 0.7666 - val_loss: 0.5255 - val_acc: 0.7749\n",
      "Epoch 7/60\n",
      "64/64 [==============================] - 1s 13ms/step - loss: 0.5022 - acc: 0.7808 - val_loss: 0.5583 - val_acc: 0.7524\n",
      "Epoch 8/60\n",
      "64/64 [==============================] - 1s 14ms/step - loss: 0.4993 - acc: 0.7568 - val_loss: 0.5490 - val_acc: 0.7744\n",
      "Epoch 9/60\n",
      "64/64 [==============================] - 1s 13ms/step - loss: 0.4445 - acc: 0.8037 - val_loss: 0.5051 - val_acc: 0.7324\n",
      "Epoch 10/60\n",
      "64/64 [==============================] - 1s 13ms/step - loss: 0.4306 - acc: 0.8047 - val_loss: 0.4971 - val_acc: 0.7900\n",
      "Epoch 11/60\n",
      "64/64 [==============================] - 1s 13ms/step - loss: 0.3890 - acc: 0.8306 - val_loss: 0.4884 - val_acc: 0.7896\n",
      "Epoch 12/60\n",
      "64/64 [==============================] - 1s 13ms/step - loss: 0.3784 - acc: 0.8364 - val_loss: 0.4562 - val_acc: 0.7769\n",
      "Epoch 13/60\n",
      "64/64 [==============================] - 1s 13ms/step - loss: 0.3447 - acc: 0.8525 - val_loss: 0.4677 - val_acc: 0.8066\n",
      "Epoch 14/60\n",
      "64/64 [==============================] - 1s 13ms/step - loss: 0.3439 - acc: 0.8496 - val_loss: 0.4281 - val_acc: 0.8335\n",
      "Epoch 15/60\n",
      "64/64 [==============================] - 1s 14ms/step - loss: 0.3105 - acc: 0.8555 - val_loss: 0.4128 - val_acc: 0.8311\n",
      "Epoch 16/60\n",
      "64/64 [==============================] - 1s 13ms/step - loss: 0.3157 - acc: 0.8623 - val_loss: 0.4306 - val_acc: 0.8066\n",
      "Epoch 17/60\n",
      "64/64 [==============================] - 1s 14ms/step - loss: 0.2558 - acc: 0.8896 - val_loss: 0.4005 - val_acc: 0.8657\n",
      "Epoch 18/60\n",
      "64/64 [==============================] - 1s 13ms/step - loss: 0.2708 - acc: 0.8916 - val_loss: 0.4165 - val_acc: 0.8232\n",
      "Epoch 19/60\n",
      "64/64 [==============================] - 1s 13ms/step - loss: 0.2494 - acc: 0.8960 - val_loss: 0.3256 - val_acc: 0.8560\n",
      "Epoch 20/60\n",
      "64/64 [==============================] - 1s 13ms/step - loss: 0.2308 - acc: 0.9043 - val_loss: 0.3393 - val_acc: 0.8652\n",
      "Epoch 21/60\n",
      "64/64 [==============================] - 1s 13ms/step - loss: 0.2310 - acc: 0.9043 - val_loss: 0.3199 - val_acc: 0.8535\n",
      "Epoch 22/60\n",
      "64/64 [==============================] - 1s 13ms/step - loss: 0.2431 - acc: 0.8950 - val_loss: 0.3360 - val_acc: 0.8564\n",
      "Epoch 23/60\n",
      "64/64 [==============================] - 1s 13ms/step - loss: 0.2014 - acc: 0.9209 - val_loss: 0.3265 - val_acc: 0.8618\n",
      "Epoch 24/60\n",
      "64/64 [==============================] - 1s 13ms/step - loss: 0.2197 - acc: 0.9058 - val_loss: 0.3456 - val_acc: 0.8667\n",
      "Epoch 25/60\n",
      "64/64 [==============================] - 1s 13ms/step - loss: 0.1873 - acc: 0.9253 - val_loss: 0.3608 - val_acc: 0.8604\n",
      "Epoch 26/60\n",
      "64/64 [==============================] - 1s 13ms/step - loss: 0.1803 - acc: 0.9277 - val_loss: 0.3050 - val_acc: 0.8687\n",
      "Epoch 27/60\n",
      "64/64 [==============================] - 1s 13ms/step - loss: 0.1974 - acc: 0.9268 - val_loss: 0.2991 - val_acc: 0.8799\n",
      "Epoch 28/60\n",
      "64/64 [==============================] - 1s 13ms/step - loss: 0.1795 - acc: 0.9277 - val_loss: 0.3094 - val_acc: 0.8662\n",
      "Epoch 29/60\n",
      "64/64 [==============================] - 1s 13ms/step - loss: 0.1859 - acc: 0.9209 - val_loss: 0.3211 - val_acc: 0.8735\n",
      "Epoch 30/60\n",
      "64/64 [==============================] - 1s 13ms/step - loss: 0.1991 - acc: 0.9238 - val_loss: 0.2798 - val_acc: 0.8794\n",
      "Epoch 31/60\n",
      "64/64 [==============================] - 1s 13ms/step - loss: 0.1778 - acc: 0.9287 - val_loss: 0.3381 - val_acc: 0.8750\n",
      "Epoch 32/60\n",
      "64/64 [==============================] - 1s 13ms/step - loss: 0.1792 - acc: 0.9287 - val_loss: 0.3122 - val_acc: 0.8721\n",
      "Epoch 33/60\n",
      "64/64 [==============================] - 1s 13ms/step - loss: 0.1769 - acc: 0.9272 - val_loss: 0.3203 - val_acc: 0.8711\n",
      "Epoch 34/60\n",
      "64/64 [==============================] - 1s 13ms/step - loss: 0.1481 - acc: 0.9380 - val_loss: 0.3080 - val_acc: 0.8735\n",
      "Epoch 35/60\n",
      "64/64 [==============================] - 1s 13ms/step - loss: 0.1695 - acc: 0.9302 - val_loss: 0.3369 - val_acc: 0.8657\n",
      "Epoch 36/60\n",
      "64/64 [==============================] - 1s 13ms/step - loss: 0.1494 - acc: 0.9438 - val_loss: 0.3320 - val_acc: 0.8706\n",
      "Epoch 37/60\n",
      "64/64 [==============================] - 1s 13ms/step - loss: 0.1522 - acc: 0.9434 - val_loss: 0.2940 - val_acc: 0.8848\n",
      "Epoch 38/60\n",
      "64/64 [==============================] - 1s 13ms/step - loss: 0.1581 - acc: 0.9365 - val_loss: 0.2486 - val_acc: 0.8896\n",
      "Epoch 39/60\n",
      "64/64 [==============================] - 1s 13ms/step - loss: 0.1491 - acc: 0.9458 - val_loss: 0.4151 - val_acc: 0.8530\n",
      "Epoch 40/60\n",
      "64/64 [==============================] - 1s 13ms/step - loss: 0.1746 - acc: 0.9316 - val_loss: 0.2847 - val_acc: 0.8706\n",
      "Epoch 41/60\n",
      "64/64 [==============================] - 1s 13ms/step - loss: 0.1478 - acc: 0.9385 - val_loss: 0.3279 - val_acc: 0.8618\n",
      "Epoch 42/60\n",
      "64/64 [==============================] - 1s 13ms/step - loss: 0.1438 - acc: 0.9365 - val_loss: 0.2991 - val_acc: 0.8823\n",
      "Epoch 43/60\n",
      "64/64 [==============================] - 1s 13ms/step - loss: 0.1285 - acc: 0.9521 - val_loss: 0.2916 - val_acc: 0.8804\n",
      "Epoch 44/60\n",
      "64/64 [==============================] - 1s 13ms/step - loss: 0.1265 - acc: 0.9551 - val_loss: 0.3093 - val_acc: 0.8716\n",
      "Epoch 45/60\n",
      "64/64 [==============================] - 1s 13ms/step - loss: 0.1475 - acc: 0.9443 - val_loss: 0.2941 - val_acc: 0.8750\n",
      "Epoch 46/60\n",
      "64/64 [==============================] - 1s 13ms/step - loss: 0.1403 - acc: 0.9463 - val_loss: 0.2815 - val_acc: 0.8867\n",
      "Epoch 47/60\n",
      "64/64 [==============================] - 1s 13ms/step - loss: 0.1113 - acc: 0.9600 - val_loss: 0.3401 - val_acc: 0.8794\n",
      "Epoch 48/60\n",
      "64/64 [==============================] - 1s 13ms/step - loss: 0.1197 - acc: 0.9478 - val_loss: 0.3729 - val_acc: 0.8755\n",
      "Epoch 49/60\n",
      "64/64 [==============================] - 1s 13ms/step - loss: 0.1222 - acc: 0.9546 - val_loss: 0.3809 - val_acc: 0.8740\n",
      "Epoch 50/60\n",
      "64/64 [==============================] - 1s 13ms/step - loss: 0.1325 - acc: 0.9531 - val_loss: 0.3340 - val_acc: 0.8789\n",
      "Epoch 51/60\n",
      "64/64 [==============================] - 1s 13ms/step - loss: 0.1360 - acc: 0.9492 - val_loss: 0.3078 - val_acc: 0.8809\n",
      "Epoch 52/60\n",
      "64/64 [==============================] - 1s 13ms/step - loss: 0.1179 - acc: 0.9570 - val_loss: 0.2931 - val_acc: 0.8867\n",
      "Epoch 53/60\n",
      "64/64 [==============================] - 1s 13ms/step - loss: 0.1180 - acc: 0.9512 - val_loss: 0.2959 - val_acc: 0.8828\n",
      "Epoch 54/60\n",
      "64/64 [==============================] - 1s 13ms/step - loss: 0.1297 - acc: 0.9536 - val_loss: 0.2827 - val_acc: 0.8940\n",
      "Epoch 55/60\n",
      "64/64 [==============================] - 1s 13ms/step - loss: 0.1088 - acc: 0.9609 - val_loss: 0.3321 - val_acc: 0.8730\n",
      "Epoch 56/60\n",
      "64/64 [==============================] - 1s 13ms/step - loss: 0.1383 - acc: 0.9429 - val_loss: 0.2969 - val_acc: 0.8892\n",
      "Epoch 57/60\n",
      "64/64 [==============================] - 1s 13ms/step - loss: 0.1248 - acc: 0.9497 - val_loss: 0.3215 - val_acc: 0.8755\n",
      "Epoch 58/60\n",
      "64/64 [==============================] - 1s 13ms/step - loss: 0.1179 - acc: 0.9580 - val_loss: 0.2984 - val_acc: 0.8730\n",
      "Epoch 59/60\n",
      "64/64 [==============================] - 1s 13ms/step - loss: 0.1151 - acc: 0.9565 - val_loss: 0.2592 - val_acc: 0.8945\n",
      "Epoch 60/60\n",
      "64/64 [==============================] - 1s 13ms/step - loss: 0.1082 - acc: 0.9595 - val_loss: 0.2863 - val_acc: 0.8813\n"
     ]
    },
    {
     "data": {
      "text/plain": [
       "<keras.callbacks.History at 0x7fc18915a550>"
      ]
     },
     "execution_count": 12,
     "metadata": {},
     "output_type": "execute_result"
    }
   ],
   "source": [
    "valid=valid_gen()\n",
    "train=train_gen()\n",
    "model.fit_generator(train, \n",
    "                    validation_data=valid, validation_steps=64,\n",
    "                    epochs=60, \n",
    "                    steps_per_epoch=64)"
   ]
  },
  {
   "cell_type": "code",
   "execution_count": 13,
   "metadata": {},
   "outputs": [
    {
     "name": "stdout",
     "output_type": "stream",
     "text": [
      "IfIHadAHammer 46\n",
      "Predicted:  0.03238038    Actual:  False \n",
      "\n",
      "WalkThisWay1 73\n",
      "Predicted:  0.0354925    Actual:  False \n",
      "\n",
      "ItsRainingMen 46\n",
      "Predicted:  9.585411e-05    Actual:  False \n",
      "\n",
      "FugueForTinhorns2 61\n",
      "Predicted:  0.10506841    Actual:  False \n",
      "\n",
      "TheBollWeevil 49\n",
      "Predicted:  0.0014413457    Actual:  False \n",
      "\n",
      "IThinkWereAloneNow2MP 129\n",
      "Predicted:  0.774694    Actual:  True \n",
      "\n",
      "TheBollWeevil 42\n",
      "Predicted:  0.5901101    Actual:  False \n",
      "\n",
      "IThinkWereAloneNow2MP 53\n",
      "Predicted:  2.45353e-07    Actual:  False \n",
      "\n",
      "CaliforniaDreamin2MP 225\n",
      "Predicted:  0.8176866    Actual:  True \n",
      "\n",
      "ImLookingThruYou 49\n",
      "Predicted:  0.0001757    Actual:  False \n",
      "\n"
     ]
    }
   ],
   "source": [
    "for i in range(10):\n",
    "    song, tempo, compatible, clip = get_validation_case()\n",
    "    print( song, tempo )\n",
    "    c = clip_to_tf_input(resample_clip(clip))\n",
    "    x = np.expand_dims(c, axis=0)\n",
    "    p = model.predict(x)[0][0]\n",
    "    print( 'Predicted: ', p, '   Actual: ', compatible, '\\n' )"
   ]
  },
  {
   "cell_type": "code",
   "execution_count": null,
   "metadata": {},
   "outputs": [],
   "source": []
  }
 ],
 "metadata": {
  "kernelspec": {
   "display_name": "Python 3",
   "language": "python",
   "name": "python3"
  },
  "language_info": {
   "codemirror_mode": {
    "name": "ipython",
    "version": 3
   },
   "file_extension": ".py",
   "mimetype": "text/x-python",
   "name": "python",
   "nbconvert_exporter": "python",
   "pygments_lexer": "ipython3",
   "version": "3.6.6"
  }
 },
 "nbformat": 4,
 "nbformat_minor": 2
}

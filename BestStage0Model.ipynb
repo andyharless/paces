{
 "cells": [
  {
   "cell_type": "code",
   "execution_count": 1,
   "metadata": {},
   "outputs": [
    {
     "name": "stderr",
     "output_type": "stream",
     "text": [
      "/home/andy/.local/lib/python3.6/site-packages/h5py/__init__.py:36: FutureWarning: Conversion of the second argument of issubdtype from `float` to `np.floating` is deprecated. In future, it will be treated as `np.float64 == np.dtype(float).type`.\n",
      "  from ._conv import register_converters as _register_converters\n",
      "Using TensorFlow backend.\n"
     ]
    }
   ],
   "source": [
    "from get_training_data import *\n",
    "\n",
    "import tensorflow as tf\n",
    "import keras\n",
    "import pickle\n",
    "import gzip\n",
    "import os\n",
    "import random\n",
    "import matplotlib.pyplot as plt\n",
    "%matplotlib nbagg"
   ]
  },
  {
   "cell_type": "code",
   "execution_count": 2,
   "metadata": {},
   "outputs": [
    {
     "data": {
      "text/plain": [
       "(tuple, 2)"
      ]
     },
     "execution_count": 2,
     "metadata": {},
     "output_type": "execute_result"
    }
   ],
   "source": [
    "with gzip.open('train_cases.pkl.gz','rb') as fp:\n",
    "    train_cases = pickle.load(fp)\n",
    "type(train_cases), len(train_cases)"
   ]
  },
  {
   "cell_type": "code",
   "execution_count": 3,
   "metadata": {},
   "outputs": [
    {
     "data": {
      "text/plain": [
       "(numpy.ndarray,\n",
       " (16384, 16, 16, 128),\n",
       " dtype('float32'),\n",
       " numpy.ndarray,\n",
       " (16384, 1),\n",
       " dtype('float64'))"
      ]
     },
     "execution_count": 3,
     "metadata": {},
     "output_type": "execute_result"
    }
   ],
   "source": [
    "train_X = train_cases[0]\n",
    "train_y = train_cases[1]\n",
    "ntrain = train_X.shape[0]\n",
    "type(train_X), train_X.shape, train_X.dtype, type(train_y), train_y.shape, train_y.dtype"
   ]
  },
  {
   "cell_type": "code",
   "execution_count": 4,
   "metadata": {},
   "outputs": [
    {
     "data": {
      "text/plain": [
       "(numpy.ndarray,\n",
       " (4096, 16, 16, 128),\n",
       " dtype('float32'),\n",
       " numpy.ndarray,\n",
       " (4096, 1),\n",
       " dtype('float64'))"
      ]
     },
     "execution_count": 4,
     "metadata": {},
     "output_type": "execute_result"
    }
   ],
   "source": [
    "with gzip.open('valid_cases.pkl.gz','rb') as fp:\n",
    "    valid_cases = pickle.load(fp)\n",
    "valid_X = valid_cases[0]\n",
    "valid_y = valid_cases[1]\n",
    "nvalid = valid_X.shape[0]\n",
    "type(valid_X), valid_X.shape, valid_X.dtype, type(valid_y), valid_y.shape, valid_y.dtype"
   ]
  },
  {
   "cell_type": "code",
   "execution_count": 5,
   "metadata": {},
   "outputs": [],
   "source": [
    "def choose_training_case():\n",
    "    i = random.randint(0, ntrain-1)\n",
    "    return(train_X[i,:,:,:], train_y[i,:])\n",
    "\n",
    "def choose_validation_case():\n",
    "    i = random.randint(0, nvalid-1)\n",
    "    return(valid_X[i,:,:,:], valid_y[i,:])"
   ]
  },
  {
   "cell_type": "code",
   "execution_count": 6,
   "metadata": {},
   "outputs": [],
   "source": [
    "ADD_CONST = 1e-5\n",
    "CENTER = -2.5\n",
    "SCALE = 5\n",
    "XFORM = True"
   ]
  },
  {
   "cell_type": "code",
   "execution_count": 7,
   "metadata": {},
   "outputs": [],
   "source": [
    "def preproc(a):\n",
    "    if XFORM:\n",
    "        return((np.log(a+ADD_CONST) - CENTER) / SCALE)\n",
    "    else:\n",
    "        return(a)"
   ]
  },
  {
   "cell_type": "code",
   "execution_count": 8,
   "metadata": {},
   "outputs": [],
   "source": [
    "def make_batch_from_megabatch(batchsize=32, validation=False):\n",
    "    get_case = choose_validation_case if validation else choose_training_case    \n",
    "    xbatch = np.empty([0, INPUTS_PER_BEAT, NBEATS, NCHANNELS],dtype=np.float32)\n",
    "    ybatch = np.empty([0, 1])\n",
    "    for i in range(batchsize):\n",
    "        case = get_case()\n",
    "        x = np.expand_dims(case[0], axis=0)\n",
    "        xbatch = np.concatenate([xbatch, x], axis=0)\n",
    "        y = np.array(int(case[1])).reshape([1,1])\n",
    "        ybatch = np.concatenate([ybatch, y], axis=0)\n",
    "    return(preproc(xbatch), ybatch)\n",
    "\n",
    "def train_gen(batchsize=32):\n",
    "    while True:\n",
    "        yield(make_batch_from_megabatch(batchsize, validation=False))\n",
    "\n",
    "def valid_gen(batchsize=32):\n",
    "    while True:\n",
    "        yield(make_batch_from_megabatch(batchsize, validation=True))"
   ]
  },
  {
   "cell_type": "code",
   "execution_count": 9,
   "metadata": {},
   "outputs": [
    {
     "data": {
      "text/plain": [
       "((32, 16, 16, 128), (32, 1))"
      ]
     },
     "execution_count": 9,
     "metadata": {},
     "output_type": "execute_result"
    }
   ],
   "source": [
    "# The generators are way too slow: have to fix this\n",
    "for t in train_gen():\n",
    "    break\n",
    "t[0].shape, t[1].shape"
   ]
  },
  {
   "cell_type": "code",
   "execution_count": 10,
   "metadata": {},
   "outputs": [
    {
     "data": {
      "text/plain": [
       "((32, 16, 16, 128), (32, 1))"
      ]
     },
     "execution_count": 10,
     "metadata": {},
     "output_type": "execute_result"
    }
   ],
   "source": [
    "for v in valid_gen():\n",
    "    break\n",
    "v[0].shape, v[1].shape"
   ]
  },
  {
   "cell_type": "code",
   "execution_count": 11,
   "metadata": {},
   "outputs": [],
   "source": [
    "input_shape = (INPUTS_PER_BEAT, NBEATS, NCHANNELS)\n",
    "\n",
    "model = keras.Sequential()\n",
    "model.add(keras.layers.Conv2D(64, 1, activation='relu', input_shape=input_shape))\n",
    "model.add(keras.layers.SpatialDropout2D(.1))\n",
    "model.add(keras.layers.Conv2D(32, 1, activation='relu'))\n",
    "model.add(keras.layers.BatchNormalization())\n",
    "model.add(keras.layers.Conv2D(12, (2,4), activation='relu'))\n",
    "model.add(keras.layers.SpatialDropout2D(.3))\n",
    "model.add(keras.layers.Conv2D(25, (4,6), activation='relu'))\n",
    "model.add(keras.layers.BatchNormalization())\n",
    "model.add(keras.layers.Conv2D(3, (2,4), activation='relu'))\n",
    "model.add(keras.layers.Flatten())\n",
    "model.add(keras.layers.Dropout(.6))\n",
    "model.add(keras.layers.Dense(1, activation='sigmoid'))"
   ]
  },
  {
   "cell_type": "code",
   "execution_count": 12,
   "metadata": {},
   "outputs": [],
   "source": [
    "model.compile(loss='binary_crossentropy', \n",
    "              optimizer=keras.optimizers.Adam(lr=.003,decay=2e-4), \n",
    "              metrics=['accuracy'])"
   ]
  },
  {
   "cell_type": "code",
   "execution_count": 13,
   "metadata": {},
   "outputs": [
    {
     "name": "stdout",
     "output_type": "stream",
     "text": [
      "_________________________________________________________________\n",
      "Layer (type)                 Output Shape              Param #   \n",
      "=================================================================\n",
      "conv2d_1 (Conv2D)            (None, 16, 16, 64)        8256      \n",
      "_________________________________________________________________\n",
      "spatial_dropout2d_1 (Spatial (None, 16, 16, 64)        0         \n",
      "_________________________________________________________________\n",
      "conv2d_2 (Conv2D)            (None, 16, 16, 32)        2080      \n",
      "_________________________________________________________________\n",
      "batch_normalization_1 (Batch (None, 16, 16, 32)        128       \n",
      "_________________________________________________________________\n",
      "conv2d_3 (Conv2D)            (None, 15, 13, 12)        3084      \n",
      "_________________________________________________________________\n",
      "spatial_dropout2d_2 (Spatial (None, 15, 13, 12)        0         \n",
      "_________________________________________________________________\n",
      "conv2d_4 (Conv2D)            (None, 12, 8, 25)         7225      \n",
      "_________________________________________________________________\n",
      "batch_normalization_2 (Batch (None, 12, 8, 25)         100       \n",
      "_________________________________________________________________\n",
      "conv2d_5 (Conv2D)            (None, 11, 5, 3)          603       \n",
      "_________________________________________________________________\n",
      "flatten_1 (Flatten)          (None, 165)               0         \n",
      "_________________________________________________________________\n",
      "dropout_1 (Dropout)          (None, 165)               0         \n",
      "_________________________________________________________________\n",
      "dense_1 (Dense)              (None, 1)                 166       \n",
      "=================================================================\n",
      "Total params: 21,642\n",
      "Trainable params: 21,528\n",
      "Non-trainable params: 114\n",
      "_________________________________________________________________\n"
     ]
    }
   ],
   "source": [
    "model.summary()"
   ]
  },
  {
   "cell_type": "code",
   "execution_count": 14,
   "metadata": {
    "scrolled": true
   },
   "outputs": [
    {
     "name": "stdout",
     "output_type": "stream",
     "text": [
      "WARNING:tensorflow:Variable *= will be deprecated. Use variable.assign_mul if you want assignment to the variable value or 'x = x * y' if you want a new python Tensor object.\n",
      "Epoch 1/60\n",
      "64/64 [==============================] - 2s 35ms/step - loss: 0.7214 - acc: 0.6650 - val_loss: 0.5767 - val_acc: 0.7632\n",
      "Epoch 2/60\n",
      "64/64 [==============================] - 1s 19ms/step - loss: 0.5978 - acc: 0.7617 - val_loss: 0.5908 - val_acc: 0.7578\n",
      "Epoch 3/60\n",
      "64/64 [==============================] - 1s 19ms/step - loss: 0.5962 - acc: 0.7671 - val_loss: 0.5992 - val_acc: 0.7568\n",
      "Epoch 4/60\n",
      "64/64 [==============================] - 1s 20ms/step - loss: 0.5721 - acc: 0.7715 - val_loss: 0.5788 - val_acc: 0.7627\n",
      "Epoch 5/60\n",
      "64/64 [==============================] - 1s 20ms/step - loss: 0.5652 - acc: 0.7715 - val_loss: 0.5691 - val_acc: 0.7544\n",
      "Epoch 6/60\n",
      "64/64 [==============================] - 1s 19ms/step - loss: 0.5369 - acc: 0.7935 - val_loss: 0.5426 - val_acc: 0.7710\n",
      "Epoch 7/60\n",
      "64/64 [==============================] - 1s 19ms/step - loss: 0.5449 - acc: 0.7705 - val_loss: 0.5676 - val_acc: 0.7529\n",
      "Epoch 8/60\n",
      "64/64 [==============================] - 1s 20ms/step - loss: 0.5730 - acc: 0.7563 - val_loss: 0.5657 - val_acc: 0.7671\n",
      "Epoch 9/60\n",
      "64/64 [==============================] - 1s 20ms/step - loss: 0.5540 - acc: 0.7690 - val_loss: 0.5410 - val_acc: 0.7788\n",
      "Epoch 10/60\n",
      "64/64 [==============================] - 1s 20ms/step - loss: 0.5306 - acc: 0.7866 - val_loss: 0.5633 - val_acc: 0.7588\n",
      "Epoch 11/60\n",
      "64/64 [==============================] - 1s 19ms/step - loss: 0.5610 - acc: 0.7563 - val_loss: 0.5437 - val_acc: 0.7734\n",
      "Epoch 12/60\n",
      "64/64 [==============================] - 1s 19ms/step - loss: 0.5447 - acc: 0.7710 - val_loss: 0.5537 - val_acc: 0.7617\n",
      "Epoch 13/60\n",
      "64/64 [==============================] - 1s 19ms/step - loss: 0.5586 - acc: 0.7573 - val_loss: 0.5407 - val_acc: 0.7744\n",
      "Epoch 14/60\n",
      "64/64 [==============================] - 1s 19ms/step - loss: 0.5510 - acc: 0.7617 - val_loss: 0.5359 - val_acc: 0.7759\n",
      "Epoch 15/60\n",
      "64/64 [==============================] - 1s 19ms/step - loss: 0.5426 - acc: 0.7686 - val_loss: 0.5485 - val_acc: 0.7622\n",
      "Epoch 16/60\n",
      "64/64 [==============================] - 1s 19ms/step - loss: 0.5225 - acc: 0.7847 - val_loss: 0.5546 - val_acc: 0.7573\n",
      "Epoch 17/60\n",
      "64/64 [==============================] - 1s 19ms/step - loss: 0.5302 - acc: 0.7739 - val_loss: 0.5297 - val_acc: 0.7744\n",
      "Epoch 18/60\n",
      "64/64 [==============================] - 1s 19ms/step - loss: 0.5294 - acc: 0.7695 - val_loss: 0.5354 - val_acc: 0.7661\n",
      "Epoch 19/60\n",
      "64/64 [==============================] - 1s 20ms/step - loss: 0.5160 - acc: 0.7690 - val_loss: 0.5338 - val_acc: 0.7529\n",
      "Epoch 20/60\n",
      "64/64 [==============================] - 1s 19ms/step - loss: 0.4857 - acc: 0.7808 - val_loss: 0.5082 - val_acc: 0.7676\n",
      "Epoch 21/60\n",
      "64/64 [==============================] - 1s 19ms/step - loss: 0.4791 - acc: 0.7749 - val_loss: 0.4838 - val_acc: 0.7729\n",
      "Epoch 22/60\n",
      "64/64 [==============================] - 1s 19ms/step - loss: 0.4597 - acc: 0.7729 - val_loss: 0.4816 - val_acc: 0.7617\n",
      "Epoch 23/60\n",
      "64/64 [==============================] - 1s 19ms/step - loss: 0.4442 - acc: 0.7744 - val_loss: 0.4873 - val_acc: 0.7573\n",
      "Epoch 24/60\n",
      "64/64 [==============================] - 1s 19ms/step - loss: 0.4473 - acc: 0.7646 - val_loss: 0.4487 - val_acc: 0.7671\n",
      "Epoch 25/60\n",
      "64/64 [==============================] - 1s 19ms/step - loss: 0.3944 - acc: 0.7837 - val_loss: 0.4409 - val_acc: 0.7593\n",
      "Epoch 26/60\n",
      "64/64 [==============================] - 1s 19ms/step - loss: 0.3638 - acc: 0.7827 - val_loss: 0.4187 - val_acc: 0.7837\n",
      "Epoch 27/60\n",
      "64/64 [==============================] - 1s 19ms/step - loss: 0.3498 - acc: 0.7715 - val_loss: 0.3726 - val_acc: 0.7622\n",
      "Epoch 28/60\n",
      "64/64 [==============================] - 1s 19ms/step - loss: 0.3445 - acc: 0.7808 - val_loss: 0.3580 - val_acc: 0.7734\n",
      "Epoch 29/60\n",
      "64/64 [==============================] - 1s 19ms/step - loss: 0.3263 - acc: 0.7783 - val_loss: 0.3278 - val_acc: 0.7646\n",
      "Epoch 30/60\n",
      "64/64 [==============================] - 1s 19ms/step - loss: 0.3248 - acc: 0.7773 - val_loss: 0.3634 - val_acc: 0.7568\n",
      "Epoch 31/60\n",
      "64/64 [==============================] - 1s 19ms/step - loss: 0.2773 - acc: 0.8530 - val_loss: 0.3229 - val_acc: 0.8496\n",
      "Epoch 32/60\n",
      "64/64 [==============================] - 1s 19ms/step - loss: 0.2827 - acc: 0.8682 - val_loss: 0.3083 - val_acc: 0.8774\n",
      "Epoch 33/60\n",
      "64/64 [==============================] - 1s 19ms/step - loss: 0.2806 - acc: 0.8833 - val_loss: 0.2814 - val_acc: 0.8955\n",
      "Epoch 34/60\n",
      "64/64 [==============================] - 1s 19ms/step - loss: 0.2682 - acc: 0.8872 - val_loss: 0.2788 - val_acc: 0.8989\n",
      "Epoch 35/60\n",
      "64/64 [==============================] - 1s 19ms/step - loss: 0.2588 - acc: 0.9019 - val_loss: 0.3028 - val_acc: 0.8779\n",
      "Epoch 36/60\n",
      "64/64 [==============================] - 1s 19ms/step - loss: 0.2553 - acc: 0.9048 - val_loss: 0.2895 - val_acc: 0.8804\n",
      "Epoch 37/60\n",
      "64/64 [==============================] - 1s 19ms/step - loss: 0.2324 - acc: 0.9053 - val_loss: 0.2997 - val_acc: 0.8906\n",
      "Epoch 38/60\n",
      "64/64 [==============================] - 1s 19ms/step - loss: 0.2386 - acc: 0.9097 - val_loss: 0.2894 - val_acc: 0.8926\n",
      "Epoch 39/60\n",
      "64/64 [==============================] - 1s 19ms/step - loss: 0.2342 - acc: 0.9121 - val_loss: 0.2711 - val_acc: 0.8999\n",
      "Epoch 40/60\n",
      "64/64 [==============================] - 1s 19ms/step - loss: 0.2369 - acc: 0.9146 - val_loss: 0.2536 - val_acc: 0.9019\n",
      "Epoch 41/60\n",
      "64/64 [==============================] - 1s 19ms/step - loss: 0.2357 - acc: 0.9062 - val_loss: 0.2424 - val_acc: 0.8994\n",
      "Epoch 42/60\n",
      "64/64 [==============================] - 1s 19ms/step - loss: 0.2333 - acc: 0.9189 - val_loss: 0.2696 - val_acc: 0.8984\n",
      "Epoch 43/60\n",
      "64/64 [==============================] - 1s 19ms/step - loss: 0.2165 - acc: 0.9209 - val_loss: 0.2374 - val_acc: 0.9121\n",
      "Epoch 44/60\n",
      "64/64 [==============================] - 1s 19ms/step - loss: 0.2225 - acc: 0.9185 - val_loss: 0.2617 - val_acc: 0.8979\n",
      "Epoch 45/60\n",
      "64/64 [==============================] - 1s 19ms/step - loss: 0.2036 - acc: 0.9243 - val_loss: 0.2424 - val_acc: 0.9067\n",
      "Epoch 46/60\n",
      "64/64 [==============================] - 1s 19ms/step - loss: 0.1995 - acc: 0.9189 - val_loss: 0.2459 - val_acc: 0.9126\n",
      "Epoch 47/60\n",
      "64/64 [==============================] - 1s 19ms/step - loss: 0.2169 - acc: 0.9170 - val_loss: 0.2438 - val_acc: 0.9053\n",
      "Epoch 48/60\n",
      "64/64 [==============================] - 1s 19ms/step - loss: 0.2266 - acc: 0.9141 - val_loss: 0.2697 - val_acc: 0.8970\n",
      "Epoch 49/60\n",
      "64/64 [==============================] - 1s 19ms/step - loss: 0.2109 - acc: 0.9111 - val_loss: 0.2553 - val_acc: 0.9023\n",
      "Epoch 50/60\n",
      "64/64 [==============================] - 1s 19ms/step - loss: 0.2020 - acc: 0.9263 - val_loss: 0.2618 - val_acc: 0.9009\n",
      "Epoch 51/60\n",
      "64/64 [==============================] - 1s 19ms/step - loss: 0.1882 - acc: 0.9292 - val_loss: 0.2099 - val_acc: 0.9258\n",
      "Epoch 52/60\n",
      "64/64 [==============================] - 1s 19ms/step - loss: 0.2096 - acc: 0.9238 - val_loss: 0.2194 - val_acc: 0.9155\n",
      "Epoch 53/60\n",
      "64/64 [==============================] - 1s 20ms/step - loss: 0.1819 - acc: 0.9297 - val_loss: 0.2274 - val_acc: 0.9106\n",
      "Epoch 54/60\n",
      "64/64 [==============================] - 1s 19ms/step - loss: 0.2020 - acc: 0.9155 - val_loss: 0.2315 - val_acc: 0.9048\n",
      "Epoch 55/60\n",
      "64/64 [==============================] - 1s 19ms/step - loss: 0.1871 - acc: 0.9287 - val_loss: 0.2496 - val_acc: 0.9072\n",
      "Epoch 56/60\n",
      "64/64 [==============================] - 1s 19ms/step - loss: 0.1949 - acc: 0.9224 - val_loss: 0.2630 - val_acc: 0.9038\n",
      "Epoch 57/60\n",
      "64/64 [==============================] - 1s 19ms/step - loss: 0.1745 - acc: 0.9326 - val_loss: 0.2413 - val_acc: 0.9004\n",
      "Epoch 58/60\n",
      "64/64 [==============================] - 1s 19ms/step - loss: 0.1859 - acc: 0.9326 - val_loss: 0.2357 - val_acc: 0.9058\n",
      "Epoch 59/60\n",
      "64/64 [==============================] - 1s 19ms/step - loss: 0.1891 - acc: 0.9272 - val_loss: 0.2381 - val_acc: 0.9077\n",
      "Epoch 60/60\n",
      "64/64 [==============================] - 1s 19ms/step - loss: 0.1862 - acc: 0.9331 - val_loss: 0.2101 - val_acc: 0.9214\n"
     ]
    },
    {
     "data": {
      "text/plain": [
       "<keras.callbacks.History at 0x7f46c92db9e8>"
      ]
     },
     "execution_count": 14,
     "metadata": {},
     "output_type": "execute_result"
    }
   ],
   "source": [
    "valid=valid_gen()\n",
    "train=train_gen()\n",
    "model.fit_generator(train, \n",
    "                    validation_data=valid, validation_steps=64,\n",
    "                    epochs=60, \n",
    "                    steps_per_epoch=64)"
   ]
  },
  {
   "cell_type": "code",
   "execution_count": 15,
   "metadata": {},
   "outputs": [
    {
     "name": "stdout",
     "output_type": "stream",
     "text": [
      "ItsRainingMen 42\n",
      "Predicted:  0.0067745876    Actual:  False \n",
      "\n",
      "EternalFlame 108\n",
      "Predicted:  3.1003896e-05    Actual:  False \n",
      "\n",
      "IfIHadAHammer 91\n",
      "Predicted:  0.4887458    Actual:  True \n",
      "\n",
      "CaliforniaDreamin2MP 76\n",
      "Predicted:  0.0002624552    Actual:  False \n",
      "\n",
      "Kalamazoo 185\n",
      "Predicted:  0.16685767    Actual:  False \n",
      "\n",
      "BigJimMP 246\n",
      "Predicted:  0.0009987858    Actual:  False \n",
      "\n",
      "IfIHadAHammer 76\n",
      "Predicted:  0.2720368    Actual:  False \n",
      "\n",
      "AHardRainsAGonnaFall 94\n",
      "Predicted:  0.8257993    Actual:  False \n",
      "\n",
      "ItsRainingMen 136\n",
      "Predicted:  0.8249196    Actual:  True \n",
      "\n",
      "BloodyMerryMorning 320\n",
      "Predicted:  0.011305554    Actual:  False \n",
      "\n"
     ]
    }
   ],
   "source": [
    "for i in range(10):\n",
    "    song, tempo, compatible, clip = get_validation_case()\n",
    "    print( song, tempo )\n",
    "    c = clip_to_tf_input(resample_clip(clip))\n",
    "    x = np.expand_dims(preproc(c), axis=0)\n",
    "    p = model.predict(x)[0][0]\n",
    "    print( 'Predicted: ', p, '   Actual: ', compatible, '\\n' )"
   ]
  },
  {
   "cell_type": "code",
   "execution_count": null,
   "metadata": {},
   "outputs": [],
   "source": []
  }
 ],
 "metadata": {
  "kernelspec": {
   "display_name": "Python 3",
   "language": "python",
   "name": "python3"
  },
  "language_info": {
   "codemirror_mode": {
    "name": "ipython",
    "version": 3
   },
   "file_extension": ".py",
   "mimetype": "text/x-python",
   "name": "python",
   "nbconvert_exporter": "python",
   "pygments_lexer": "ipython3",
   "version": "3.6.6"
  }
 },
 "nbformat": 4,
 "nbformat_minor": 2
}

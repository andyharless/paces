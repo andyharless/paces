{
 "cells": [
  {
   "cell_type": "code",
   "execution_count": 1,
   "metadata": {},
   "outputs": [
    {
     "name": "stderr",
     "output_type": "stream",
     "text": [
      "/home/andy/.local/lib/python3.6/site-packages/h5py/__init__.py:36: FutureWarning: Conversion of the second argument of issubdtype from `float` to `np.floating` is deprecated. In future, it will be treated as `np.float64 == np.dtype(float).type`.\n",
      "  from ._conv import register_converters as _register_converters\n",
      "Using TensorFlow backend.\n"
     ]
    }
   ],
   "source": [
    "from get_training_data import *\n",
    "\n",
    "import tensorflow as tf\n",
    "import keras\n",
    "import pickle\n",
    "import gzip\n",
    "import os\n",
    "import random\n",
    "import matplotlib.pyplot as plt\n",
    "%matplotlib nbagg"
   ]
  },
  {
   "cell_type": "code",
   "execution_count": 2,
   "metadata": {},
   "outputs": [
    {
     "data": {
      "text/plain": [
       "(tuple, 2)"
      ]
     },
     "execution_count": 2,
     "metadata": {},
     "output_type": "execute_result"
    }
   ],
   "source": [
    "with gzip.open('train_cases.pkl.gz','rb') as fp:\n",
    "    train_cases = pickle.load(fp)\n",
    "type(train_cases), len(train_cases)"
   ]
  },
  {
   "cell_type": "code",
   "execution_count": 3,
   "metadata": {},
   "outputs": [
    {
     "data": {
      "text/plain": [
       "(numpy.ndarray,\n",
       " (16384, 16, 16, 128),\n",
       " dtype('float32'),\n",
       " numpy.ndarray,\n",
       " (16384, 1),\n",
       " dtype('float64'))"
      ]
     },
     "execution_count": 3,
     "metadata": {},
     "output_type": "execute_result"
    }
   ],
   "source": [
    "train_X = train_cases[0]\n",
    "train_y = train_cases[1]\n",
    "ntrain = train_X.shape[0]\n",
    "type(train_X), train_X.shape, train_X.dtype, type(train_y), train_y.shape, train_y.dtype"
   ]
  },
  {
   "cell_type": "code",
   "execution_count": 4,
   "metadata": {},
   "outputs": [
    {
     "data": {
      "text/plain": [
       "(numpy.ndarray,\n",
       " (4096, 16, 16, 128),\n",
       " dtype('float32'),\n",
       " numpy.ndarray,\n",
       " (4096, 1),\n",
       " dtype('float64'))"
      ]
     },
     "execution_count": 4,
     "metadata": {},
     "output_type": "execute_result"
    }
   ],
   "source": [
    "with gzip.open('valid_cases.pkl.gz','rb') as fp:\n",
    "    valid_cases = pickle.load(fp)\n",
    "valid_X = valid_cases[0]\n",
    "valid_y = valid_cases[1]\n",
    "nvalid = valid_X.shape[0]\n",
    "type(valid_X), valid_X.shape, valid_X.dtype, type(valid_y), valid_y.shape, valid_y.dtype"
   ]
  },
  {
   "cell_type": "code",
   "execution_count": 5,
   "metadata": {},
   "outputs": [],
   "source": [
    "def choose_training_case():\n",
    "    i = random.randint(0, ntrain-1)\n",
    "    return(train_X[i,:,:,:], train_y[i,:])\n",
    "\n",
    "def choose_validation_case():\n",
    "    i = random.randint(0, nvalid-1)\n",
    "    return(valid_X[i,:,:,:], valid_y[i,:])"
   ]
  },
  {
   "cell_type": "code",
   "execution_count": 6,
   "metadata": {},
   "outputs": [],
   "source": [
    "ADD_CONST = 1e-5\n",
    "CENTER = -2.5\n",
    "SCALE = 5\n",
    "XFORM = True"
   ]
  },
  {
   "cell_type": "code",
   "execution_count": 7,
   "metadata": {},
   "outputs": [],
   "source": [
    "def preproc(a):\n",
    "    if XFORM:\n",
    "        return((np.log(a+ADD_CONST) - CENTER) / SCALE)\n",
    "    else:\n",
    "        return(a)"
   ]
  },
  {
   "cell_type": "code",
   "execution_count": 8,
   "metadata": {},
   "outputs": [],
   "source": [
    "def make_batch_from_megabatch(batchsize=32, validation=False):\n",
    "    get_case = choose_validation_case if validation else choose_training_case    \n",
    "    xbatch = np.empty([0, INPUTS_PER_BEAT, NBEATS, NCHANNELS],dtype=np.float32)\n",
    "    ybatch = np.empty([0, 1])\n",
    "    for i in range(batchsize):\n",
    "        case = get_case()\n",
    "        x = np.expand_dims(case[0], axis=0)\n",
    "        xbatch = np.concatenate([xbatch, x], axis=0)\n",
    "        y = np.array(int(case[1])).reshape([1,1])\n",
    "        ybatch = np.concatenate([ybatch, y], axis=0)\n",
    "    return(preproc(xbatch), ybatch)\n",
    "\n",
    "def train_gen(batchsize=32):\n",
    "    while True:\n",
    "        yield(make_batch_from_megabatch(batchsize, validation=False))\n",
    "\n",
    "def valid_gen(batchsize=32):\n",
    "    while True:\n",
    "        yield(make_batch_from_megabatch(batchsize, validation=True))"
   ]
  },
  {
   "cell_type": "code",
   "execution_count": 9,
   "metadata": {},
   "outputs": [
    {
     "data": {
      "text/plain": [
       "((32, 16, 16, 128), (32, 1))"
      ]
     },
     "execution_count": 9,
     "metadata": {},
     "output_type": "execute_result"
    }
   ],
   "source": [
    "# The generators are way too slow: have to fix this\n",
    "for t in train_gen():\n",
    "    break\n",
    "t[0].shape, t[1].shape"
   ]
  },
  {
   "cell_type": "code",
   "execution_count": 10,
   "metadata": {},
   "outputs": [
    {
     "data": {
      "text/plain": [
       "((32, 16, 16, 128), (32, 1))"
      ]
     },
     "execution_count": 10,
     "metadata": {},
     "output_type": "execute_result"
    }
   ],
   "source": [
    "for v in valid_gen():\n",
    "    break\n",
    "v[0].shape, v[1].shape"
   ]
  },
  {
   "cell_type": "code",
   "execution_count": 11,
   "metadata": {},
   "outputs": [],
   "source": [
    "input_shape = (INPUTS_PER_BEAT, NBEATS, NCHANNELS)\n",
    "\n",
    "model = keras.Sequential()\n",
    "model.add(keras.layers.Conv2D(64, 1, activation='relu', input_shape=input_shape))\n",
    "model.add(keras.layers.BatchNormalization())\n",
    "model.add(keras.layers.Conv2D(32, 1, activation='relu'))\n",
    "model.add(keras.layers.BatchNormalization())\n",
    "model.add(keras.layers.Conv2D(16, (2,4), activation='relu'))\n",
    "model.add(keras.layers.SpatialDropout2D(.3))\n",
    "model.add(keras.layers.Conv2D(25, (4,6), activation='relu'))\n",
    "model.add(keras.layers.BatchNormalization())\n",
    "model.add(keras.layers.Conv2D(3, (2,4), activation='relu'))\n",
    "model.add(keras.layers.Flatten())\n",
    "model.add(keras.layers.Dropout(.6))\n",
    "model.add(keras.layers.Dense(1, activation='sigmoid'))"
   ]
  },
  {
   "cell_type": "code",
   "execution_count": 12,
   "metadata": {},
   "outputs": [],
   "source": [
    "model.compile(loss='binary_crossentropy', \n",
    "              optimizer=keras.optimizers.Adam(lr=.003,decay=2e-4), \n",
    "              metrics=['accuracy'])"
   ]
  },
  {
   "cell_type": "code",
   "execution_count": 13,
   "metadata": {},
   "outputs": [
    {
     "name": "stdout",
     "output_type": "stream",
     "text": [
      "_________________________________________________________________\n",
      "Layer (type)                 Output Shape              Param #   \n",
      "=================================================================\n",
      "conv2d_1 (Conv2D)            (None, 16, 16, 64)        8256      \n",
      "_________________________________________________________________\n",
      "batch_normalization_1 (Batch (None, 16, 16, 64)        256       \n",
      "_________________________________________________________________\n",
      "conv2d_2 (Conv2D)            (None, 16, 16, 32)        2080      \n",
      "_________________________________________________________________\n",
      "batch_normalization_2 (Batch (None, 16, 16, 32)        128       \n",
      "_________________________________________________________________\n",
      "conv2d_3 (Conv2D)            (None, 15, 13, 16)        4112      \n",
      "_________________________________________________________________\n",
      "spatial_dropout2d_1 (Spatial (None, 15, 13, 16)        0         \n",
      "_________________________________________________________________\n",
      "conv2d_4 (Conv2D)            (None, 12, 8, 25)         9625      \n",
      "_________________________________________________________________\n",
      "batch_normalization_3 (Batch (None, 12, 8, 25)         100       \n",
      "_________________________________________________________________\n",
      "conv2d_5 (Conv2D)            (None, 11, 5, 3)          603       \n",
      "_________________________________________________________________\n",
      "flatten_1 (Flatten)          (None, 165)               0         \n",
      "_________________________________________________________________\n",
      "dropout_1 (Dropout)          (None, 165)               0         \n",
      "_________________________________________________________________\n",
      "dense_1 (Dense)              (None, 1)                 166       \n",
      "=================================================================\n",
      "Total params: 25,326\n",
      "Trainable params: 25,084\n",
      "Non-trainable params: 242\n",
      "_________________________________________________________________\n"
     ]
    }
   ],
   "source": [
    "model.summary()"
   ]
  },
  {
   "cell_type": "code",
   "execution_count": 14,
   "metadata": {
    "scrolled": true
   },
   "outputs": [
    {
     "name": "stdout",
     "output_type": "stream",
     "text": [
      "WARNING:tensorflow:Variable *= will be deprecated. Use variable.assign_mul if you want assignment to the variable value or 'x = x * y' if you want a new python Tensor object.\n",
      "Epoch 1/60\n",
      "64/64 [==============================] - 2s 38ms/step - loss: 0.7209 - acc: 0.6738 - val_loss: 0.6139 - val_acc: 0.7344\n",
      "Epoch 2/60\n",
      "64/64 [==============================] - 1s 21ms/step - loss: 0.6066 - acc: 0.7461 - val_loss: 0.5819 - val_acc: 0.7612\n",
      "Epoch 3/60\n",
      "64/64 [==============================] - 1s 21ms/step - loss: 0.5646 - acc: 0.7754 - val_loss: 0.5905 - val_acc: 0.7568\n",
      "Epoch 4/60\n",
      "64/64 [==============================] - 1s 20ms/step - loss: 0.5614 - acc: 0.7822 - val_loss: 0.5786 - val_acc: 0.7559\n",
      "Epoch 5/60\n",
      "64/64 [==============================] - 1s 20ms/step - loss: 0.5568 - acc: 0.7705 - val_loss: 0.5506 - val_acc: 0.7598\n",
      "Epoch 6/60\n",
      "64/64 [==============================] - 1s 20ms/step - loss: 0.5375 - acc: 0.7720 - val_loss: 0.5435 - val_acc: 0.7676\n",
      "Epoch 7/60\n",
      "64/64 [==============================] - 1s 20ms/step - loss: 0.5304 - acc: 0.7612 - val_loss: 0.5189 - val_acc: 0.7681\n",
      "Epoch 8/60\n",
      "64/64 [==============================] - 1s 19ms/step - loss: 0.4913 - acc: 0.7612 - val_loss: 0.5038 - val_acc: 0.7642\n",
      "Epoch 9/60\n",
      "64/64 [==============================] - 1s 20ms/step - loss: 0.4769 - acc: 0.7524 - val_loss: 0.5223 - val_acc: 0.7476\n",
      "Epoch 10/60\n",
      "64/64 [==============================] - 1s 20ms/step - loss: 0.4446 - acc: 0.7681 - val_loss: 0.4646 - val_acc: 0.7627\n",
      "Epoch 11/60\n",
      "64/64 [==============================] - 1s 20ms/step - loss: 0.4198 - acc: 0.7627 - val_loss: 0.4191 - val_acc: 0.7812\n",
      "Epoch 12/60\n",
      "64/64 [==============================] - 1s 20ms/step - loss: 0.4062 - acc: 0.7734 - val_loss: 0.3890 - val_acc: 0.7725\n",
      "Epoch 13/60\n",
      "64/64 [==============================] - 1s 20ms/step - loss: 0.3892 - acc: 0.7729 - val_loss: 0.4095 - val_acc: 0.7578\n",
      "Epoch 14/60\n",
      "64/64 [==============================] - 1s 20ms/step - loss: 0.3716 - acc: 0.7710 - val_loss: 0.3989 - val_acc: 0.7686\n",
      "Epoch 15/60\n",
      "64/64 [==============================] - 1s 20ms/step - loss: 0.3643 - acc: 0.7764 - val_loss: 0.3473 - val_acc: 0.8115\n",
      "Epoch 16/60\n",
      "64/64 [==============================] - 1s 20ms/step - loss: 0.3168 - acc: 0.8428 - val_loss: 0.3403 - val_acc: 0.8271\n",
      "Epoch 17/60\n",
      "64/64 [==============================] - 1s 19ms/step - loss: 0.3057 - acc: 0.8545 - val_loss: 0.3387 - val_acc: 0.8335\n",
      "Epoch 18/60\n",
      "64/64 [==============================] - 1s 20ms/step - loss: 0.2782 - acc: 0.8809 - val_loss: 0.2879 - val_acc: 0.8779\n",
      "Epoch 19/60\n",
      "64/64 [==============================] - 1s 19ms/step - loss: 0.2773 - acc: 0.8862 - val_loss: 0.3050 - val_acc: 0.8647\n",
      "Epoch 20/60\n",
      "64/64 [==============================] - 1s 19ms/step - loss: 0.2630 - acc: 0.8823 - val_loss: 0.2986 - val_acc: 0.8794\n",
      "Epoch 21/60\n",
      "64/64 [==============================] - 1s 20ms/step - loss: 0.2426 - acc: 0.9058 - val_loss: 0.2872 - val_acc: 0.8740\n",
      "Epoch 22/60\n",
      "64/64 [==============================] - 1s 19ms/step - loss: 0.2588 - acc: 0.9053 - val_loss: 0.3016 - val_acc: 0.8516\n",
      "Epoch 23/60\n",
      "64/64 [==============================] - 1s 19ms/step - loss: 0.2379 - acc: 0.9028 - val_loss: 0.2798 - val_acc: 0.8931\n",
      "Epoch 24/60\n",
      "64/64 [==============================] - 1s 20ms/step - loss: 0.2348 - acc: 0.9126 - val_loss: 0.2868 - val_acc: 0.8628\n",
      "Epoch 25/60\n",
      "64/64 [==============================] - 1s 20ms/step - loss: 0.2182 - acc: 0.9146 - val_loss: 0.2593 - val_acc: 0.8911\n",
      "Epoch 26/60\n",
      "64/64 [==============================] - 1s 20ms/step - loss: 0.2209 - acc: 0.9062 - val_loss: 0.2926 - val_acc: 0.8823\n",
      "Epoch 27/60\n",
      "64/64 [==============================] - 1s 20ms/step - loss: 0.2081 - acc: 0.9180 - val_loss: 0.3079 - val_acc: 0.8892\n",
      "Epoch 28/60\n",
      "64/64 [==============================] - 1s 20ms/step - loss: 0.2207 - acc: 0.9097 - val_loss: 0.2438 - val_acc: 0.9014\n",
      "Epoch 29/60\n",
      "64/64 [==============================] - 1s 19ms/step - loss: 0.2312 - acc: 0.9048 - val_loss: 0.2545 - val_acc: 0.8989\n",
      "Epoch 30/60\n",
      "64/64 [==============================] - 1s 19ms/step - loss: 0.2102 - acc: 0.9116 - val_loss: 0.2526 - val_acc: 0.8872\n",
      "Epoch 31/60\n",
      "64/64 [==============================] - 1s 20ms/step - loss: 0.1737 - acc: 0.9331 - val_loss: 0.2721 - val_acc: 0.8916\n",
      "Epoch 32/60\n",
      "64/64 [==============================] - 1s 20ms/step - loss: 0.2051 - acc: 0.9199 - val_loss: 0.2404 - val_acc: 0.8994\n",
      "Epoch 33/60\n",
      "64/64 [==============================] - 1s 20ms/step - loss: 0.2109 - acc: 0.9165 - val_loss: 0.3031 - val_acc: 0.8569\n",
      "Epoch 34/60\n",
      "64/64 [==============================] - 1s 20ms/step - loss: 0.1882 - acc: 0.9229 - val_loss: 0.2478 - val_acc: 0.9033\n",
      "Epoch 35/60\n",
      "64/64 [==============================] - 1s 19ms/step - loss: 0.1848 - acc: 0.9380 - val_loss: 0.3830 - val_acc: 0.8677\n",
      "Epoch 36/60\n",
      "64/64 [==============================] - 1s 20ms/step - loss: 0.1969 - acc: 0.9214 - val_loss: 0.2452 - val_acc: 0.9043\n",
      "Epoch 37/60\n",
      "64/64 [==============================] - 1s 20ms/step - loss: 0.2105 - acc: 0.9185 - val_loss: 0.3190 - val_acc: 0.8857\n",
      "Epoch 38/60\n",
      "64/64 [==============================] - 1s 20ms/step - loss: 0.2174 - acc: 0.9165 - val_loss: 0.2606 - val_acc: 0.8901\n",
      "Epoch 39/60\n",
      "64/64 [==============================] - 1s 20ms/step - loss: 0.2173 - acc: 0.9224 - val_loss: 0.2518 - val_acc: 0.8877\n",
      "Epoch 40/60\n",
      "64/64 [==============================] - 1s 19ms/step - loss: 0.1792 - acc: 0.9277 - val_loss: 0.2427 - val_acc: 0.8994\n",
      "Epoch 41/60\n",
      "64/64 [==============================] - 1s 19ms/step - loss: 0.1770 - acc: 0.9365 - val_loss: 0.2217 - val_acc: 0.9087\n",
      "Epoch 42/60\n",
      "64/64 [==============================] - 1s 20ms/step - loss: 0.1820 - acc: 0.9346 - val_loss: 0.2497 - val_acc: 0.8887\n",
      "Epoch 43/60\n",
      "64/64 [==============================] - 1s 20ms/step - loss: 0.1833 - acc: 0.9272 - val_loss: 0.2394 - val_acc: 0.8979\n",
      "Epoch 44/60\n",
      "64/64 [==============================] - 1s 20ms/step - loss: 0.1587 - acc: 0.9395 - val_loss: 0.2264 - val_acc: 0.9067\n",
      "Epoch 45/60\n",
      "64/64 [==============================] - 1s 20ms/step - loss: 0.1800 - acc: 0.9321 - val_loss: 0.2751 - val_acc: 0.8979\n",
      "Epoch 46/60\n",
      "64/64 [==============================] - 1s 20ms/step - loss: 0.1854 - acc: 0.9214 - val_loss: 0.2540 - val_acc: 0.8926\n",
      "Epoch 47/60\n",
      "64/64 [==============================] - 1s 20ms/step - loss: 0.1822 - acc: 0.9268 - val_loss: 0.2570 - val_acc: 0.8955\n",
      "Epoch 48/60\n",
      "64/64 [==============================] - 1s 20ms/step - loss: 0.1746 - acc: 0.9360 - val_loss: 0.2437 - val_acc: 0.8979\n",
      "Epoch 49/60\n",
      "64/64 [==============================] - 1s 20ms/step - loss: 0.1632 - acc: 0.9360 - val_loss: 0.2582 - val_acc: 0.8960\n",
      "Epoch 50/60\n",
      "64/64 [==============================] - 1s 20ms/step - loss: 0.1600 - acc: 0.9429 - val_loss: 0.2392 - val_acc: 0.9082\n",
      "Epoch 51/60\n",
      "64/64 [==============================] - 1s 20ms/step - loss: 0.1704 - acc: 0.9429 - val_loss: 0.2641 - val_acc: 0.9028\n",
      "Epoch 52/60\n",
      "64/64 [==============================] - 1s 20ms/step - loss: 0.1778 - acc: 0.9360 - val_loss: 0.2362 - val_acc: 0.9038\n",
      "Epoch 53/60\n",
      "64/64 [==============================] - 1s 20ms/step - loss: 0.1792 - acc: 0.9277 - val_loss: 0.2422 - val_acc: 0.9072\n",
      "Epoch 54/60\n",
      "64/64 [==============================] - 1s 20ms/step - loss: 0.1757 - acc: 0.9365 - val_loss: 0.2278 - val_acc: 0.9048\n",
      "Epoch 55/60\n",
      "64/64 [==============================] - 1s 20ms/step - loss: 0.1743 - acc: 0.9346 - val_loss: 0.2807 - val_acc: 0.8862\n",
      "Epoch 56/60\n",
      "64/64 [==============================] - 1s 20ms/step - loss: 0.1673 - acc: 0.9351 - val_loss: 0.2364 - val_acc: 0.8984\n",
      "Epoch 57/60\n",
      "64/64 [==============================] - 1s 20ms/step - loss: 0.1443 - acc: 0.9468 - val_loss: 0.2581 - val_acc: 0.9033\n",
      "Epoch 58/60\n",
      "64/64 [==============================] - 1s 20ms/step - loss: 0.1522 - acc: 0.9438 - val_loss: 0.2154 - val_acc: 0.9258\n",
      "Epoch 59/60\n",
      "64/64 [==============================] - 1s 20ms/step - loss: 0.1788 - acc: 0.9307 - val_loss: 0.2420 - val_acc: 0.9067\n",
      "Epoch 60/60\n",
      "64/64 [==============================] - 1s 20ms/step - loss: 0.1493 - acc: 0.9429 - val_loss: 0.2515 - val_acc: 0.9019\n"
     ]
    },
    {
     "data": {
      "text/plain": [
       "<keras.callbacks.History at 0x7f547dfdba58>"
      ]
     },
     "execution_count": 14,
     "metadata": {},
     "output_type": "execute_result"
    }
   ],
   "source": [
    "valid=valid_gen()\n",
    "train=train_gen()\n",
    "model.fit_generator(train, \n",
    "                    validation_data=valid, validation_steps=64,\n",
    "                    epochs=60, \n",
    "                    steps_per_epoch=64)"
   ]
  },
  {
   "cell_type": "code",
   "execution_count": 15,
   "metadata": {},
   "outputs": [
    {
     "name": "stdout",
     "output_type": "stream",
     "text": [
      "BloodyMerryMorning 45\n",
      "Predicted:  0.00039227246    Actual:  False \n",
      "\n",
      "ChatanoogaChooChoo 42\n",
      "Predicted:  0.4323653    Actual:  False \n",
      "\n",
      "BothSidesNow 123\n",
      "Predicted:  0.8178299    Actual:  True \n",
      "\n",
      "ItsRainingMen 54\n",
      "Predicted:  0.0009039875    Actual:  False \n",
      "\n",
      "AHardRainsAGonnaFall 129\n",
      "Predicted:  0.00022093451    Actual:  False \n",
      "\n",
      "09 Suddenly I See 83\n",
      "Predicted:  7.992886e-08    Actual:  False \n",
      "\n",
      "InTheHillsOfShiloh 108\n",
      "Predicted:  0.008739272    Actual:  False \n",
      "\n",
      "CaliforniaDreamin2MP 45\n",
      "Predicted:  7.371559e-06    Actual:  False \n",
      "\n",
      "IThinkWereAloneNow2MP 53\n",
      "Predicted:  3.817766e-13    Actual:  False \n",
      "\n",
      "53rdAnd3rdMP 69\n",
      "Predicted:  0.8676111    Actual:  True \n",
      "\n"
     ]
    }
   ],
   "source": [
    "for i in range(10):\n",
    "    song, tempo, compatible, clip = get_validation_case()\n",
    "    print( song, tempo )\n",
    "    c = clip_to_tf_input(resample_clip(clip))\n",
    "    x = np.expand_dims(preproc(c), axis=0)\n",
    "    p = model.predict(x)[0][0]\n",
    "    print( 'Predicted: ', p, '   Actual: ', compatible, '\\n' )"
   ]
  },
  {
   "cell_type": "code",
   "execution_count": null,
   "metadata": {},
   "outputs": [],
   "source": []
  }
 ],
 "metadata": {
  "kernelspec": {
   "display_name": "Python 3",
   "language": "python",
   "name": "python3"
  },
  "language_info": {
   "codemirror_mode": {
    "name": "ipython",
    "version": 3
   },
   "file_extension": ".py",
   "mimetype": "text/x-python",
   "name": "python",
   "nbconvert_exporter": "python",
   "pygments_lexer": "ipython3",
   "version": "3.6.6"
  }
 },
 "nbformat": 4,
 "nbformat_minor": 2
}

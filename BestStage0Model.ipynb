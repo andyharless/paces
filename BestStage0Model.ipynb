{
 "cells": [
  {
   "cell_type": "code",
   "execution_count": 1,
   "metadata": {},
   "outputs": [
    {
     "name": "stderr",
     "output_type": "stream",
     "text": [
      "/home/andy/.local/lib/python3.6/site-packages/h5py/__init__.py:36: FutureWarning: Conversion of the second argument of issubdtype from `float` to `np.floating` is deprecated. In future, it will be treated as `np.float64 == np.dtype(float).type`.\n",
      "  from ._conv import register_converters as _register_converters\n",
      "Using TensorFlow backend.\n"
     ]
    }
   ],
   "source": [
    "from get_training_data import *\n",
    "\n",
    "import tensorflow as tf\n",
    "import keras\n",
    "import pickle\n",
    "import gzip\n",
    "import os\n",
    "import random\n",
    "import matplotlib.pyplot as plt\n",
    "%matplotlib nbagg"
   ]
  },
  {
   "cell_type": "code",
   "execution_count": 2,
   "metadata": {},
   "outputs": [
    {
     "data": {
      "text/plain": [
       "(tuple, 2)"
      ]
     },
     "execution_count": 2,
     "metadata": {},
     "output_type": "execute_result"
    }
   ],
   "source": [
    "with gzip.open('train_cases.pkl.gz','rb') as fp:\n",
    "    train_cases = pickle.load(fp)\n",
    "type(train_cases), len(train_cases)"
   ]
  },
  {
   "cell_type": "code",
   "execution_count": 3,
   "metadata": {},
   "outputs": [
    {
     "data": {
      "text/plain": [
       "(numpy.ndarray,\n",
       " (16384, 16, 16, 128),\n",
       " dtype('float32'),\n",
       " numpy.ndarray,\n",
       " (16384, 1),\n",
       " dtype('float64'))"
      ]
     },
     "execution_count": 3,
     "metadata": {},
     "output_type": "execute_result"
    }
   ],
   "source": [
    "train_X = train_cases[0]\n",
    "train_y = train_cases[1]\n",
    "ntrain = train_X.shape[0]\n",
    "type(train_X), train_X.shape, train_X.dtype, type(train_y), train_y.shape, train_y.dtype"
   ]
  },
  {
   "cell_type": "code",
   "execution_count": 4,
   "metadata": {},
   "outputs": [
    {
     "data": {
      "text/plain": [
       "(numpy.ndarray,\n",
       " (4096, 16, 16, 128),\n",
       " dtype('float32'),\n",
       " numpy.ndarray,\n",
       " (4096, 1),\n",
       " dtype('float64'))"
      ]
     },
     "execution_count": 4,
     "metadata": {},
     "output_type": "execute_result"
    }
   ],
   "source": [
    "with gzip.open('valid_cases.pkl.gz','rb') as fp:\n",
    "    valid_cases = pickle.load(fp)\n",
    "valid_X = valid_cases[0]\n",
    "valid_y = valid_cases[1]\n",
    "nvalid = valid_X.shape[0]\n",
    "type(valid_X), valid_X.shape, valid_X.dtype, type(valid_y), valid_y.shape, valid_y.dtype"
   ]
  },
  {
   "cell_type": "code",
   "execution_count": 5,
   "metadata": {},
   "outputs": [],
   "source": [
    "def choose_training_case():\n",
    "    i = random.randint(0, ntrain-1)\n",
    "    return(train_X[i,:,:,:], train_y[i,:])\n",
    "\n",
    "def choose_validation_case():\n",
    "    i = random.randint(0, nvalid-1)\n",
    "    return(valid_X[i,:,:,:], valid_y[i,:])"
   ]
  },
  {
   "cell_type": "code",
   "execution_count": 6,
   "metadata": {},
   "outputs": [],
   "source": [
    "def make_batch_from_megabatch(batchsize=32, validation=False):\n",
    "    get_case = choose_validation_case if validation else choose_training_case    \n",
    "    xbatch = np.empty([0, INPUTS_PER_BEAT, NBEATS, NCHANNELS],dtype=np.float32)\n",
    "    ybatch = np.empty([0, 1])\n",
    "    for i in range(batchsize):\n",
    "        case = get_case()\n",
    "        x = np.expand_dims(case[0], axis=0)\n",
    "        xbatch = np.concatenate([xbatch, x], axis=0)\n",
    "        y = np.array(int(case[1])).reshape([1,1])\n",
    "        ybatch = np.concatenate([ybatch, y], axis=0)\n",
    "    return(xbatch, ybatch)\n",
    "\n",
    "def train_gen(batchsize=32):\n",
    "    while True:\n",
    "        yield(make_batch_from_megabatch(batchsize, validation=False))\n",
    "\n",
    "def valid_gen(batchsize=32):\n",
    "    while True:\n",
    "        yield(make_batch_from_megabatch(batchsize, validation=True))"
   ]
  },
  {
   "cell_type": "code",
   "execution_count": 7,
   "metadata": {},
   "outputs": [
    {
     "data": {
      "text/plain": [
       "((32, 16, 16, 128), (32, 1))"
      ]
     },
     "execution_count": 7,
     "metadata": {},
     "output_type": "execute_result"
    }
   ],
   "source": [
    "# The generators are way too slow: have to fix this\n",
    "for t in train_gen():\n",
    "    break\n",
    "t[0].shape, t[1].shape"
   ]
  },
  {
   "cell_type": "code",
   "execution_count": 8,
   "metadata": {},
   "outputs": [
    {
     "data": {
      "text/plain": [
       "((32, 16, 16, 128), (32, 1))"
      ]
     },
     "execution_count": 8,
     "metadata": {},
     "output_type": "execute_result"
    }
   ],
   "source": [
    "for v in valid_gen():\n",
    "    break\n",
    "v[0].shape, v[1].shape"
   ]
  },
  {
   "cell_type": "code",
   "execution_count": 9,
   "metadata": {},
   "outputs": [],
   "source": [
    "input_shape = (INPUTS_PER_BEAT, NBEATS, NCHANNELS)\n",
    "\n",
    "model = keras.Sequential()\n",
    "model.add(keras.layers.Conv2D(64, 1, activation='relu', input_shape=input_shape))\n",
    "model.add(keras.layers.BatchNormalization())\n",
    "model.add(keras.layers.Conv2D(32, 1, activation='relu'))\n",
    "model.add(keras.layers.BatchNormalization())\n",
    "model.add(keras.layers.Conv2D(16, 3, activation='relu'))\n",
    "model.add(keras.layers.BatchNormalization())\n",
    "model.add(keras.layers.Conv2D(8, 5, activation='relu'))\n",
    "model.add(keras.layers.BatchNormalization())\n",
    "model.add(keras.layers.Conv2D(4, 3, activation='relu'))\n",
    "model.add(keras.layers.Flatten())\n",
    "model.add(keras.layers.Dropout(.5))\n",
    "model.add(keras.layers.Dense(1, activation='sigmoid'))"
   ]
  },
  {
   "cell_type": "code",
   "execution_count": 10,
   "metadata": {},
   "outputs": [],
   "source": [
    "model.compile(loss='binary_crossentropy', optimizer='adam', metrics=['accuracy'])"
   ]
  },
  {
   "cell_type": "code",
   "execution_count": 11,
   "metadata": {},
   "outputs": [
    {
     "name": "stdout",
     "output_type": "stream",
     "text": [
      "_________________________________________________________________\n",
      "Layer (type)                 Output Shape              Param #   \n",
      "=================================================================\n",
      "conv2d_1 (Conv2D)            (None, 16, 16, 64)        8256      \n",
      "_________________________________________________________________\n",
      "batch_normalization_1 (Batch (None, 16, 16, 64)        256       \n",
      "_________________________________________________________________\n",
      "conv2d_2 (Conv2D)            (None, 16, 16, 32)        2080      \n",
      "_________________________________________________________________\n",
      "batch_normalization_2 (Batch (None, 16, 16, 32)        128       \n",
      "_________________________________________________________________\n",
      "conv2d_3 (Conv2D)            (None, 14, 14, 16)        4624      \n",
      "_________________________________________________________________\n",
      "batch_normalization_3 (Batch (None, 14, 14, 16)        64        \n",
      "_________________________________________________________________\n",
      "conv2d_4 (Conv2D)            (None, 10, 10, 8)         3208      \n",
      "_________________________________________________________________\n",
      "batch_normalization_4 (Batch (None, 10, 10, 8)         32        \n",
      "_________________________________________________________________\n",
      "conv2d_5 (Conv2D)            (None, 8, 8, 4)           292       \n",
      "_________________________________________________________________\n",
      "flatten_1 (Flatten)          (None, 256)               0         \n",
      "_________________________________________________________________\n",
      "dropout_1 (Dropout)          (None, 256)               0         \n",
      "_________________________________________________________________\n",
      "dense_1 (Dense)              (None, 1)                 257       \n",
      "=================================================================\n",
      "Total params: 19,197\n",
      "Trainable params: 18,957\n",
      "Non-trainable params: 240\n",
      "_________________________________________________________________\n"
     ]
    }
   ],
   "source": [
    "model.summary()"
   ]
  },
  {
   "cell_type": "code",
   "execution_count": 12,
   "metadata": {
    "scrolled": true
   },
   "outputs": [
    {
     "name": "stdout",
     "output_type": "stream",
     "text": [
      "Epoch 1/60\n",
      "64/64 [==============================] - 2s 31ms/step - loss: 0.6215 - acc: 0.7231 - val_loss: 0.5900 - val_acc: 0.7515\n",
      "Epoch 2/60\n",
      "64/64 [==============================] - 1s 13ms/step - loss: 0.5881 - acc: 0.7490 - val_loss: 0.5506 - val_acc: 0.7695\n",
      "Epoch 3/60\n",
      "64/64 [==============================] - 1s 13ms/step - loss: 0.5699 - acc: 0.7544 - val_loss: 0.5522 - val_acc: 0.7515\n",
      "Epoch 4/60\n",
      "64/64 [==============================] - 1s 13ms/step - loss: 0.5550 - acc: 0.7603 - val_loss: 0.5445 - val_acc: 0.7646\n",
      "Epoch 5/60\n",
      "64/64 [==============================] - 1s 13ms/step - loss: 0.5413 - acc: 0.7710 - val_loss: 0.5649 - val_acc: 0.7451\n",
      "Epoch 6/60\n",
      "64/64 [==============================] - 1s 13ms/step - loss: 0.5167 - acc: 0.7837 - val_loss: 0.5206 - val_acc: 0.7769\n",
      "Epoch 7/60\n",
      "64/64 [==============================] - 1s 13ms/step - loss: 0.5323 - acc: 0.7695 - val_loss: 0.5225 - val_acc: 0.7759\n",
      "Epoch 8/60\n",
      "64/64 [==============================] - 1s 13ms/step - loss: 0.5316 - acc: 0.7705 - val_loss: 0.5556 - val_acc: 0.7549\n",
      "Epoch 9/60\n",
      "64/64 [==============================] - 1s 13ms/step - loss: 0.5149 - acc: 0.7725 - val_loss: 0.5220 - val_acc: 0.7666\n",
      "Epoch 10/60\n",
      "64/64 [==============================] - 1s 12ms/step - loss: 0.5238 - acc: 0.7559 - val_loss: 0.5056 - val_acc: 0.7754\n",
      "Epoch 11/60\n",
      "64/64 [==============================] - 1s 12ms/step - loss: 0.5092 - acc: 0.7661 - val_loss: 0.5141 - val_acc: 0.7593\n",
      "Epoch 12/60\n",
      "64/64 [==============================] - 1s 13ms/step - loss: 0.4803 - acc: 0.7812 - val_loss: 0.5399 - val_acc: 0.7529\n",
      "Epoch 13/60\n",
      "64/64 [==============================] - 1s 12ms/step - loss: 0.4825 - acc: 0.7651 - val_loss: 0.5195 - val_acc: 0.7642\n",
      "Epoch 14/60\n",
      "64/64 [==============================] - 1s 12ms/step - loss: 0.4544 - acc: 0.7769 - val_loss: 0.4823 - val_acc: 0.7700\n",
      "Epoch 15/60\n",
      "64/64 [==============================] - 1s 12ms/step - loss: 0.4399 - acc: 0.7769 - val_loss: 0.5123 - val_acc: 0.7622\n",
      "Epoch 16/60\n",
      "64/64 [==============================] - 1s 12ms/step - loss: 0.4219 - acc: 0.7847 - val_loss: 0.4972 - val_acc: 0.7603\n",
      "Epoch 17/60\n",
      "64/64 [==============================] - 1s 12ms/step - loss: 0.4227 - acc: 0.7798 - val_loss: 0.4695 - val_acc: 0.7559\n",
      "Epoch 18/60\n",
      "64/64 [==============================] - 1s 12ms/step - loss: 0.4125 - acc: 0.7886 - val_loss: 0.5577 - val_acc: 0.7769\n",
      "Epoch 19/60\n",
      "64/64 [==============================] - 1s 13ms/step - loss: 0.4091 - acc: 0.7891 - val_loss: 0.4771 - val_acc: 0.7808\n",
      "Epoch 20/60\n",
      "64/64 [==============================] - 1s 13ms/step - loss: 0.3859 - acc: 0.8081 - val_loss: 0.4409 - val_acc: 0.7603\n",
      "Epoch 21/60\n",
      "64/64 [==============================] - 1s 13ms/step - loss: 0.3941 - acc: 0.7949 - val_loss: 0.4760 - val_acc: 0.7783\n",
      "Epoch 22/60\n",
      "64/64 [==============================] - 1s 12ms/step - loss: 0.3554 - acc: 0.8306 - val_loss: 0.3994 - val_acc: 0.8115\n",
      "Epoch 23/60\n",
      "64/64 [==============================] - 1s 13ms/step - loss: 0.3631 - acc: 0.8257 - val_loss: 0.4724 - val_acc: 0.8052\n",
      "Epoch 24/60\n",
      "64/64 [==============================] - 1s 13ms/step - loss: 0.3373 - acc: 0.8330 - val_loss: 0.4299 - val_acc: 0.7998\n",
      "Epoch 25/60\n",
      "64/64 [==============================] - 1s 13ms/step - loss: 0.3407 - acc: 0.8384 - val_loss: 0.4136 - val_acc: 0.8105\n",
      "Epoch 26/60\n",
      "64/64 [==============================] - 1s 13ms/step - loss: 0.3273 - acc: 0.8462 - val_loss: 0.4018 - val_acc: 0.8184\n",
      "Epoch 27/60\n",
      "64/64 [==============================] - 1s 13ms/step - loss: 0.3321 - acc: 0.8457 - val_loss: 0.4067 - val_acc: 0.8101\n",
      "Epoch 28/60\n",
      "64/64 [==============================] - 1s 13ms/step - loss: 0.3092 - acc: 0.8657 - val_loss: 0.4700 - val_acc: 0.7354\n",
      "Epoch 29/60\n",
      "64/64 [==============================] - 1s 13ms/step - loss: 0.3205 - acc: 0.8716 - val_loss: 0.3695 - val_acc: 0.8374\n",
      "Epoch 30/60\n",
      "64/64 [==============================] - 1s 13ms/step - loss: 0.3027 - acc: 0.8638 - val_loss: 0.3761 - val_acc: 0.8398\n",
      "Epoch 31/60\n",
      "64/64 [==============================] - 1s 13ms/step - loss: 0.3018 - acc: 0.8672 - val_loss: 0.3754 - val_acc: 0.8232\n",
      "Epoch 32/60\n",
      "64/64 [==============================] - 1s 13ms/step - loss: 0.2905 - acc: 0.8647 - val_loss: 0.3459 - val_acc: 0.8506\n",
      "Epoch 33/60\n",
      "64/64 [==============================] - 1s 13ms/step - loss: 0.2695 - acc: 0.8877 - val_loss: 0.3482 - val_acc: 0.8296\n",
      "Epoch 34/60\n",
      "64/64 [==============================] - 1s 13ms/step - loss: 0.2539 - acc: 0.9023 - val_loss: 0.3903 - val_acc: 0.8301\n",
      "Epoch 35/60\n",
      "64/64 [==============================] - 1s 13ms/step - loss: 0.2583 - acc: 0.8906 - val_loss: 0.4333 - val_acc: 0.8379\n",
      "Epoch 36/60\n",
      "64/64 [==============================] - 1s 13ms/step - loss: 0.2559 - acc: 0.8979 - val_loss: 0.3335 - val_acc: 0.8457\n",
      "Epoch 37/60\n",
      "64/64 [==============================] - 1s 13ms/step - loss: 0.2458 - acc: 0.9038 - val_loss: 0.3602 - val_acc: 0.8540\n",
      "Epoch 38/60\n",
      "64/64 [==============================] - 1s 13ms/step - loss: 0.2121 - acc: 0.9224 - val_loss: 0.3197 - val_acc: 0.8535\n",
      "Epoch 39/60\n",
      "64/64 [==============================] - 1s 13ms/step - loss: 0.2333 - acc: 0.9131 - val_loss: 0.3268 - val_acc: 0.8755\n",
      "Epoch 40/60\n",
      "64/64 [==============================] - 1s 13ms/step - loss: 0.2287 - acc: 0.9092 - val_loss: 0.3853 - val_acc: 0.8052\n",
      "Epoch 41/60\n",
      "64/64 [==============================] - 1s 13ms/step - loss: 0.2285 - acc: 0.9150 - val_loss: 0.3686 - val_acc: 0.8320\n",
      "Epoch 42/60\n",
      "64/64 [==============================] - 1s 13ms/step - loss: 0.2180 - acc: 0.9165 - val_loss: 0.3348 - val_acc: 0.8511\n",
      "Epoch 43/60\n",
      "64/64 [==============================] - 1s 13ms/step - loss: 0.2268 - acc: 0.9087 - val_loss: 0.3235 - val_acc: 0.8530\n",
      "Epoch 44/60\n",
      "64/64 [==============================] - 1s 13ms/step - loss: 0.2119 - acc: 0.9175 - val_loss: 0.3224 - val_acc: 0.8594\n",
      "Epoch 45/60\n",
      "64/64 [==============================] - 1s 13ms/step - loss: 0.2190 - acc: 0.9229 - val_loss: 0.3181 - val_acc: 0.8550\n",
      "Epoch 46/60\n",
      "64/64 [==============================] - 1s 13ms/step - loss: 0.1928 - acc: 0.9297 - val_loss: 0.3495 - val_acc: 0.8579\n",
      "Epoch 47/60\n",
      "64/64 [==============================] - 1s 13ms/step - loss: 0.2130 - acc: 0.9204 - val_loss: 0.3121 - val_acc: 0.8613\n",
      "Epoch 48/60\n",
      "64/64 [==============================] - 1s 13ms/step - loss: 0.2046 - acc: 0.9312 - val_loss: 0.3153 - val_acc: 0.8643\n",
      "Epoch 49/60\n",
      "64/64 [==============================] - 1s 13ms/step - loss: 0.1910 - acc: 0.9268 - val_loss: 0.3290 - val_acc: 0.8604\n",
      "Epoch 50/60\n",
      "64/64 [==============================] - 1s 13ms/step - loss: 0.1948 - acc: 0.9370 - val_loss: 0.3204 - val_acc: 0.8540\n",
      "Epoch 51/60\n",
      "64/64 [==============================] - 1s 13ms/step - loss: 0.1955 - acc: 0.9351 - val_loss: 0.2981 - val_acc: 0.8667\n",
      "Epoch 52/60\n",
      "64/64 [==============================] - 1s 13ms/step - loss: 0.1987 - acc: 0.9282 - val_loss: 0.3129 - val_acc: 0.8657\n",
      "Epoch 53/60\n",
      "64/64 [==============================] - 1s 13ms/step - loss: 0.1727 - acc: 0.9429 - val_loss: 0.2956 - val_acc: 0.8755\n",
      "Epoch 54/60\n",
      "64/64 [==============================] - 1s 13ms/step - loss: 0.1778 - acc: 0.9463 - val_loss: 0.2829 - val_acc: 0.8794\n",
      "Epoch 55/60\n",
      "64/64 [==============================] - 1s 13ms/step - loss: 0.1818 - acc: 0.9370 - val_loss: 0.2921 - val_acc: 0.8789\n",
      "Epoch 56/60\n",
      "64/64 [==============================] - 1s 13ms/step - loss: 0.1855 - acc: 0.9312 - val_loss: 0.3121 - val_acc: 0.8779\n",
      "Epoch 57/60\n",
      "64/64 [==============================] - 1s 13ms/step - loss: 0.1836 - acc: 0.9351 - val_loss: 0.2652 - val_acc: 0.8848\n",
      "Epoch 58/60\n",
      "64/64 [==============================] - 1s 13ms/step - loss: 0.1716 - acc: 0.9370 - val_loss: 0.2980 - val_acc: 0.8687\n",
      "Epoch 59/60\n",
      "64/64 [==============================] - 1s 13ms/step - loss: 0.1809 - acc: 0.9453 - val_loss: 0.2924 - val_acc: 0.8774\n",
      "Epoch 60/60\n",
      "64/64 [==============================] - 1s 13ms/step - loss: 0.1694 - acc: 0.9424 - val_loss: 0.2699 - val_acc: 0.8965\n"
     ]
    },
    {
     "data": {
      "text/plain": [
       "<keras.callbacks.History at 0x7f2fac13e2b0>"
      ]
     },
     "execution_count": 12,
     "metadata": {},
     "output_type": "execute_result"
    }
   ],
   "source": [
    "valid=valid_gen()\n",
    "train=train_gen()\n",
    "model.fit_generator(train, \n",
    "                    validation_data=valid, validation_steps=64,\n",
    "                    epochs=60, \n",
    "                    steps_per_epoch=64)"
   ]
  },
  {
   "cell_type": "code",
   "execution_count": 13,
   "metadata": {},
   "outputs": [
    {
     "name": "stdout",
     "output_type": "stream",
     "text": [
      "AHardRainsAGonnaFall 94\n",
      "Predicted:  0.74402475    Actual:  False \n",
      "\n",
      "EternalFlame 46\n",
      "Predicted:  0.06460647    Actual:  False \n",
      "\n",
      "GoodGollyMissMollyWithJerryLeeAndFats 68\n",
      "Predicted:  0.13260575    Actual:  False \n",
      "\n",
      "09 Suddenly I See 56\n",
      "Predicted:  3.282471e-08    Actual:  False \n",
      "\n",
      "IThinkWereAloneNow2MP 65\n",
      "Predicted:  0.72765225    Actual:  True \n",
      "\n",
      "ChatanoogaChooChoo 133\n",
      "Predicted:  0.027355013    Actual:  False \n",
      "\n",
      "53rdAnd3rdMP 45\n",
      "Predicted:  0.00018338092    Actual:  False \n",
      "\n",
      "HoldMeTight 108\n",
      "Predicted:  0.0016649765    Actual:  False \n",
      "\n",
      "IfIHadAHammer 133\n",
      "Predicted:  0.37164655    Actual:  False \n",
      "\n",
      "BothSidesNow 258\n",
      "Predicted:  0.07296069    Actual:  False \n",
      "\n"
     ]
    }
   ],
   "source": [
    "for i in range(10):\n",
    "    song, tempo, compatible, clip = get_validation_case()\n",
    "    print( song, tempo )\n",
    "    c = clip_to_tf_input(resample_clip(clip))\n",
    "    x = np.expand_dims(c, axis=0)\n",
    "    p = model.predict(x)[0][0]\n",
    "    print( 'Predicted: ', p, '   Actual: ', compatible, '\\n' )"
   ]
  },
  {
   "cell_type": "code",
   "execution_count": null,
   "metadata": {},
   "outputs": [],
   "source": []
  }
 ],
 "metadata": {
  "kernelspec": {
   "display_name": "Python 3",
   "language": "python",
   "name": "python3"
  },
  "language_info": {
   "codemirror_mode": {
    "name": "ipython",
    "version": 3
   },
   "file_extension": ".py",
   "mimetype": "text/x-python",
   "name": "python",
   "nbconvert_exporter": "python",
   "pygments_lexer": "ipython3",
   "version": "3.6.6"
  }
 },
 "nbformat": 4,
 "nbformat_minor": 2
}

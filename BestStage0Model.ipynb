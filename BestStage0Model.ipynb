{
 "cells": [
  {
   "cell_type": "code",
   "execution_count": 1,
   "metadata": {},
   "outputs": [
    {
     "name": "stderr",
     "output_type": "stream",
     "text": [
      "/home/andy/.local/lib/python3.6/site-packages/h5py/__init__.py:36: FutureWarning: Conversion of the second argument of issubdtype from `float` to `np.floating` is deprecated. In future, it will be treated as `np.float64 == np.dtype(float).type`.\n",
      "  from ._conv import register_converters as _register_converters\n",
      "Using TensorFlow backend.\n"
     ]
    }
   ],
   "source": [
    "from get_training_data import *\n",
    "\n",
    "import tensorflow as tf\n",
    "import keras\n",
    "import pickle\n",
    "import gzip\n",
    "import os\n",
    "import random\n",
    "import matplotlib.pyplot as plt\n",
    "%matplotlib nbagg"
   ]
  },
  {
   "cell_type": "code",
   "execution_count": 2,
   "metadata": {},
   "outputs": [
    {
     "data": {
      "text/plain": [
       "(tuple, 2)"
      ]
     },
     "execution_count": 2,
     "metadata": {},
     "output_type": "execute_result"
    }
   ],
   "source": [
    "with gzip.open('train_cases.pkl.gz','rb') as fp:\n",
    "    train_cases = pickle.load(fp)\n",
    "type(train_cases), len(train_cases)"
   ]
  },
  {
   "cell_type": "code",
   "execution_count": 3,
   "metadata": {},
   "outputs": [
    {
     "data": {
      "text/plain": [
       "(numpy.ndarray,\n",
       " (16384, 16, 16, 128),\n",
       " dtype('float32'),\n",
       " numpy.ndarray,\n",
       " (16384, 1),\n",
       " dtype('float64'))"
      ]
     },
     "execution_count": 3,
     "metadata": {},
     "output_type": "execute_result"
    }
   ],
   "source": [
    "train_X = train_cases[0]\n",
    "train_y = train_cases[1]\n",
    "ntrain = train_X.shape[0]\n",
    "type(train_X), train_X.shape, train_X.dtype, type(train_y), train_y.shape, train_y.dtype"
   ]
  },
  {
   "cell_type": "code",
   "execution_count": 4,
   "metadata": {},
   "outputs": [
    {
     "data": {
      "text/plain": [
       "(numpy.ndarray,\n",
       " (4096, 16, 16, 128),\n",
       " dtype('float32'),\n",
       " numpy.ndarray,\n",
       " (4096, 1),\n",
       " dtype('float64'))"
      ]
     },
     "execution_count": 4,
     "metadata": {},
     "output_type": "execute_result"
    }
   ],
   "source": [
    "with gzip.open('valid_cases.pkl.gz','rb') as fp:\n",
    "    valid_cases = pickle.load(fp)\n",
    "valid_X = valid_cases[0]\n",
    "valid_y = valid_cases[1]\n",
    "nvalid = valid_X.shape[0]\n",
    "type(valid_X), valid_X.shape, valid_X.dtype, type(valid_y), valid_y.shape, valid_y.dtype"
   ]
  },
  {
   "cell_type": "code",
   "execution_count": 5,
   "metadata": {},
   "outputs": [],
   "source": [
    "def choose_training_case():\n",
    "    i = random.randint(0, ntrain-1)\n",
    "    return(train_X[i,:,:,:], train_y[i,:])\n",
    "\n",
    "def choose_validation_case():\n",
    "    i = random.randint(0, nvalid-1)\n",
    "    return(valid_X[i,:,:,:], valid_y[i,:])"
   ]
  },
  {
   "cell_type": "code",
   "execution_count": 6,
   "metadata": {},
   "outputs": [],
   "source": [
    "def make_batch_from_megabatch(batchsize=32, validation=False):\n",
    "    get_case = choose_validation_case if validation else choose_training_case    \n",
    "    xbatch = np.empty([0, INPUTS_PER_BEAT, NBEATS, NCHANNELS],dtype=np.float32)\n",
    "    ybatch = np.empty([0, 1])\n",
    "    for i in range(batchsize):\n",
    "        case = get_case()\n",
    "        x = np.expand_dims(case[0], axis=0)\n",
    "        xbatch = np.concatenate([xbatch, x], axis=0)\n",
    "        y = np.array(int(case[1])).reshape([1,1])\n",
    "        ybatch = np.concatenate([ybatch, y], axis=0)\n",
    "    return(xbatch, ybatch)\n",
    "\n",
    "def train_gen(batchsize=32):\n",
    "    while True:\n",
    "        yield(make_batch_from_megabatch(batchsize, validation=False))\n",
    "\n",
    "def valid_gen(batchsize=32):\n",
    "    while True:\n",
    "        yield(make_batch_from_megabatch(batchsize, validation=True))"
   ]
  },
  {
   "cell_type": "code",
   "execution_count": 7,
   "metadata": {},
   "outputs": [
    {
     "data": {
      "text/plain": [
       "((32, 16, 16, 128), (32, 1))"
      ]
     },
     "execution_count": 7,
     "metadata": {},
     "output_type": "execute_result"
    }
   ],
   "source": [
    "# The generators are way too slow: have to fix this\n",
    "for t in train_gen():\n",
    "    break\n",
    "t[0].shape, t[1].shape"
   ]
  },
  {
   "cell_type": "code",
   "execution_count": 8,
   "metadata": {},
   "outputs": [
    {
     "data": {
      "text/plain": [
       "((32, 16, 16, 128), (32, 1))"
      ]
     },
     "execution_count": 8,
     "metadata": {},
     "output_type": "execute_result"
    }
   ],
   "source": [
    "for v in valid_gen():\n",
    "    break\n",
    "v[0].shape, v[1].shape"
   ]
  },
  {
   "cell_type": "code",
   "execution_count": 9,
   "metadata": {},
   "outputs": [],
   "source": [
    "input_shape = (INPUTS_PER_BEAT, NBEATS, NCHANNELS)\n",
    "\n",
    "model = keras.Sequential()\n",
    "model.add(keras.layers.Conv2D(64, 1, activation='relu', input_shape=input_shape))\n",
    "model.add(keras.layers.BatchNormalization())\n",
    "model.add(keras.layers.Conv2D(32, 1, activation='relu'))\n",
    "model.add(keras.layers.BatchNormalization())\n",
    "model.add(keras.layers.Conv2D(16, 3, activation='relu'))\n",
    "model.add(keras.layers.BatchNormalization())\n",
    "model.add(keras.layers.Conv2D(25, 5, activation='relu'))\n",
    "model.add(keras.layers.BatchNormalization())\n",
    "model.add(keras.layers.Conv2D(5, 3, activation='relu'))\n",
    "model.add(keras.layers.Flatten())\n",
    "model.add(keras.layers.Dropout(.5))\n",
    "model.add(keras.layers.Dense(1, activation='sigmoid'))"
   ]
  },
  {
   "cell_type": "code",
   "execution_count": 10,
   "metadata": {},
   "outputs": [],
   "source": [
    "model.compile(loss='binary_crossentropy', optimizer='adam', metrics=['accuracy'])"
   ]
  },
  {
   "cell_type": "code",
   "execution_count": 11,
   "metadata": {},
   "outputs": [
    {
     "name": "stdout",
     "output_type": "stream",
     "text": [
      "_________________________________________________________________\n",
      "Layer (type)                 Output Shape              Param #   \n",
      "=================================================================\n",
      "conv2d_1 (Conv2D)            (None, 16, 16, 64)        8256      \n",
      "_________________________________________________________________\n",
      "batch_normalization_1 (Batch (None, 16, 16, 64)        256       \n",
      "_________________________________________________________________\n",
      "conv2d_2 (Conv2D)            (None, 16, 16, 32)        2080      \n",
      "_________________________________________________________________\n",
      "batch_normalization_2 (Batch (None, 16, 16, 32)        128       \n",
      "_________________________________________________________________\n",
      "conv2d_3 (Conv2D)            (None, 14, 14, 16)        4624      \n",
      "_________________________________________________________________\n",
      "batch_normalization_3 (Batch (None, 14, 14, 16)        64        \n",
      "_________________________________________________________________\n",
      "conv2d_4 (Conv2D)            (None, 10, 10, 25)        10025     \n",
      "_________________________________________________________________\n",
      "batch_normalization_4 (Batch (None, 10, 10, 25)        100       \n",
      "_________________________________________________________________\n",
      "conv2d_5 (Conv2D)            (None, 8, 8, 5)           1130      \n",
      "_________________________________________________________________\n",
      "flatten_1 (Flatten)          (None, 320)               0         \n",
      "_________________________________________________________________\n",
      "dropout_1 (Dropout)          (None, 320)               0         \n",
      "_________________________________________________________________\n",
      "dense_1 (Dense)              (None, 1)                 321       \n",
      "=================================================================\n",
      "Total params: 26,984\n",
      "Trainable params: 26,710\n",
      "Non-trainable params: 274\n",
      "_________________________________________________________________\n"
     ]
    }
   ],
   "source": [
    "model.summary()"
   ]
  },
  {
   "cell_type": "code",
   "execution_count": 12,
   "metadata": {
    "scrolled": true
   },
   "outputs": [
    {
     "name": "stdout",
     "output_type": "stream",
     "text": [
      "Epoch 1/60\n",
      "64/64 [==============================] - 2s 31ms/step - loss: 0.6911 - acc: 0.6997 - val_loss: 0.5824 - val_acc: 0.7539\n",
      "Epoch 2/60\n",
      "64/64 [==============================] - 1s 13ms/step - loss: 0.5935 - acc: 0.7446 - val_loss: 0.5675 - val_acc: 0.7544\n",
      "Epoch 3/60\n",
      "64/64 [==============================] - 1s 13ms/step - loss: 0.5532 - acc: 0.7637 - val_loss: 0.5661 - val_acc: 0.7373\n",
      "Epoch 4/60\n",
      "64/64 [==============================] - 1s 13ms/step - loss: 0.5453 - acc: 0.7720 - val_loss: 0.5572 - val_acc: 0.7554\n",
      "Epoch 5/60\n",
      "64/64 [==============================] - 1s 13ms/step - loss: 0.5198 - acc: 0.7881 - val_loss: 0.5209 - val_acc: 0.7749\n",
      "Epoch 6/60\n",
      "64/64 [==============================] - 1s 13ms/step - loss: 0.5336 - acc: 0.7651 - val_loss: 0.5391 - val_acc: 0.7529\n",
      "Epoch 7/60\n",
      "64/64 [==============================] - 1s 13ms/step - loss: 0.5213 - acc: 0.7720 - val_loss: 0.5342 - val_acc: 0.7642\n",
      "Epoch 8/60\n",
      "64/64 [==============================] - 1s 13ms/step - loss: 0.5252 - acc: 0.7759 - val_loss: 0.5260 - val_acc: 0.7612\n",
      "Epoch 9/60\n",
      "64/64 [==============================] - 1s 13ms/step - loss: 0.4814 - acc: 0.7837 - val_loss: 0.5416 - val_acc: 0.7427\n",
      "Epoch 10/60\n",
      "64/64 [==============================] - 1s 13ms/step - loss: 0.4597 - acc: 0.7852 - val_loss: 0.5023 - val_acc: 0.7710\n",
      "Epoch 11/60\n",
      "64/64 [==============================] - 1s 13ms/step - loss: 0.4699 - acc: 0.7808 - val_loss: 0.5062 - val_acc: 0.7612\n",
      "Epoch 12/60\n",
      "64/64 [==============================] - 1s 13ms/step - loss: 0.4517 - acc: 0.7686 - val_loss: 0.4826 - val_acc: 0.7676\n",
      "Epoch 13/60\n",
      "64/64 [==============================] - 1s 13ms/step - loss: 0.4588 - acc: 0.7690 - val_loss: 0.4894 - val_acc: 0.7500\n",
      "Epoch 14/60\n",
      "64/64 [==============================] - 1s 13ms/step - loss: 0.4444 - acc: 0.7773 - val_loss: 0.5610 - val_acc: 0.7588\n",
      "Epoch 15/60\n",
      "64/64 [==============================] - 1s 13ms/step - loss: 0.4462 - acc: 0.7754 - val_loss: 0.4623 - val_acc: 0.7637\n",
      "Epoch 16/60\n",
      "64/64 [==============================] - 1s 13ms/step - loss: 0.4268 - acc: 0.7627 - val_loss: 0.4821 - val_acc: 0.7393\n",
      "Epoch 17/60\n",
      "64/64 [==============================] - 1s 13ms/step - loss: 0.4169 - acc: 0.7705 - val_loss: 0.4263 - val_acc: 0.7842\n",
      "Epoch 18/60\n",
      "64/64 [==============================] - 1s 13ms/step - loss: 0.3945 - acc: 0.7925 - val_loss: 0.4701 - val_acc: 0.7788\n",
      "Epoch 19/60\n",
      "64/64 [==============================] - 1s 13ms/step - loss: 0.3993 - acc: 0.7866 - val_loss: 0.4626 - val_acc: 0.7676\n",
      "Epoch 20/60\n",
      "64/64 [==============================] - 1s 13ms/step - loss: 0.3727 - acc: 0.8052 - val_loss: 0.4373 - val_acc: 0.7700\n",
      "Epoch 21/60\n",
      "64/64 [==============================] - 1s 13ms/step - loss: 0.3995 - acc: 0.7876 - val_loss: 0.5108 - val_acc: 0.7568\n",
      "Epoch 22/60\n",
      "64/64 [==============================] - 1s 13ms/step - loss: 0.3788 - acc: 0.8081 - val_loss: 0.4192 - val_acc: 0.7803\n",
      "Epoch 23/60\n",
      "64/64 [==============================] - 1s 13ms/step - loss: 0.3563 - acc: 0.8105 - val_loss: 0.4116 - val_acc: 0.7905\n",
      "Epoch 24/60\n",
      "64/64 [==============================] - 1s 13ms/step - loss: 0.3376 - acc: 0.8359 - val_loss: 0.4065 - val_acc: 0.8076\n",
      "Epoch 25/60\n",
      "64/64 [==============================] - 1s 13ms/step - loss: 0.3294 - acc: 0.8418 - val_loss: 0.3919 - val_acc: 0.8027\n",
      "Epoch 26/60\n",
      "64/64 [==============================] - 1s 13ms/step - loss: 0.3168 - acc: 0.8418 - val_loss: 0.3963 - val_acc: 0.8501\n",
      "Epoch 27/60\n",
      "64/64 [==============================] - 1s 13ms/step - loss: 0.3087 - acc: 0.8530 - val_loss: 0.3733 - val_acc: 0.8330\n",
      "Epoch 28/60\n",
      "64/64 [==============================] - 1s 13ms/step - loss: 0.3133 - acc: 0.8506 - val_loss: 0.3597 - val_acc: 0.8267\n",
      "Epoch 29/60\n",
      "64/64 [==============================] - 1s 13ms/step - loss: 0.3049 - acc: 0.8599 - val_loss: 0.4163 - val_acc: 0.7988\n",
      "Epoch 30/60\n",
      "64/64 [==============================] - 1s 13ms/step - loss: 0.3081 - acc: 0.8594 - val_loss: 0.3545 - val_acc: 0.8213\n",
      "Epoch 31/60\n",
      "64/64 [==============================] - 1s 13ms/step - loss: 0.2875 - acc: 0.8765 - val_loss: 0.3554 - val_acc: 0.8271\n",
      "Epoch 32/60\n",
      "64/64 [==============================] - 1s 13ms/step - loss: 0.2699 - acc: 0.8813 - val_loss: 0.3476 - val_acc: 0.8345\n",
      "Epoch 33/60\n",
      "64/64 [==============================] - 1s 13ms/step - loss: 0.2726 - acc: 0.8882 - val_loss: 0.3235 - val_acc: 0.8481\n",
      "Epoch 34/60\n",
      "64/64 [==============================] - 1s 13ms/step - loss: 0.2736 - acc: 0.8774 - val_loss: 0.3112 - val_acc: 0.8706\n",
      "Epoch 35/60\n",
      "64/64 [==============================] - 1s 13ms/step - loss: 0.2518 - acc: 0.8945 - val_loss: 0.3264 - val_acc: 0.8667\n",
      "Epoch 36/60\n",
      "64/64 [==============================] - 1s 13ms/step - loss: 0.2268 - acc: 0.9082 - val_loss: 0.3226 - val_acc: 0.8579\n",
      "Epoch 37/60\n",
      "64/64 [==============================] - 1s 13ms/step - loss: 0.2461 - acc: 0.9038 - val_loss: 0.3163 - val_acc: 0.8643\n",
      "Epoch 38/60\n",
      "64/64 [==============================] - 1s 13ms/step - loss: 0.2286 - acc: 0.9141 - val_loss: 0.3523 - val_acc: 0.8389\n",
      "Epoch 39/60\n",
      "64/64 [==============================] - 1s 13ms/step - loss: 0.2439 - acc: 0.9062 - val_loss: 0.3033 - val_acc: 0.8789\n",
      "Epoch 40/60\n",
      "64/64 [==============================] - 1s 13ms/step - loss: 0.2187 - acc: 0.9160 - val_loss: 0.3177 - val_acc: 0.8643\n",
      "Epoch 41/60\n",
      "64/64 [==============================] - 1s 13ms/step - loss: 0.2367 - acc: 0.9102 - val_loss: 0.3121 - val_acc: 0.8691\n",
      "Epoch 42/60\n",
      "64/64 [==============================] - 1s 13ms/step - loss: 0.2240 - acc: 0.9067 - val_loss: 0.3088 - val_acc: 0.8623\n",
      "Epoch 43/60\n",
      "64/64 [==============================] - 1s 13ms/step - loss: 0.2373 - acc: 0.9106 - val_loss: 0.2993 - val_acc: 0.8784\n",
      "Epoch 44/60\n",
      "64/64 [==============================] - 1s 13ms/step - loss: 0.2232 - acc: 0.9023 - val_loss: 0.3381 - val_acc: 0.8477\n",
      "Epoch 45/60\n",
      "64/64 [==============================] - 1s 13ms/step - loss: 0.1958 - acc: 0.9248 - val_loss: 0.3196 - val_acc: 0.8506\n",
      "Epoch 46/60\n",
      "64/64 [==============================] - 1s 13ms/step - loss: 0.1797 - acc: 0.9341 - val_loss: 0.3074 - val_acc: 0.8633\n",
      "Epoch 47/60\n",
      "64/64 [==============================] - 1s 13ms/step - loss: 0.1802 - acc: 0.9292 - val_loss: 0.2960 - val_acc: 0.8735\n",
      "Epoch 48/60\n",
      "64/64 [==============================] - 1s 13ms/step - loss: 0.1869 - acc: 0.9229 - val_loss: 0.3022 - val_acc: 0.8574\n",
      "Epoch 49/60\n",
      "64/64 [==============================] - 1s 13ms/step - loss: 0.1981 - acc: 0.9194 - val_loss: 0.3159 - val_acc: 0.8711\n",
      "Epoch 50/60\n",
      "64/64 [==============================] - 1s 13ms/step - loss: 0.1754 - acc: 0.9360 - val_loss: 0.3070 - val_acc: 0.8750\n",
      "Epoch 51/60\n",
      "64/64 [==============================] - 1s 13ms/step - loss: 0.1799 - acc: 0.9233 - val_loss: 0.2788 - val_acc: 0.8740\n",
      "Epoch 52/60\n",
      "64/64 [==============================] - 1s 13ms/step - loss: 0.1638 - acc: 0.9365 - val_loss: 0.2868 - val_acc: 0.8916\n",
      "Epoch 53/60\n",
      "64/64 [==============================] - 1s 13ms/step - loss: 0.1647 - acc: 0.9390 - val_loss: 0.3062 - val_acc: 0.8735\n",
      "Epoch 54/60\n",
      "64/64 [==============================] - 1s 13ms/step - loss: 0.1776 - acc: 0.9297 - val_loss: 0.2775 - val_acc: 0.8799\n",
      "Epoch 55/60\n",
      "64/64 [==============================] - 1s 13ms/step - loss: 0.1630 - acc: 0.9375 - val_loss: 0.2724 - val_acc: 0.8867\n",
      "Epoch 56/60\n",
      "64/64 [==============================] - 1s 13ms/step - loss: 0.1619 - acc: 0.9404 - val_loss: 0.3289 - val_acc: 0.8408\n",
      "Epoch 57/60\n",
      "64/64 [==============================] - 1s 13ms/step - loss: 0.1658 - acc: 0.9341 - val_loss: 0.2857 - val_acc: 0.8799\n",
      "Epoch 58/60\n",
      "64/64 [==============================] - 1s 13ms/step - loss: 0.1681 - acc: 0.9346 - val_loss: 0.3196 - val_acc: 0.8682\n",
      "Epoch 59/60\n",
      "64/64 [==============================] - 1s 13ms/step - loss: 0.1513 - acc: 0.9424 - val_loss: 0.2746 - val_acc: 0.8921\n",
      "Epoch 60/60\n",
      "64/64 [==============================] - 1s 13ms/step - loss: 0.1563 - acc: 0.9346 - val_loss: 0.3191 - val_acc: 0.8652\n"
     ]
    },
    {
     "data": {
      "text/plain": [
       "<keras.callbacks.History at 0x7f491872aa90>"
      ]
     },
     "execution_count": 12,
     "metadata": {},
     "output_type": "execute_result"
    }
   ],
   "source": [
    "valid=valid_gen()\n",
    "train=train_gen()\n",
    "model.fit_generator(train, \n",
    "                    validation_data=valid, validation_steps=64,\n",
    "                    epochs=60, \n",
    "                    steps_per_epoch=64)"
   ]
  },
  {
   "cell_type": "code",
   "execution_count": 13,
   "metadata": {},
   "outputs": [
    {
     "name": "stdout",
     "output_type": "stream",
     "text": [
      "CaliforniaDreamin2MP 112\n",
      "Predicted:  0.9919906    Actual:  True \n",
      "\n",
      "HoldMeTight 136\n",
      "Predicted:  0.95777184    Actual:  True \n",
      "\n",
      "09 Suddenly I See 60\n",
      "Predicted:  2.416835e-13    Actual:  False \n",
      "\n",
      "IllBeThereForYou 64\n",
      "Predicted:  0.013527765    Actual:  False \n",
      "\n",
      "BloodyMerryMorning 41\n",
      "Predicted:  0.00035207745    Actual:  False \n",
      "\n",
      "TheBollWeevil 112\n",
      "Predicted:  0.001688703    Actual:  False \n",
      "\n",
      "BothSidesNow 41\n",
      "Predicted:  0.0002628125    Actual:  False \n",
      "\n",
      "ChatanoogaChooChoo 105\n",
      "Predicted:  0.0016107884    Actual:  False \n",
      "\n",
      "ImLookingThruYou 112\n",
      "Predicted:  0.07079192    Actual:  False \n",
      "\n",
      "HoldMeTight 68\n",
      "Predicted:  0.39664847    Actual:  True \n",
      "\n"
     ]
    }
   ],
   "source": [
    "for i in range(10):\n",
    "    song, tempo, compatible, clip = get_validation_case()\n",
    "    print( song, tempo )\n",
    "    c = clip_to_tf_input(resample_clip(clip))\n",
    "    x = np.expand_dims(c, axis=0)\n",
    "    p = model.predict(x)[0][0]\n",
    "    print( 'Predicted: ', p, '   Actual: ', compatible, '\\n' )"
   ]
  },
  {
   "cell_type": "code",
   "execution_count": null,
   "metadata": {},
   "outputs": [],
   "source": []
  }
 ],
 "metadata": {
  "kernelspec": {
   "display_name": "Python 3",
   "language": "python",
   "name": "python3"
  },
  "language_info": {
   "codemirror_mode": {
    "name": "ipython",
    "version": 3
   },
   "file_extension": ".py",
   "mimetype": "text/x-python",
   "name": "python",
   "nbconvert_exporter": "python",
   "pygments_lexer": "ipython3",
   "version": "3.6.6"
  }
 },
 "nbformat": 4,
 "nbformat_minor": 2
}

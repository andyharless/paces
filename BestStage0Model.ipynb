{
 "cells": [
  {
   "cell_type": "code",
   "execution_count": 1,
   "metadata": {},
   "outputs": [
    {
     "name": "stderr",
     "output_type": "stream",
     "text": [
      "/home/andy/.local/lib/python3.6/site-packages/h5py/__init__.py:36: FutureWarning: Conversion of the second argument of issubdtype from `float` to `np.floating` is deprecated. In future, it will be treated as `np.float64 == np.dtype(float).type`.\n",
      "  from ._conv import register_converters as _register_converters\n",
      "Using TensorFlow backend.\n"
     ]
    }
   ],
   "source": [
    "from get_training_data import *\n",
    "\n",
    "import tensorflow as tf\n",
    "import keras\n",
    "import pickle\n",
    "import gzip\n",
    "import os\n",
    "import random\n",
    "import matplotlib.pyplot as plt\n",
    "%matplotlib nbagg"
   ]
  },
  {
   "cell_type": "code",
   "execution_count": 2,
   "metadata": {},
   "outputs": [
    {
     "data": {
      "text/plain": [
       "(tuple, 2)"
      ]
     },
     "execution_count": 2,
     "metadata": {},
     "output_type": "execute_result"
    }
   ],
   "source": [
    "with gzip.open('train_cases.pkl.gz','rb') as fp:\n",
    "    train_cases = pickle.load(fp)\n",
    "type(train_cases), len(train_cases)"
   ]
  },
  {
   "cell_type": "code",
   "execution_count": 3,
   "metadata": {},
   "outputs": [
    {
     "data": {
      "text/plain": [
       "(numpy.ndarray,\n",
       " (16384, 16, 16, 128),\n",
       " dtype('float32'),\n",
       " numpy.ndarray,\n",
       " (16384, 1),\n",
       " dtype('float64'))"
      ]
     },
     "execution_count": 3,
     "metadata": {},
     "output_type": "execute_result"
    }
   ],
   "source": [
    "train_X = train_cases[0]\n",
    "train_y = train_cases[1]\n",
    "ntrain = train_X.shape[0]\n",
    "type(train_X), train_X.shape, train_X.dtype, type(train_y), train_y.shape, train_y.dtype"
   ]
  },
  {
   "cell_type": "code",
   "execution_count": 4,
   "metadata": {},
   "outputs": [
    {
     "data": {
      "text/plain": [
       "(numpy.ndarray,\n",
       " (4096, 16, 16, 128),\n",
       " dtype('float32'),\n",
       " numpy.ndarray,\n",
       " (4096, 1),\n",
       " dtype('float64'))"
      ]
     },
     "execution_count": 4,
     "metadata": {},
     "output_type": "execute_result"
    }
   ],
   "source": [
    "with gzip.open('valid_cases.pkl.gz','rb') as fp:\n",
    "    valid_cases = pickle.load(fp)\n",
    "valid_X = valid_cases[0]\n",
    "valid_y = valid_cases[1]\n",
    "nvalid = valid_X.shape[0]\n",
    "type(valid_X), valid_X.shape, valid_X.dtype, type(valid_y), valid_y.shape, valid_y.dtype"
   ]
  },
  {
   "cell_type": "code",
   "execution_count": 5,
   "metadata": {},
   "outputs": [],
   "source": [
    "def choose_training_case():\n",
    "    i = random.randint(0, ntrain-1)\n",
    "    return(train_X[i,:,:,:], train_y[i,:])\n",
    "\n",
    "def choose_validation_case():\n",
    "    i = random.randint(0, nvalid-1)\n",
    "    return(valid_X[i,:,:,:], valid_y[i,:])"
   ]
  },
  {
   "cell_type": "code",
   "execution_count": 6,
   "metadata": {},
   "outputs": [],
   "source": [
    "ADD_CONST = 1e-5\n",
    "CENTER = -2.5\n",
    "SCALE = 5\n",
    "XFORM = True"
   ]
  },
  {
   "cell_type": "code",
   "execution_count": 7,
   "metadata": {},
   "outputs": [],
   "source": [
    "def preproc(a):\n",
    "    if XFORM:\n",
    "        return((np.log(a+ADD_CONST) - CENTER) / SCALE)\n",
    "    else:\n",
    "        return(a)"
   ]
  },
  {
   "cell_type": "code",
   "execution_count": 8,
   "metadata": {},
   "outputs": [],
   "source": [
    "def make_batch_from_megabatch(batchsize=32, validation=False):\n",
    "    get_case = choose_validation_case if validation else choose_training_case    \n",
    "    xbatch = np.empty([0, INPUTS_PER_BEAT, NBEATS, NCHANNELS],dtype=np.float32)\n",
    "    ybatch = np.empty([0, 1])\n",
    "    for i in range(batchsize):\n",
    "        case = get_case()\n",
    "        x = np.expand_dims(case[0], axis=0)\n",
    "        xbatch = np.concatenate([xbatch, x], axis=0)\n",
    "        y = np.array(int(case[1])).reshape([1,1])\n",
    "        ybatch = np.concatenate([ybatch, y], axis=0)\n",
    "    return(preproc(xbatch), ybatch)\n",
    "\n",
    "def train_gen(batchsize=32):\n",
    "    while True:\n",
    "        yield(make_batch_from_megabatch(batchsize, validation=False))\n",
    "\n",
    "def valid_gen(batchsize=32):\n",
    "    while True:\n",
    "        yield(make_batch_from_megabatch(batchsize, validation=True))"
   ]
  },
  {
   "cell_type": "code",
   "execution_count": 9,
   "metadata": {},
   "outputs": [
    {
     "data": {
      "text/plain": [
       "((32, 16, 16, 128), (32, 1))"
      ]
     },
     "execution_count": 9,
     "metadata": {},
     "output_type": "execute_result"
    }
   ],
   "source": [
    "# The generators are way too slow: have to fix this\n",
    "for t in train_gen():\n",
    "    break\n",
    "t[0].shape, t[1].shape"
   ]
  },
  {
   "cell_type": "code",
   "execution_count": 10,
   "metadata": {},
   "outputs": [
    {
     "data": {
      "text/plain": [
       "((32, 16, 16, 128), (32, 1))"
      ]
     },
     "execution_count": 10,
     "metadata": {},
     "output_type": "execute_result"
    }
   ],
   "source": [
    "for v in valid_gen():\n",
    "    break\n",
    "v[0].shape, v[1].shape"
   ]
  },
  {
   "cell_type": "code",
   "execution_count": 11,
   "metadata": {},
   "outputs": [],
   "source": [
    "input_shape = (INPUTS_PER_BEAT, NBEATS, NCHANNELS)\n",
    "\n",
    "model = keras.Sequential()\n",
    "model.add(keras.layers.Conv2D(64, 1, activation='relu', input_shape=input_shape))\n",
    "model.add(keras.layers.SpatialDropout2D(.1))\n",
    "model.add(keras.layers.Conv2D(32, 1, activation='relu'))\n",
    "model.add(keras.layers.BatchNormalization())\n",
    "model.add(keras.layers.Conv2D(12, (1,4), activation='relu'))\n",
    "model.add(keras.layers.SpatialDropout2D(.3))\n",
    "model.add(keras.layers.Conv2D(25, (4,6), activation='relu'))\n",
    "model.add(keras.layers.BatchNormalization())\n",
    "model.add(keras.layers.Conv2D(3, (1,4), activation='relu'))\n",
    "model.add(keras.layers.Flatten())\n",
    "model.add(keras.layers.Dropout(.7))\n",
    "model.add(keras.layers.Dense(20))\n",
    "model.add(keras.layers.PReLU())\n",
    "model.add(keras.layers.Dropout(.1))\n",
    "model.add(keras.layers.Dense(1, activation='sigmoid'))"
   ]
  },
  {
   "cell_type": "code",
   "execution_count": 12,
   "metadata": {},
   "outputs": [],
   "source": [
    "model.compile(loss='binary_crossentropy', \n",
    "              optimizer=keras.optimizers.Adam(lr=.003,decay=2e-4), \n",
    "              metrics=['accuracy'])"
   ]
  },
  {
   "cell_type": "code",
   "execution_count": 13,
   "metadata": {},
   "outputs": [
    {
     "name": "stdout",
     "output_type": "stream",
     "text": [
      "_________________________________________________________________\n",
      "Layer (type)                 Output Shape              Param #   \n",
      "=================================================================\n",
      "conv2d_1 (Conv2D)            (None, 16, 16, 64)        8256      \n",
      "_________________________________________________________________\n",
      "spatial_dropout2d_1 (Spatial (None, 16, 16, 64)        0         \n",
      "_________________________________________________________________\n",
      "conv2d_2 (Conv2D)            (None, 16, 16, 32)        2080      \n",
      "_________________________________________________________________\n",
      "batch_normalization_1 (Batch (None, 16, 16, 32)        128       \n",
      "_________________________________________________________________\n",
      "conv2d_3 (Conv2D)            (None, 16, 13, 12)        1548      \n",
      "_________________________________________________________________\n",
      "spatial_dropout2d_2 (Spatial (None, 16, 13, 12)        0         \n",
      "_________________________________________________________________\n",
      "conv2d_4 (Conv2D)            (None, 13, 8, 25)         7225      \n",
      "_________________________________________________________________\n",
      "batch_normalization_2 (Batch (None, 13, 8, 25)         100       \n",
      "_________________________________________________________________\n",
      "conv2d_5 (Conv2D)            (None, 13, 5, 3)          303       \n",
      "_________________________________________________________________\n",
      "flatten_1 (Flatten)          (None, 195)               0         \n",
      "_________________________________________________________________\n",
      "dropout_1 (Dropout)          (None, 195)               0         \n",
      "_________________________________________________________________\n",
      "dense_1 (Dense)              (None, 20)                3920      \n",
      "_________________________________________________________________\n",
      "p_re_lu_1 (PReLU)            (None, 20)                20        \n",
      "_________________________________________________________________\n",
      "dropout_2 (Dropout)          (None, 20)                0         \n",
      "_________________________________________________________________\n",
      "dense_2 (Dense)              (None, 1)                 21        \n",
      "=================================================================\n",
      "Total params: 23,601\n",
      "Trainable params: 23,487\n",
      "Non-trainable params: 114\n",
      "_________________________________________________________________\n"
     ]
    }
   ],
   "source": [
    "model.summary()"
   ]
  },
  {
   "cell_type": "code",
   "execution_count": 14,
   "metadata": {
    "scrolled": true
   },
   "outputs": [
    {
     "name": "stdout",
     "output_type": "stream",
     "text": [
      "WARNING:tensorflow:Variable *= will be deprecated. Use variable.assign_mul if you want assignment to the variable value or 'x = x * y' if you want a new python Tensor object.\n",
      "Epoch 1/60\n",
      "64/64 [==============================] - 2s 37ms/step - loss: 0.6319 - acc: 0.7437 - val_loss: 0.5869 - val_acc: 0.7734\n",
      "Epoch 2/60\n",
      "64/64 [==============================] - 1s 20ms/step - loss: 0.5709 - acc: 0.7764 - val_loss: 0.5552 - val_acc: 0.7671\n",
      "Epoch 3/60\n",
      "64/64 [==============================] - 1s 20ms/step - loss: 0.5699 - acc: 0.7588 - val_loss: 0.5550 - val_acc: 0.7700\n",
      "Epoch 4/60\n",
      "64/64 [==============================] - 1s 21ms/step - loss: 0.5471 - acc: 0.7603 - val_loss: 0.5553 - val_acc: 0.7686\n",
      "Epoch 5/60\n",
      "64/64 [==============================] - 1s 21ms/step - loss: 0.5273 - acc: 0.7661 - val_loss: 0.5539 - val_acc: 0.7598\n",
      "Epoch 6/60\n",
      "64/64 [==============================] - 1s 20ms/step - loss: 0.5067 - acc: 0.7598 - val_loss: 0.5168 - val_acc: 0.7729\n",
      "Epoch 7/60\n",
      "64/64 [==============================] - 1s 20ms/step - loss: 0.4761 - acc: 0.7661 - val_loss: 0.4953 - val_acc: 0.7720\n",
      "Epoch 8/60\n",
      "64/64 [==============================] - 1s 20ms/step - loss: 0.4456 - acc: 0.7632 - val_loss: 0.4848 - val_acc: 0.7578\n",
      "Epoch 9/60\n",
      "64/64 [==============================] - 1s 19ms/step - loss: 0.4388 - acc: 0.7612 - val_loss: 0.4667 - val_acc: 0.7563\n",
      "Epoch 10/60\n",
      "64/64 [==============================] - 1s 20ms/step - loss: 0.3951 - acc: 0.7856 - val_loss: 0.3788 - val_acc: 0.8047\n",
      "Epoch 11/60\n",
      "64/64 [==============================] - 1s 20ms/step - loss: 0.3706 - acc: 0.8198 - val_loss: 0.3610 - val_acc: 0.8296\n",
      "Epoch 12/60\n",
      "64/64 [==============================] - 1s 20ms/step - loss: 0.3085 - acc: 0.8594 - val_loss: 0.3280 - val_acc: 0.8447\n",
      "Epoch 13/60\n",
      "64/64 [==============================] - 1s 20ms/step - loss: 0.3022 - acc: 0.8706 - val_loss: 0.2973 - val_acc: 0.8662\n",
      "Epoch 14/60\n",
      "64/64 [==============================] - 1s 20ms/step - loss: 0.3068 - acc: 0.8716 - val_loss: 0.2962 - val_acc: 0.8530\n",
      "Epoch 15/60\n",
      "64/64 [==============================] - 1s 21ms/step - loss: 0.2516 - acc: 0.8911 - val_loss: 0.2818 - val_acc: 0.8828\n",
      "Epoch 16/60\n",
      "64/64 [==============================] - 1s 20ms/step - loss: 0.2799 - acc: 0.8823 - val_loss: 0.2785 - val_acc: 0.8882\n",
      "Epoch 17/60\n",
      "64/64 [==============================] - 1s 20ms/step - loss: 0.2505 - acc: 0.8975 - val_loss: 0.2607 - val_acc: 0.8901\n",
      "Epoch 18/60\n",
      "64/64 [==============================] - 1s 20ms/step - loss: 0.2540 - acc: 0.9004 - val_loss: 0.2753 - val_acc: 0.8975\n",
      "Epoch 19/60\n",
      "64/64 [==============================] - 1s 19ms/step - loss: 0.2516 - acc: 0.8901 - val_loss: 0.2420 - val_acc: 0.8979\n",
      "Epoch 20/60\n",
      "64/64 [==============================] - 1s 19ms/step - loss: 0.2190 - acc: 0.9160 - val_loss: 0.2824 - val_acc: 0.8901\n",
      "Epoch 21/60\n",
      "64/64 [==============================] - 1s 20ms/step - loss: 0.2406 - acc: 0.8999 - val_loss: 0.2718 - val_acc: 0.8872\n",
      "Epoch 22/60\n",
      "64/64 [==============================] - 1s 20ms/step - loss: 0.2156 - acc: 0.9155 - val_loss: 0.2569 - val_acc: 0.8921\n",
      "Epoch 23/60\n",
      "64/64 [==============================] - 1s 20ms/step - loss: 0.2103 - acc: 0.9180 - val_loss: 0.2546 - val_acc: 0.8936\n",
      "Epoch 24/60\n",
      "64/64 [==============================] - 1s 20ms/step - loss: 0.2280 - acc: 0.9092 - val_loss: 0.2426 - val_acc: 0.8984\n",
      "Epoch 25/60\n",
      "64/64 [==============================] - 1s 21ms/step - loss: 0.2101 - acc: 0.9224 - val_loss: 0.2329 - val_acc: 0.9009\n",
      "Epoch 26/60\n",
      "64/64 [==============================] - 1s 20ms/step - loss: 0.2018 - acc: 0.9253 - val_loss: 0.2369 - val_acc: 0.9043\n",
      "Epoch 27/60\n",
      "64/64 [==============================] - 1s 20ms/step - loss: 0.2166 - acc: 0.9155 - val_loss: 0.2440 - val_acc: 0.8965\n",
      "Epoch 28/60\n",
      "64/64 [==============================] - 1s 20ms/step - loss: 0.2306 - acc: 0.9106 - val_loss: 0.2221 - val_acc: 0.9058\n",
      "Epoch 29/60\n",
      "64/64 [==============================] - 1s 20ms/step - loss: 0.2015 - acc: 0.9224 - val_loss: 0.2228 - val_acc: 0.9146\n",
      "Epoch 30/60\n",
      "64/64 [==============================] - 1s 20ms/step - loss: 0.1977 - acc: 0.9150 - val_loss: 0.3319 - val_acc: 0.8657\n",
      "Epoch 31/60\n",
      "64/64 [==============================] - 1s 20ms/step - loss: 0.2067 - acc: 0.9170 - val_loss: 0.2380 - val_acc: 0.9043\n",
      "Epoch 32/60\n",
      "64/64 [==============================] - 1s 20ms/step - loss: 0.2016 - acc: 0.9219 - val_loss: 0.2449 - val_acc: 0.8994\n",
      "Epoch 33/60\n",
      "64/64 [==============================] - 1s 20ms/step - loss: 0.1913 - acc: 0.9302 - val_loss: 0.2264 - val_acc: 0.9062\n",
      "Epoch 34/60\n",
      "64/64 [==============================] - 1s 20ms/step - loss: 0.1707 - acc: 0.9321 - val_loss: 0.2099 - val_acc: 0.9170\n",
      "Epoch 35/60\n",
      "64/64 [==============================] - 1s 21ms/step - loss: 0.1987 - acc: 0.9209 - val_loss: 0.1938 - val_acc: 0.9150\n",
      "Epoch 36/60\n",
      "64/64 [==============================] - 1s 20ms/step - loss: 0.1737 - acc: 0.9321 - val_loss: 0.2214 - val_acc: 0.9146\n",
      "Epoch 37/60\n",
      "64/64 [==============================] - 1s 20ms/step - loss: 0.1944 - acc: 0.9194 - val_loss: 0.2108 - val_acc: 0.9185\n",
      "Epoch 38/60\n",
      "64/64 [==============================] - 1s 20ms/step - loss: 0.1910 - acc: 0.9287 - val_loss: 0.2291 - val_acc: 0.9043\n",
      "Epoch 39/60\n",
      "64/64 [==============================] - 1s 20ms/step - loss: 0.1898 - acc: 0.9253 - val_loss: 0.2354 - val_acc: 0.9077\n",
      "Epoch 40/60\n",
      "64/64 [==============================] - 1s 19ms/step - loss: 0.1555 - acc: 0.9399 - val_loss: 0.2073 - val_acc: 0.9121\n",
      "Epoch 41/60\n",
      "64/64 [==============================] - 1s 20ms/step - loss: 0.2037 - acc: 0.9209 - val_loss: 0.2277 - val_acc: 0.9019\n",
      "Epoch 42/60\n",
      "64/64 [==============================] - 1s 20ms/step - loss: 0.1663 - acc: 0.9341 - val_loss: 0.2036 - val_acc: 0.9268\n",
      "Epoch 43/60\n",
      "64/64 [==============================] - 1s 20ms/step - loss: 0.1597 - acc: 0.9375 - val_loss: 0.2222 - val_acc: 0.9194\n",
      "Epoch 44/60\n",
      "64/64 [==============================] - 1s 20ms/step - loss: 0.1854 - acc: 0.9253 - val_loss: 0.2307 - val_acc: 0.9106\n",
      "Epoch 45/60\n",
      "64/64 [==============================] - 1s 20ms/step - loss: 0.1905 - acc: 0.9287 - val_loss: 0.2129 - val_acc: 0.9146\n",
      "Epoch 46/60\n",
      "64/64 [==============================] - 1s 20ms/step - loss: 0.1861 - acc: 0.9277 - val_loss: 0.2316 - val_acc: 0.9136\n",
      "Epoch 47/60\n",
      "64/64 [==============================] - 1s 20ms/step - loss: 0.1701 - acc: 0.9331 - val_loss: 0.2217 - val_acc: 0.9077\n",
      "Epoch 48/60\n",
      "64/64 [==============================] - 1s 20ms/step - loss: 0.1753 - acc: 0.9355 - val_loss: 0.2377 - val_acc: 0.9087\n",
      "Epoch 49/60\n",
      "64/64 [==============================] - 1s 20ms/step - loss: 0.1617 - acc: 0.9424 - val_loss: 0.2245 - val_acc: 0.9131\n",
      "Epoch 50/60\n",
      "64/64 [==============================] - 1s 21ms/step - loss: 0.1649 - acc: 0.9351 - val_loss: 0.2031 - val_acc: 0.9209\n",
      "Epoch 51/60\n",
      "64/64 [==============================] - 1s 20ms/step - loss: 0.1886 - acc: 0.9287 - val_loss: 0.2476 - val_acc: 0.9067\n",
      "Epoch 52/60\n",
      "64/64 [==============================] - 1s 20ms/step - loss: 0.1869 - acc: 0.9248 - val_loss: 0.2056 - val_acc: 0.9224\n",
      "Epoch 53/60\n",
      "64/64 [==============================] - 1s 20ms/step - loss: 0.1715 - acc: 0.9321 - val_loss: 0.2199 - val_acc: 0.9170\n",
      "Epoch 54/60\n",
      "64/64 [==============================] - 1s 19ms/step - loss: 0.1721 - acc: 0.9351 - val_loss: 0.2529 - val_acc: 0.9062\n",
      "Epoch 55/60\n",
      "64/64 [==============================] - 1s 19ms/step - loss: 0.1656 - acc: 0.9375 - val_loss: 0.2862 - val_acc: 0.8843\n",
      "Epoch 56/60\n",
      "64/64 [==============================] - 1s 20ms/step - loss: 0.1569 - acc: 0.9409 - val_loss: 0.2027 - val_acc: 0.9263\n",
      "Epoch 57/60\n",
      "64/64 [==============================] - 1s 20ms/step - loss: 0.1764 - acc: 0.9326 - val_loss: 0.2112 - val_acc: 0.9160\n",
      "Epoch 58/60\n",
      "64/64 [==============================] - 1s 19ms/step - loss: 0.1599 - acc: 0.9385 - val_loss: 0.2156 - val_acc: 0.9136\n",
      "Epoch 59/60\n",
      "64/64 [==============================] - 1s 19ms/step - loss: 0.1985 - acc: 0.9272 - val_loss: 0.2177 - val_acc: 0.9131\n",
      "Epoch 60/60\n",
      "64/64 [==============================] - 1s 19ms/step - loss: 0.1521 - acc: 0.9443 - val_loss: 0.2164 - val_acc: 0.9194\n"
     ]
    },
    {
     "data": {
      "text/plain": [
       "<keras.callbacks.History at 0x7f7d4a81a630>"
      ]
     },
     "execution_count": 14,
     "metadata": {},
     "output_type": "execute_result"
    }
   ],
   "source": [
    "valid=valid_gen()\n",
    "train=train_gen()\n",
    "model.fit_generator(train, \n",
    "                    validation_data=valid, validation_steps=64,\n",
    "                    epochs=60, \n",
    "                    steps_per_epoch=64)"
   ]
  },
  {
   "cell_type": "code",
   "execution_count": 15,
   "metadata": {},
   "outputs": [
    {
     "name": "stdout",
     "output_type": "stream",
     "text": [
      "BloodyMerryMorning 112\n",
      "Predicted:  0.32069367    Actual:  True \n",
      "\n",
      "EternalFlame 126\n",
      "Predicted:  0.061221957    Actual:  False \n",
      "\n",
      "IThinkWereAloneNow2MP 129\n",
      "Predicted:  0.9470875    Actual:  True \n",
      "\n",
      "SmoothOperator 96\n",
      "Predicted:  1.04596424e-07    Actual:  False \n",
      "\n",
      "AHardRainsAGonnaFall 44\n",
      "Predicted:  0.0017600155    Actual:  False \n",
      "\n",
      "SmoothOperator 68\n",
      "Predicted:  2.6641322e-07    Actual:  False \n",
      "\n",
      "ChatanoogaChooChoo 235\n",
      "Predicted:  0.12721808    Actual:  False \n",
      "\n",
      "WalkThisWay1 72\n",
      "Predicted:  0.001208258    Actual:  False \n",
      "\n",
      "HoldMeTight 45\n",
      "Predicted:  0.025826462    Actual:  False \n",
      "\n",
      "IllBeThereForYou 43\n",
      "Predicted:  0.053643607    Actual:  False \n",
      "\n"
     ]
    }
   ],
   "source": [
    "for i in range(10):\n",
    "    song, tempo, compatible, clip = get_validation_case()\n",
    "    print( song, tempo )\n",
    "    c = clip_to_tf_input(resample_clip(clip))\n",
    "    x = np.expand_dims(preproc(c), axis=0)\n",
    "    p = model.predict(x)[0][0]\n",
    "    print( 'Predicted: ', p, '   Actual: ', compatible, '\\n' )"
   ]
  },
  {
   "cell_type": "code",
   "execution_count": null,
   "metadata": {},
   "outputs": [],
   "source": []
  }
 ],
 "metadata": {
  "kernelspec": {
   "display_name": "Python 3",
   "language": "python",
   "name": "python3"
  },
  "language_info": {
   "codemirror_mode": {
    "name": "ipython",
    "version": 3
   },
   "file_extension": ".py",
   "mimetype": "text/x-python",
   "name": "python",
   "nbconvert_exporter": "python",
   "pygments_lexer": "ipython3",
   "version": "3.6.6"
  }
 },
 "nbformat": 4,
 "nbformat_minor": 2
}

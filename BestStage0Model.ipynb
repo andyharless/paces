{
 "cells": [
  {
   "cell_type": "code",
   "execution_count": 1,
   "metadata": {},
   "outputs": [
    {
     "name": "stderr",
     "output_type": "stream",
     "text": [
      "/home/andy/.local/lib/python3.6/site-packages/h5py/__init__.py:36: FutureWarning: Conversion of the second argument of issubdtype from `float` to `np.floating` is deprecated. In future, it will be treated as `np.float64 == np.dtype(float).type`.\n",
      "  from ._conv import register_converters as _register_converters\n",
      "Using TensorFlow backend.\n"
     ]
    }
   ],
   "source": [
    "from get_training_data import *\n",
    "\n",
    "import tensorflow as tf\n",
    "import keras\n",
    "import pickle\n",
    "import gzip\n",
    "import os\n",
    "import random\n",
    "import matplotlib.pyplot as plt\n",
    "%matplotlib nbagg"
   ]
  },
  {
   "cell_type": "code",
   "execution_count": 2,
   "metadata": {},
   "outputs": [
    {
     "data": {
      "text/plain": [
       "(tuple, 2)"
      ]
     },
     "execution_count": 2,
     "metadata": {},
     "output_type": "execute_result"
    }
   ],
   "source": [
    "with gzip.open('train_cases.pkl.gz','rb') as fp:\n",
    "    train_cases = pickle.load(fp)\n",
    "type(train_cases), len(train_cases)"
   ]
  },
  {
   "cell_type": "code",
   "execution_count": 3,
   "metadata": {},
   "outputs": [
    {
     "data": {
      "text/plain": [
       "(numpy.ndarray,\n",
       " (16384, 16, 16, 128),\n",
       " dtype('float32'),\n",
       " numpy.ndarray,\n",
       " (16384, 1),\n",
       " dtype('float64'))"
      ]
     },
     "execution_count": 3,
     "metadata": {},
     "output_type": "execute_result"
    }
   ],
   "source": [
    "train_X = train_cases[0]\n",
    "train_y = train_cases[1]\n",
    "ntrain = train_X.shape[0]\n",
    "type(train_X), train_X.shape, train_X.dtype, type(train_y), train_y.shape, train_y.dtype"
   ]
  },
  {
   "cell_type": "code",
   "execution_count": 4,
   "metadata": {},
   "outputs": [
    {
     "data": {
      "text/plain": [
       "(numpy.ndarray,\n",
       " (4096, 16, 16, 128),\n",
       " dtype('float32'),\n",
       " numpy.ndarray,\n",
       " (4096, 1),\n",
       " dtype('float64'))"
      ]
     },
     "execution_count": 4,
     "metadata": {},
     "output_type": "execute_result"
    }
   ],
   "source": [
    "with gzip.open('valid_cases.pkl.gz','rb') as fp:\n",
    "    valid_cases = pickle.load(fp)\n",
    "valid_X = valid_cases[0]\n",
    "valid_y = valid_cases[1]\n",
    "nvalid = valid_X.shape[0]\n",
    "type(valid_X), valid_X.shape, valid_X.dtype, type(valid_y), valid_y.shape, valid_y.dtype"
   ]
  },
  {
   "cell_type": "code",
   "execution_count": 5,
   "metadata": {},
   "outputs": [],
   "source": [
    "def choose_training_case():\n",
    "    i = random.randint(0, ntrain-1)\n",
    "    return(train_X[i,:,:,:], train_y[i,:])\n",
    "\n",
    "def choose_validation_case():\n",
    "    i = random.randint(0, nvalid-1)\n",
    "    return(valid_X[i,:,:,:], valid_y[i,:])"
   ]
  },
  {
   "cell_type": "code",
   "execution_count": 6,
   "metadata": {},
   "outputs": [],
   "source": [
    "def make_batch_from_megabatch(batchsize=32, validation=False):\n",
    "    get_case = choose_validation_case if validation else choose_training_case    \n",
    "    xbatch = np.empty([0, INPUTS_PER_BEAT, NBEATS, NCHANNELS],dtype=np.float32)\n",
    "    ybatch = np.empty([0, 1])\n",
    "    for i in range(batchsize):\n",
    "        case = get_case()\n",
    "        x = np.expand_dims(case[0], axis=0)\n",
    "        xbatch = np.concatenate([xbatch, x], axis=0)\n",
    "        y = np.array(int(case[1])).reshape([1,1])\n",
    "        ybatch = np.concatenate([ybatch, y], axis=0)\n",
    "    return(xbatch, ybatch)\n",
    "\n",
    "def train_gen(batchsize=32):\n",
    "    while True:\n",
    "        yield(make_batch_from_megabatch(batchsize, validation=False))\n",
    "\n",
    "def valid_gen(batchsize=32):\n",
    "    while True:\n",
    "        yield(make_batch_from_megabatch(batchsize, validation=True))"
   ]
  },
  {
   "cell_type": "code",
   "execution_count": 7,
   "metadata": {},
   "outputs": [
    {
     "data": {
      "text/plain": [
       "((32, 16, 16, 128), (32, 1))"
      ]
     },
     "execution_count": 7,
     "metadata": {},
     "output_type": "execute_result"
    }
   ],
   "source": [
    "# The generators are way too slow: have to fix this\n",
    "for t in train_gen():\n",
    "    break\n",
    "t[0].shape, t[1].shape"
   ]
  },
  {
   "cell_type": "code",
   "execution_count": 8,
   "metadata": {},
   "outputs": [
    {
     "data": {
      "text/plain": [
       "((32, 16, 16, 128), (32, 1))"
      ]
     },
     "execution_count": 8,
     "metadata": {},
     "output_type": "execute_result"
    }
   ],
   "source": [
    "for v in valid_gen():\n",
    "    break\n",
    "v[0].shape, v[1].shape"
   ]
  },
  {
   "cell_type": "code",
   "execution_count": 9,
   "metadata": {},
   "outputs": [],
   "source": [
    "input_shape = (INPUTS_PER_BEAT, NBEATS, NCHANNELS)\n",
    "\n",
    "model = keras.Sequential()\n",
    "model.add(keras.layers.Conv2D(64, 1, activation='relu', input_shape=input_shape))\n",
    "model.add(keras.layers.BatchNormalization())\n",
    "model.add(keras.layers.Conv2D(32, 1, activation='relu'))\n",
    "model.add(keras.layers.BatchNormalization())\n",
    "model.add(keras.layers.Conv2D(16, 3, activation='relu'))\n",
    "model.add(keras.layers.BatchNormalization())\n",
    "model.add(keras.layers.Conv2D(25, 5, activation='relu'))\n",
    "model.add(keras.layers.BatchNormalization())\n",
    "model.add(keras.layers.Conv2D(5, 3, activation='relu'))\n",
    "model.add(keras.layers.Flatten())\n",
    "model.add(keras.layers.Dropout(.65))\n",
    "model.add(keras.layers.Dense(1, activation='sigmoid'))"
   ]
  },
  {
   "cell_type": "code",
   "execution_count": 10,
   "metadata": {},
   "outputs": [],
   "source": [
    "model.compile(loss='binary_crossentropy', optimizer='adam', metrics=['accuracy'])"
   ]
  },
  {
   "cell_type": "code",
   "execution_count": 11,
   "metadata": {},
   "outputs": [
    {
     "name": "stdout",
     "output_type": "stream",
     "text": [
      "_________________________________________________________________\n",
      "Layer (type)                 Output Shape              Param #   \n",
      "=================================================================\n",
      "conv2d_1 (Conv2D)            (None, 16, 16, 64)        8256      \n",
      "_________________________________________________________________\n",
      "batch_normalization_1 (Batch (None, 16, 16, 64)        256       \n",
      "_________________________________________________________________\n",
      "conv2d_2 (Conv2D)            (None, 16, 16, 32)        2080      \n",
      "_________________________________________________________________\n",
      "batch_normalization_2 (Batch (None, 16, 16, 32)        128       \n",
      "_________________________________________________________________\n",
      "conv2d_3 (Conv2D)            (None, 14, 14, 16)        4624      \n",
      "_________________________________________________________________\n",
      "batch_normalization_3 (Batch (None, 14, 14, 16)        64        \n",
      "_________________________________________________________________\n",
      "conv2d_4 (Conv2D)            (None, 10, 10, 25)        10025     \n",
      "_________________________________________________________________\n",
      "batch_normalization_4 (Batch (None, 10, 10, 25)        100       \n",
      "_________________________________________________________________\n",
      "conv2d_5 (Conv2D)            (None, 8, 8, 5)           1130      \n",
      "_________________________________________________________________\n",
      "flatten_1 (Flatten)          (None, 320)               0         \n",
      "_________________________________________________________________\n",
      "dropout_1 (Dropout)          (None, 320)               0         \n",
      "_________________________________________________________________\n",
      "dense_1 (Dense)              (None, 1)                 321       \n",
      "=================================================================\n",
      "Total params: 26,984\n",
      "Trainable params: 26,710\n",
      "Non-trainable params: 274\n",
      "_________________________________________________________________\n"
     ]
    }
   ],
   "source": [
    "model.summary()"
   ]
  },
  {
   "cell_type": "code",
   "execution_count": 12,
   "metadata": {
    "scrolled": true
   },
   "outputs": [
    {
     "name": "stdout",
     "output_type": "stream",
     "text": [
      "Epoch 1/60\n",
      "64/64 [==============================] - 2s 32ms/step - loss: 0.7428 - acc: 0.6699 - val_loss: 0.5922 - val_acc: 0.7432\n",
      "Epoch 2/60\n",
      "64/64 [==============================] - 1s 14ms/step - loss: 0.5877 - acc: 0.7378 - val_loss: 0.5634 - val_acc: 0.7539\n",
      "Epoch 3/60\n",
      "64/64 [==============================] - 1s 13ms/step - loss: 0.5899 - acc: 0.7451 - val_loss: 0.5763 - val_acc: 0.7441\n",
      "Epoch 4/60\n",
      "64/64 [==============================] - 1s 13ms/step - loss: 0.5495 - acc: 0.7705 - val_loss: 0.5472 - val_acc: 0.7627\n",
      "Epoch 5/60\n",
      "64/64 [==============================] - 1s 13ms/step - loss: 0.5585 - acc: 0.7588 - val_loss: 0.5348 - val_acc: 0.7690\n",
      "Epoch 6/60\n",
      "64/64 [==============================] - 1s 13ms/step - loss: 0.5355 - acc: 0.7632 - val_loss: 0.5120 - val_acc: 0.7803\n",
      "Epoch 7/60\n",
      "64/64 [==============================] - 1s 14ms/step - loss: 0.5289 - acc: 0.7598 - val_loss: 0.5221 - val_acc: 0.7666\n",
      "Epoch 8/60\n",
      "64/64 [==============================] - 1s 13ms/step - loss: 0.5062 - acc: 0.7739 - val_loss: 0.5627 - val_acc: 0.7563\n",
      "Epoch 9/60\n",
      "64/64 [==============================] - 1s 13ms/step - loss: 0.5259 - acc: 0.7539 - val_loss: 0.5095 - val_acc: 0.7681\n",
      "Epoch 10/60\n",
      "64/64 [==============================] - 1s 13ms/step - loss: 0.5022 - acc: 0.7539 - val_loss: 0.5202 - val_acc: 0.7549\n",
      "Epoch 11/60\n",
      "64/64 [==============================] - 1s 13ms/step - loss: 0.4806 - acc: 0.7622 - val_loss: 0.6305 - val_acc: 0.7700\n",
      "Epoch 12/60\n",
      "64/64 [==============================] - 1s 13ms/step - loss: 0.4805 - acc: 0.7690 - val_loss: 0.5153 - val_acc: 0.7417\n",
      "Epoch 13/60\n",
      "64/64 [==============================] - 1s 13ms/step - loss: 0.4457 - acc: 0.7744 - val_loss: 0.4923 - val_acc: 0.7622\n",
      "Epoch 14/60\n",
      "64/64 [==============================] - 1s 13ms/step - loss: 0.4578 - acc: 0.7710 - val_loss: 0.4806 - val_acc: 0.7681\n",
      "Epoch 15/60\n",
      "64/64 [==============================] - 1s 13ms/step - loss: 0.4225 - acc: 0.7832 - val_loss: 0.4732 - val_acc: 0.7676\n",
      "Epoch 16/60\n",
      "64/64 [==============================] - 1s 13ms/step - loss: 0.4009 - acc: 0.7837 - val_loss: 0.4661 - val_acc: 0.7671\n",
      "Epoch 17/60\n",
      "64/64 [==============================] - 1s 13ms/step - loss: 0.4400 - acc: 0.7568 - val_loss: 0.5100 - val_acc: 0.7686\n",
      "Epoch 18/60\n",
      "64/64 [==============================] - 1s 13ms/step - loss: 0.3945 - acc: 0.8008 - val_loss: 0.4540 - val_acc: 0.7764\n",
      "Epoch 19/60\n",
      "64/64 [==============================] - 1s 13ms/step - loss: 0.4005 - acc: 0.7896 - val_loss: 0.4514 - val_acc: 0.7793\n",
      "Epoch 20/60\n",
      "64/64 [==============================] - 1s 13ms/step - loss: 0.3912 - acc: 0.7930 - val_loss: 0.4416 - val_acc: 0.7783\n",
      "Epoch 21/60\n",
      "64/64 [==============================] - 1s 13ms/step - loss: 0.3720 - acc: 0.8193 - val_loss: 0.4857 - val_acc: 0.7764\n",
      "Epoch 22/60\n",
      "64/64 [==============================] - 1s 13ms/step - loss: 0.3951 - acc: 0.8086 - val_loss: 0.4626 - val_acc: 0.7739\n",
      "Epoch 23/60\n",
      "64/64 [==============================] - 1s 13ms/step - loss: 0.3854 - acc: 0.8145 - val_loss: 0.4867 - val_acc: 0.6997\n",
      "Epoch 24/60\n",
      "64/64 [==============================] - 1s 13ms/step - loss: 0.3791 - acc: 0.8169 - val_loss: 0.4885 - val_acc: 0.7598\n",
      "Epoch 25/60\n",
      "64/64 [==============================] - 1s 13ms/step - loss: 0.3728 - acc: 0.8247 - val_loss: 0.4206 - val_acc: 0.8003\n",
      "Epoch 26/60\n",
      "64/64 [==============================] - 1s 13ms/step - loss: 0.3528 - acc: 0.8320 - val_loss: 0.4157 - val_acc: 0.8027\n",
      "Epoch 27/60\n",
      "64/64 [==============================] - 1s 13ms/step - loss: 0.3683 - acc: 0.8247 - val_loss: 0.4670 - val_acc: 0.7632\n",
      "Epoch 28/60\n",
      "64/64 [==============================] - 1s 13ms/step - loss: 0.3459 - acc: 0.8428 - val_loss: 0.5521 - val_acc: 0.6919\n",
      "Epoch 29/60\n",
      "64/64 [==============================] - 1s 13ms/step - loss: 0.3359 - acc: 0.8447 - val_loss: 0.4437 - val_acc: 0.7891\n",
      "Epoch 30/60\n",
      "64/64 [==============================] - 1s 13ms/step - loss: 0.3240 - acc: 0.8599 - val_loss: 0.3992 - val_acc: 0.8174\n",
      "Epoch 31/60\n",
      "64/64 [==============================] - 1s 13ms/step - loss: 0.3187 - acc: 0.8682 - val_loss: 0.3891 - val_acc: 0.8086\n",
      "Epoch 32/60\n",
      "64/64 [==============================] - 1s 13ms/step - loss: 0.3086 - acc: 0.8555 - val_loss: 0.3809 - val_acc: 0.8105\n",
      "Epoch 33/60\n",
      "64/64 [==============================] - 1s 13ms/step - loss: 0.3018 - acc: 0.8608 - val_loss: 0.3522 - val_acc: 0.8301\n",
      "Epoch 34/60\n",
      "64/64 [==============================] - 1s 13ms/step - loss: 0.2981 - acc: 0.8745 - val_loss: 0.3560 - val_acc: 0.8330\n",
      "Epoch 35/60\n",
      "64/64 [==============================] - 1s 13ms/step - loss: 0.3054 - acc: 0.8604 - val_loss: 0.3741 - val_acc: 0.8242\n",
      "Epoch 36/60\n",
      "64/64 [==============================] - 1s 13ms/step - loss: 0.2736 - acc: 0.8887 - val_loss: 0.3553 - val_acc: 0.8521\n",
      "Epoch 37/60\n",
      "64/64 [==============================] - 1s 13ms/step - loss: 0.2599 - acc: 0.8950 - val_loss: 0.3790 - val_acc: 0.8145\n",
      "Epoch 38/60\n",
      "64/64 [==============================] - 1s 14ms/step - loss: 0.2674 - acc: 0.8833 - val_loss: 0.3722 - val_acc: 0.8237\n",
      "Epoch 39/60\n",
      "64/64 [==============================] - 1s 14ms/step - loss: 0.2780 - acc: 0.8896 - val_loss: 0.3705 - val_acc: 0.8223\n",
      "Epoch 40/60\n",
      "64/64 [==============================] - 1s 13ms/step - loss: 0.2698 - acc: 0.8887 - val_loss: 0.3208 - val_acc: 0.8491\n",
      "Epoch 41/60\n",
      "64/64 [==============================] - 1s 13ms/step - loss: 0.2626 - acc: 0.8950 - val_loss: 0.3049 - val_acc: 0.8716\n",
      "Epoch 42/60\n",
      "64/64 [==============================] - 1s 13ms/step - loss: 0.2452 - acc: 0.9106 - val_loss: 0.3186 - val_acc: 0.8550\n",
      "Epoch 43/60\n",
      "64/64 [==============================] - 1s 13ms/step - loss: 0.2451 - acc: 0.9009 - val_loss: 0.3437 - val_acc: 0.8330\n",
      "Epoch 44/60\n",
      "64/64 [==============================] - 1s 13ms/step - loss: 0.2504 - acc: 0.9019 - val_loss: 0.3311 - val_acc: 0.8428\n",
      "Epoch 45/60\n",
      "64/64 [==============================] - 1s 14ms/step - loss: 0.2437 - acc: 0.8940 - val_loss: 0.3211 - val_acc: 0.8525\n",
      "Epoch 46/60\n",
      "64/64 [==============================] - 1s 13ms/step - loss: 0.2261 - acc: 0.9175 - val_loss: 0.3151 - val_acc: 0.8721\n",
      "Epoch 47/60\n",
      "64/64 [==============================] - 1s 14ms/step - loss: 0.2423 - acc: 0.9048 - val_loss: 0.3348 - val_acc: 0.8506\n",
      "Epoch 48/60\n",
      "64/64 [==============================] - 1s 14ms/step - loss: 0.2228 - acc: 0.9146 - val_loss: 0.2819 - val_acc: 0.8828\n",
      "Epoch 49/60\n",
      "64/64 [==============================] - 1s 14ms/step - loss: 0.2064 - acc: 0.9194 - val_loss: 0.3140 - val_acc: 0.8623\n",
      "Epoch 50/60\n",
      "64/64 [==============================] - 1s 14ms/step - loss: 0.2225 - acc: 0.9111 - val_loss: 0.3586 - val_acc: 0.8442\n",
      "Epoch 51/60\n",
      "64/64 [==============================] - 1s 14ms/step - loss: 0.2036 - acc: 0.9263 - val_loss: 0.2938 - val_acc: 0.8599\n",
      "Epoch 52/60\n",
      "64/64 [==============================] - 1s 14ms/step - loss: 0.2197 - acc: 0.9194 - val_loss: 0.3080 - val_acc: 0.8516\n",
      "Epoch 53/60\n",
      "64/64 [==============================] - 1s 14ms/step - loss: 0.2149 - acc: 0.9160 - val_loss: 0.3191 - val_acc: 0.8682\n",
      "Epoch 54/60\n",
      "64/64 [==============================] - 1s 14ms/step - loss: 0.2035 - acc: 0.9268 - val_loss: 0.2642 - val_acc: 0.8784\n",
      "Epoch 55/60\n",
      "64/64 [==============================] - 1s 14ms/step - loss: 0.2209 - acc: 0.9175 - val_loss: 0.2870 - val_acc: 0.8750\n",
      "Epoch 56/60\n",
      "64/64 [==============================] - 1s 13ms/step - loss: 0.2119 - acc: 0.9180 - val_loss: 0.2945 - val_acc: 0.8652\n",
      "Epoch 57/60\n",
      "64/64 [==============================] - 1s 14ms/step - loss: 0.2253 - acc: 0.9126 - val_loss: 0.3912 - val_acc: 0.8462\n",
      "Epoch 58/60\n",
      "64/64 [==============================] - 1s 14ms/step - loss: 0.2135 - acc: 0.9199 - val_loss: 0.3096 - val_acc: 0.8618\n",
      "Epoch 59/60\n",
      "64/64 [==============================] - 1s 14ms/step - loss: 0.1909 - acc: 0.9272 - val_loss: 0.3297 - val_acc: 0.8643\n",
      "Epoch 60/60\n",
      "64/64 [==============================] - 1s 14ms/step - loss: 0.1950 - acc: 0.9287 - val_loss: 0.2876 - val_acc: 0.8799\n"
     ]
    },
    {
     "data": {
      "text/plain": [
       "<keras.callbacks.History at 0x7f1d805d50f0>"
      ]
     },
     "execution_count": 12,
     "metadata": {},
     "output_type": "execute_result"
    }
   ],
   "source": [
    "valid=valid_gen()\n",
    "train=train_gen()\n",
    "model.fit_generator(train, \n",
    "                    validation_data=valid, validation_steps=64,\n",
    "                    epochs=60, \n",
    "                    steps_per_epoch=64)"
   ]
  },
  {
   "cell_type": "code",
   "execution_count": 13,
   "metadata": {},
   "outputs": [
    {
     "name": "stdout",
     "output_type": "stream",
     "text": [
      "EternalFlame 110\n",
      "Predicted:  0.0548447    Actual:  False \n",
      "\n",
      "Kalamazoo 78\n",
      "Predicted:  0.00092274003    Actual:  False \n",
      "\n",
      "AHardRainsAGonnaFall 129\n",
      "Predicted:  0.32855883    Actual:  False \n",
      "\n",
      "53rdAnd3rdMP 91\n",
      "Predicted:  0.0034941332    Actual:  False \n",
      "\n",
      "09 Suddenly I See 101\n",
      "Predicted:  0.724451    Actual:  True \n",
      "\n",
      "InTheHillsOfShiloh 133\n",
      "Predicted:  0.59332854    Actual:  False \n",
      "\n",
      "BigJimMP 83\n",
      "Predicted:  0.76895016    Actual:  True \n",
      "\n",
      "GoodGollyMissMollyWithJerryLeeAndFats 48\n",
      "Predicted:  0.0041184747    Actual:  False \n",
      "\n",
      "BloodyMerryMorning 55\n",
      "Predicted:  0.00035264075    Actual:  True \n",
      "\n",
      "HoldMeTight 68\n",
      "Predicted:  0.6774761    Actual:  True \n",
      "\n"
     ]
    }
   ],
   "source": [
    "for i in range(10):\n",
    "    song, tempo, compatible, clip = get_validation_case()\n",
    "    print( song, tempo )\n",
    "    c = clip_to_tf_input(resample_clip(clip))\n",
    "    x = np.expand_dims(c, axis=0)\n",
    "    p = model.predict(x)[0][0]\n",
    "    print( 'Predicted: ', p, '   Actual: ', compatible, '\\n' )"
   ]
  },
  {
   "cell_type": "code",
   "execution_count": null,
   "metadata": {},
   "outputs": [],
   "source": []
  }
 ],
 "metadata": {
  "kernelspec": {
   "display_name": "Python 3",
   "language": "python",
   "name": "python3"
  },
  "language_info": {
   "codemirror_mode": {
    "name": "ipython",
    "version": 3
   },
   "file_extension": ".py",
   "mimetype": "text/x-python",
   "name": "python",
   "nbconvert_exporter": "python",
   "pygments_lexer": "ipython3",
   "version": "3.6.6"
  }
 },
 "nbformat": 4,
 "nbformat_minor": 2
}

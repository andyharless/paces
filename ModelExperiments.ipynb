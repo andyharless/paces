{
 "cells": [
  {
   "cell_type": "code",
   "execution_count": 1,
   "metadata": {},
   "outputs": [
    {
     "name": "stderr",
     "output_type": "stream",
     "text": [
      "/home/andy/.local/lib/python3.6/site-packages/h5py/__init__.py:36: FutureWarning: Conversion of the second argument of issubdtype from `float` to `np.floating` is deprecated. In future, it will be treated as `np.float64 == np.dtype(float).type`.\n",
      "  from ._conv import register_converters as _register_converters\n",
      "Using TensorFlow backend.\n"
     ]
    }
   ],
   "source": [
    "from get_training_data import *\n",
    "\n",
    "import tensorflow as tf\n",
    "import keras\n",
    "import pickle\n",
    "import gzip\n",
    "import os\n",
    "import random\n",
    "import matplotlib.pyplot as plt\n",
    "%matplotlib nbagg"
   ]
  },
  {
   "cell_type": "code",
   "execution_count": 2,
   "metadata": {},
   "outputs": [
    {
     "data": {
      "text/plain": [
       "(tuple, 2)"
      ]
     },
     "execution_count": 2,
     "metadata": {},
     "output_type": "execute_result"
    }
   ],
   "source": [
    "with gzip.open('train_cases.pkl.gz','rb') as fp:\n",
    "    train_cases = pickle.load(fp)\n",
    "type(train_cases), len(train_cases)"
   ]
  },
  {
   "cell_type": "code",
   "execution_count": 3,
   "metadata": {},
   "outputs": [
    {
     "data": {
      "text/plain": [
       "(numpy.ndarray,\n",
       " (16384, 16, 16, 128),\n",
       " dtype('float32'),\n",
       " numpy.ndarray,\n",
       " (16384, 1),\n",
       " dtype('float64'))"
      ]
     },
     "execution_count": 3,
     "metadata": {},
     "output_type": "execute_result"
    }
   ],
   "source": [
    "train_X = train_cases[0]\n",
    "train_y = train_cases[1]\n",
    "ntrain = train_X.shape[0]\n",
    "type(train_X), train_X.shape, train_X.dtype, type(train_y), train_y.shape, train_y.dtype"
   ]
  },
  {
   "cell_type": "code",
   "execution_count": 4,
   "metadata": {},
   "outputs": [
    {
     "data": {
      "text/plain": [
       "(numpy.ndarray,\n",
       " (4096, 16, 16, 128),\n",
       " dtype('float32'),\n",
       " numpy.ndarray,\n",
       " (4096, 1),\n",
       " dtype('float64'))"
      ]
     },
     "execution_count": 4,
     "metadata": {},
     "output_type": "execute_result"
    }
   ],
   "source": [
    "with gzip.open('valid_cases.pkl.gz','rb') as fp:\n",
    "    valid_cases = pickle.load(fp)\n",
    "valid_X = valid_cases[0]\n",
    "valid_y = valid_cases[1]\n",
    "nvalid = valid_X.shape[0]\n",
    "type(valid_X), valid_X.shape, valid_X.dtype, type(valid_y), valid_y.shape, valid_y.dtype"
   ]
  },
  {
   "cell_type": "code",
   "execution_count": 5,
   "metadata": {},
   "outputs": [],
   "source": [
    "def choose_training_case():\n",
    "    i = random.randint(0, ntrain-1)\n",
    "    return(train_X[i,:,:,:], train_y[i,:])\n",
    "\n",
    "def choose_validation_case():\n",
    "    i = random.randint(0, nvalid-1)\n",
    "    return(valid_X[i,:,:,:], valid_y[i,:])"
   ]
  },
  {
   "cell_type": "code",
   "execution_count": 6,
   "metadata": {},
   "outputs": [],
   "source": [
    "def make_batch_from_megabatch(batchsize=32, validation=False):\n",
    "    get_case = choose_validation_case if validation else choose_training_case    \n",
    "    xbatch = np.empty([0, INPUTS_PER_BEAT, NBEATS, NCHANNELS],dtype=np.float32)\n",
    "    ybatch = np.empty([0, 1])\n",
    "    for i in range(batchsize):\n",
    "        case = get_case()\n",
    "        x = np.expand_dims(case[0], axis=0)\n",
    "        xbatch = np.concatenate([xbatch, x], axis=0)\n",
    "        y = np.array(int(case[1])).reshape([1,1])\n",
    "        ybatch = np.concatenate([ybatch, y], axis=0)\n",
    "    return(xbatch, ybatch)\n",
    "\n",
    "def train_gen(batchsize=32):\n",
    "    while True:\n",
    "        yield(make_batch_from_megabatch(batchsize, validation=False))\n",
    "\n",
    "def valid_gen(batchsize=32):\n",
    "    while True:\n",
    "        yield(make_batch_from_megabatch(batchsize, validation=True))"
   ]
  },
  {
   "cell_type": "code",
   "execution_count": 7,
   "metadata": {},
   "outputs": [
    {
     "data": {
      "text/plain": [
       "((32, 16, 16, 128), (32, 1))"
      ]
     },
     "execution_count": 7,
     "metadata": {},
     "output_type": "execute_result"
    }
   ],
   "source": [
    "# The generators are way too slow: have to fix this\n",
    "for t in train_gen():\n",
    "    break\n",
    "t[0].shape, t[1].shape"
   ]
  },
  {
   "cell_type": "code",
   "execution_count": 8,
   "metadata": {},
   "outputs": [
    {
     "data": {
      "text/plain": [
       "((32, 16, 16, 128), (32, 1))"
      ]
     },
     "execution_count": 8,
     "metadata": {},
     "output_type": "execute_result"
    }
   ],
   "source": [
    "for v in valid_gen():\n",
    "    break\n",
    "v[0].shape, v[1].shape"
   ]
  },
  {
   "cell_type": "code",
   "execution_count": 534,
   "metadata": {},
   "outputs": [],
   "source": [
    "input_shape = (INPUTS_PER_BEAT, NBEATS, NCHANNELS)\n",
    "\n",
    "model = keras.Sequential()\n",
    "model.add(keras.layers.Conv2D(64, 1, input_shape=input_shape))\n",
    "model.add(keras.layers.LeakyReLU(0.2))\n",
    "model.add(keras.layers.BatchNormalization())\n",
    "#model.add(keras.layers.PReLU())\n",
    "model.add(keras.layers.Conv2D(32, 1))\n",
    "model.add(keras.layers.LeakyReLU(0.2))\n",
    "model.add(keras.layers.BatchNormalization())\n",
    "#model.add(keras.layers.PReLU())\n",
    "#model.add(keras.layers.Conv2D(16, 1, activation='relu'))\n",
    "#model.add(keras.layers.BatchNormalization())\n",
    "model.add(keras.layers.Conv2D(16, 3))\n",
    "model.add(keras.layers.LeakyReLU(0.0))\n",
    "model.add(keras.layers.BatchNormalization())\n",
    "#model.add(keras.layers.PReLU())\n",
    "model.add(keras.layers.Conv2D(8, 5))\n",
    "model.add(keras.layers.LeakyReLU(0.0))\n",
    "model.add(keras.layers.BatchNormalization())\n",
    "#model.add(keras.layers.PReLU())\n",
    "model.add(keras.layers.Conv2D(4, 3))\n",
    "model.add(keras.layers.LeakyReLU(0.0))\n",
    "#model.add(keras.layers.PReLU())\n",
    "#model.add(keras.layers.BatchNormalization())\n",
    "#model.add(keras.layers.Conv2D(2, 3))\n",
    "#model.add(keras.layers.LeakyReLU(0))\n",
    "#model.add(keras.layers.MaxPooling2D(2))\n",
    "model.add(keras.layers.Flatten())\n",
    "#model.add(keras.layers.Dropout(.4))\n",
    "#model.add(keras.layers.Dense(16, activation='relu'))\n",
    "#model.add(keras.layers.GaussianDropout(.5))\n",
    "model.add(keras.layers.Dropout(.5))\n",
    "model.add(keras.layers.Dense(1, activation='sigmoid'))"
   ]
  },
  {
   "cell_type": "code",
   "execution_count": 535,
   "metadata": {},
   "outputs": [],
   "source": [
    "model.compile(loss='binary_crossentropy', optimizer='adam', metrics=['accuracy'])"
   ]
  },
  {
   "cell_type": "code",
   "execution_count": 536,
   "metadata": {},
   "outputs": [
    {
     "name": "stdout",
     "output_type": "stream",
     "text": [
      "_________________________________________________________________\n",
      "Layer (type)                 Output Shape              Param #   \n",
      "=================================================================\n",
      "conv2d_557 (Conv2D)          (None, 16, 16, 64)        8256      \n",
      "_________________________________________________________________\n",
      "leaky_re_lu_361 (LeakyReLU)  (None, 16, 16, 64)        0         \n",
      "_________________________________________________________________\n",
      "batch_normalization_451 (Bat (None, 16, 16, 64)        256       \n",
      "_________________________________________________________________\n",
      "conv2d_558 (Conv2D)          (None, 16, 16, 32)        2080      \n",
      "_________________________________________________________________\n",
      "leaky_re_lu_362 (LeakyReLU)  (None, 16, 16, 32)        0         \n",
      "_________________________________________________________________\n",
      "batch_normalization_452 (Bat (None, 16, 16, 32)        128       \n",
      "_________________________________________________________________\n",
      "conv2d_559 (Conv2D)          (None, 14, 14, 16)        4624      \n",
      "_________________________________________________________________\n",
      "leaky_re_lu_363 (LeakyReLU)  (None, 14, 14, 16)        0         \n",
      "_________________________________________________________________\n",
      "batch_normalization_453 (Bat (None, 14, 14, 16)        64        \n",
      "_________________________________________________________________\n",
      "conv2d_560 (Conv2D)          (None, 10, 10, 8)         3208      \n",
      "_________________________________________________________________\n",
      "leaky_re_lu_364 (LeakyReLU)  (None, 10, 10, 8)         0         \n",
      "_________________________________________________________________\n",
      "batch_normalization_454 (Bat (None, 10, 10, 8)         32        \n",
      "_________________________________________________________________\n",
      "conv2d_561 (Conv2D)          (None, 8, 8, 4)           292       \n",
      "_________________________________________________________________\n",
      "leaky_re_lu_365 (LeakyReLU)  (None, 8, 8, 4)           0         \n",
      "_________________________________________________________________\n",
      "flatten_107 (Flatten)        (None, 256)               0         \n",
      "_________________________________________________________________\n",
      "dropout_105 (Dropout)        (None, 256)               0         \n",
      "_________________________________________________________________\n",
      "dense_109 (Dense)            (None, 1)                 257       \n",
      "=================================================================\n",
      "Total params: 19,197\n",
      "Trainable params: 18,957\n",
      "Non-trainable params: 240\n",
      "_________________________________________________________________\n"
     ]
    }
   ],
   "source": [
    "model.summary()"
   ]
  },
  {
   "cell_type": "code",
   "execution_count": 537,
   "metadata": {
    "scrolled": true
   },
   "outputs": [
    {
     "name": "stdout",
     "output_type": "stream",
     "text": [
      "Epoch 1/60\n",
      "64/64 [==============================] - 15s 228ms/step - loss: 0.6653 - acc: 0.6724 - val_loss: 0.5885 - val_acc: 0.7622\n",
      "Epoch 2/60\n",
      "64/64 [==============================] - 1s 23ms/step - loss: 0.5881 - acc: 0.7534 - val_loss: 0.5738 - val_acc: 0.7715\n",
      "Epoch 3/60\n",
      "64/64 [==============================] - 1s 23ms/step - loss: 0.5568 - acc: 0.7627 - val_loss: 0.5674 - val_acc: 0.7573\n",
      "Epoch 4/60\n",
      "64/64 [==============================] - 1s 23ms/step - loss: 0.5481 - acc: 0.7646 - val_loss: 0.5587 - val_acc: 0.7500\n",
      "Epoch 5/60\n",
      "64/64 [==============================] - 1s 23ms/step - loss: 0.5455 - acc: 0.7617 - val_loss: 0.5274 - val_acc: 0.7656\n",
      "Epoch 6/60\n",
      "64/64 [==============================] - 1s 23ms/step - loss: 0.5233 - acc: 0.7769 - val_loss: 0.5387 - val_acc: 0.7642\n",
      "Epoch 7/60\n",
      "64/64 [==============================] - 1s 23ms/step - loss: 0.5130 - acc: 0.7725 - val_loss: 0.5285 - val_acc: 0.7559\n",
      "Epoch 8/60\n",
      "64/64 [==============================] - 1s 23ms/step - loss: 0.4783 - acc: 0.7935 - val_loss: 0.5430 - val_acc: 0.7588\n",
      "Epoch 9/60\n",
      "64/64 [==============================] - 1s 23ms/step - loss: 0.5172 - acc: 0.7607 - val_loss: 0.5547 - val_acc: 0.7529\n",
      "Epoch 10/60\n",
      "64/64 [==============================] - 1s 23ms/step - loss: 0.4948 - acc: 0.7808 - val_loss: 0.5400 - val_acc: 0.7656\n",
      "Epoch 11/60\n",
      "64/64 [==============================] - 1s 23ms/step - loss: 0.4827 - acc: 0.7788 - val_loss: 0.5382 - val_acc: 0.7534\n",
      "Epoch 12/60\n",
      "64/64 [==============================] - 1s 23ms/step - loss: 0.4801 - acc: 0.7681 - val_loss: 0.5848 - val_acc: 0.7695\n",
      "Epoch 13/60\n",
      "64/64 [==============================] - 1s 23ms/step - loss: 0.4820 - acc: 0.7715 - val_loss: 0.5223 - val_acc: 0.7559\n",
      "Epoch 14/60\n",
      "64/64 [==============================] - 1s 23ms/step - loss: 0.4637 - acc: 0.7788 - val_loss: 0.5514 - val_acc: 0.7769\n",
      "Epoch 15/60\n",
      "64/64 [==============================] - 1s 23ms/step - loss: 0.4616 - acc: 0.7744 - val_loss: 0.5031 - val_acc: 0.7559\n",
      "Epoch 16/60\n",
      "64/64 [==============================] - 1s 23ms/step - loss: 0.4501 - acc: 0.7661 - val_loss: 0.5541 - val_acc: 0.7578\n",
      "Epoch 17/60\n",
      "64/64 [==============================] - 1s 23ms/step - loss: 0.4479 - acc: 0.7705 - val_loss: 0.5162 - val_acc: 0.7510\n",
      "Epoch 18/60\n",
      "64/64 [==============================] - 1s 23ms/step - loss: 0.4266 - acc: 0.7852 - val_loss: 0.4773 - val_acc: 0.7617\n",
      "Epoch 19/60\n",
      "64/64 [==============================] - 1s 23ms/step - loss: 0.4119 - acc: 0.7915 - val_loss: 0.4976 - val_acc: 0.7754\n",
      "Epoch 20/60\n",
      "64/64 [==============================] - 1s 23ms/step - loss: 0.4202 - acc: 0.7817 - val_loss: 0.5029 - val_acc: 0.7598\n",
      "Epoch 21/60\n",
      "64/64 [==============================] - 1s 23ms/step - loss: 0.4239 - acc: 0.7793 - val_loss: 0.5194 - val_acc: 0.7495\n",
      "Epoch 22/60\n",
      "64/64 [==============================] - 1s 23ms/step - loss: 0.4077 - acc: 0.7856 - val_loss: 0.4619 - val_acc: 0.7847\n",
      "Epoch 23/60\n",
      "64/64 [==============================] - 1s 23ms/step - loss: 0.4146 - acc: 0.7954 - val_loss: 0.5363 - val_acc: 0.7671\n",
      "Epoch 24/60\n",
      "64/64 [==============================] - 1s 23ms/step - loss: 0.4000 - acc: 0.8066 - val_loss: 0.4600 - val_acc: 0.7812\n",
      "Epoch 25/60\n",
      "64/64 [==============================] - 1s 23ms/step - loss: 0.4073 - acc: 0.8003 - val_loss: 0.4718 - val_acc: 0.7729\n",
      "Epoch 26/60\n",
      "64/64 [==============================] - 1s 23ms/step - loss: 0.4164 - acc: 0.7954 - val_loss: 0.5450 - val_acc: 0.7686\n",
      "Epoch 27/60\n",
      "64/64 [==============================] - 1s 23ms/step - loss: 0.4046 - acc: 0.7881 - val_loss: 0.4925 - val_acc: 0.7676\n",
      "Epoch 28/60\n",
      "64/64 [==============================] - 1s 23ms/step - loss: 0.3745 - acc: 0.8311 - val_loss: 0.4750 - val_acc: 0.7607\n",
      "Epoch 29/60\n",
      "64/64 [==============================] - 1s 23ms/step - loss: 0.4094 - acc: 0.7949 - val_loss: 0.4760 - val_acc: 0.7520\n",
      "Epoch 30/60\n",
      "64/64 [==============================] - 1s 23ms/step - loss: 0.3897 - acc: 0.8062 - val_loss: 0.4519 - val_acc: 0.7725\n",
      "Epoch 31/60\n",
      "64/64 [==============================] - 1s 23ms/step - loss: 0.3671 - acc: 0.8154 - val_loss: 0.4460 - val_acc: 0.7603\n",
      "Epoch 32/60\n",
      "64/64 [==============================] - 1s 23ms/step - loss: 0.3695 - acc: 0.8135 - val_loss: 0.5042 - val_acc: 0.6841\n",
      "Epoch 33/60\n",
      "64/64 [==============================] - 1s 23ms/step - loss: 0.3628 - acc: 0.8271 - val_loss: 0.4653 - val_acc: 0.7603\n",
      "Epoch 34/60\n",
      "64/64 [==============================] - 1s 23ms/step - loss: 0.3575 - acc: 0.8237 - val_loss: 0.4280 - val_acc: 0.8062\n",
      "Epoch 35/60\n",
      "64/64 [==============================] - 1s 23ms/step - loss: 0.3423 - acc: 0.8311 - val_loss: 0.4391 - val_acc: 0.7964\n",
      "Epoch 36/60\n",
      "64/64 [==============================] - 1s 23ms/step - loss: 0.3504 - acc: 0.8442 - val_loss: 0.4041 - val_acc: 0.8032\n",
      "Epoch 37/60\n",
      "64/64 [==============================] - 1s 23ms/step - loss: 0.3346 - acc: 0.8501 - val_loss: 0.5870 - val_acc: 0.8062\n",
      "Epoch 38/60\n",
      "64/64 [==============================] - 1s 23ms/step - loss: 0.3283 - acc: 0.8491 - val_loss: 0.5015 - val_acc: 0.6880\n",
      "Epoch 39/60\n",
      "64/64 [==============================] - 1s 23ms/step - loss: 0.3481 - acc: 0.8467 - val_loss: 0.4434 - val_acc: 0.7651\n",
      "Epoch 40/60\n",
      "64/64 [==============================] - 1s 23ms/step - loss: 0.3271 - acc: 0.8530 - val_loss: 0.3950 - val_acc: 0.8076\n",
      "Epoch 41/60\n",
      "64/64 [==============================] - 1s 23ms/step - loss: 0.3178 - acc: 0.8560 - val_loss: 0.4495 - val_acc: 0.7427\n",
      "Epoch 42/60\n",
      "64/64 [==============================] - 1s 23ms/step - loss: 0.3346 - acc: 0.8354 - val_loss: 0.5995 - val_acc: 0.6182\n",
      "Epoch 43/60\n",
      "64/64 [==============================] - 1s 23ms/step - loss: 0.3286 - acc: 0.8511 - val_loss: 0.4336 - val_acc: 0.8076\n",
      "Epoch 44/60\n",
      "64/64 [==============================] - 1s 23ms/step - loss: 0.3016 - acc: 0.8745 - val_loss: 0.3926 - val_acc: 0.8208\n",
      "Epoch 45/60\n",
      "64/64 [==============================] - 1s 23ms/step - loss: 0.2920 - acc: 0.8672 - val_loss: 0.4330 - val_acc: 0.7910\n",
      "Epoch 46/60\n",
      "64/64 [==============================] - 1s 23ms/step - loss: 0.2811 - acc: 0.8784 - val_loss: 0.3985 - val_acc: 0.7998\n",
      "Epoch 47/60\n",
      "64/64 [==============================] - 1s 23ms/step - loss: 0.2726 - acc: 0.8867 - val_loss: 0.4054 - val_acc: 0.7783\n",
      "Epoch 48/60\n",
      "64/64 [==============================] - 1s 23ms/step - loss: 0.3069 - acc: 0.8696 - val_loss: 0.4113 - val_acc: 0.8037\n",
      "Epoch 49/60\n",
      "64/64 [==============================] - 1s 23ms/step - loss: 0.2835 - acc: 0.8735 - val_loss: 0.3919 - val_acc: 0.8062\n",
      "Epoch 50/60\n",
      "64/64 [==============================] - 1s 23ms/step - loss: 0.2850 - acc: 0.8745 - val_loss: 0.3833 - val_acc: 0.8047\n",
      "Epoch 51/60\n",
      "64/64 [==============================] - 1s 23ms/step - loss: 0.2548 - acc: 0.9028 - val_loss: 0.3708 - val_acc: 0.8218\n",
      "Epoch 52/60\n",
      "64/64 [==============================] - 1s 23ms/step - loss: 0.2641 - acc: 0.8901 - val_loss: 0.4453 - val_acc: 0.8115\n",
      "Epoch 53/60\n",
      "64/64 [==============================] - 1s 23ms/step - loss: 0.2318 - acc: 0.9131 - val_loss: 0.4255 - val_acc: 0.7598\n",
      "Epoch 54/60\n",
      "64/64 [==============================] - 1s 23ms/step - loss: 0.2626 - acc: 0.8862 - val_loss: 0.4020 - val_acc: 0.8149\n",
      "Epoch 55/60\n",
      "64/64 [==============================] - 1s 23ms/step - loss: 0.2357 - acc: 0.9077 - val_loss: 0.3776 - val_acc: 0.8296\n",
      "Epoch 56/60\n",
      "64/64 [==============================] - 1s 23ms/step - loss: 0.2661 - acc: 0.8955 - val_loss: 0.3427 - val_acc: 0.8516\n",
      "Epoch 57/60\n",
      "64/64 [==============================] - 1s 23ms/step - loss: 0.2569 - acc: 0.8921 - val_loss: 0.5425 - val_acc: 0.6372\n",
      "Epoch 58/60\n",
      "64/64 [==============================] - 1s 23ms/step - loss: 0.2492 - acc: 0.8970 - val_loss: 0.3454 - val_acc: 0.8374\n",
      "Epoch 59/60\n",
      "64/64 [==============================] - 1s 23ms/step - loss: 0.2360 - acc: 0.9028 - val_loss: 0.3277 - val_acc: 0.8535\n",
      "Epoch 60/60\n",
      "64/64 [==============================] - 1s 23ms/step - loss: 0.2265 - acc: 0.9185 - val_loss: 0.3569 - val_acc: 0.8389\n"
     ]
    },
    {
     "data": {
      "text/plain": [
       "<keras.callbacks.History at 0x7fbb7e1008d0>"
      ]
     },
     "execution_count": 537,
     "metadata": {},
     "output_type": "execute_result"
    }
   ],
   "source": [
    "valid=valid_gen()\n",
    "train=train_gen()\n",
    "model.fit_generator(train, \n",
    "                    validation_data=valid, validation_steps=64,\n",
    "                    epochs=60, \n",
    "                    steps_per_epoch=64)"
   ]
  },
  {
   "cell_type": "code",
   "execution_count": 538,
   "metadata": {},
   "outputs": [
    {
     "name": "stdout",
     "output_type": "stream",
     "text": [
      "ChatanoogaChooChoo 123\n",
      "Predicted:  0.0018594408    Actual:  False \n",
      "\n",
      "BigJimMP 54\n",
      "Predicted:  0.5219991    Actual:  False \n",
      "\n",
      "EternalFlame 123\n",
      "Predicted:  0.13918093    Actual:  False \n",
      "\n",
      "BigJimMP 45\n",
      "Predicted:  7.9061865e-05    Actual:  False \n",
      "\n",
      "GoodGollyMissMollyWithJerryLeeAndFats 55\n",
      "Predicted:  0.033120293    Actual:  False \n",
      "\n",
      "BigJimMP 246\n",
      "Predicted:  2.1529986e-10    Actual:  False \n",
      "\n",
      "IThinkWereAloneNow2MP 44\n",
      "Predicted:  2.809149e-06    Actual:  False \n",
      "\n",
      "FugueForTinhorns2 41\n",
      "Predicted:  0.37526393    Actual:  False \n",
      "\n",
      "IThinkWereAloneNow2MP 133\n",
      "Predicted:  0.724471    Actual:  True \n",
      "\n",
      "HoldMeTight 108\n",
      "Predicted:  0.21096328    Actual:  False \n",
      "\n"
     ]
    }
   ],
   "source": [
    "for i in range(10):\n",
    "    song, tempo, compatible, clip = get_validation_case()\n",
    "    print( song, tempo )\n",
    "    c = clip_to_tf_input(resample_clip(clip))\n",
    "    x = np.expand_dims(c, axis=0)\n",
    "    p = model.predict(x)[0][0]\n",
    "    print( 'Predicted: ', p, '   Actual: ', compatible, '\\n' )"
   ]
  },
  {
   "cell_type": "markdown",
   "metadata": {},
   "source": [
    "<code>\n",
    "with ,5 baseline:\n",
    "activate after b/n -> 3054, 3095, 3618\n",
    "leaky .1 -> 3149\n",
    "prelu -> 3080, 3609\n",
    "prelu d/o=.6 -> 3734\n",
    "1-1-3-5-3-1 -> 2801, 3374, 3578\n",
    "gaussian d/o -> 2911, 3217, 2953, **3097**, 3095, 3376, **3212**, 3427\n",
    "1-1-3-5-5 -> 3215, 3180\n",
    "leaky .2 on bottom 2 layers -> 2725, 3098, 2977, 3094, 2863, 3073, 3206, 3320, 3036, \n",
    "                             **3077**, 3217 SOMETIMES d/o=.6\n",
    "leaky .2 on bottom 2 layers -> 3189, 2989, 3454    \n",
    "leaky .4 on bottom 2 layers -> 3248\n",
    "leaky .2/.1 on bottom layers -> 2839, 2832, **3135**, 2908, 3350, 3075, 3161, 3342, 3247\n",
    "    \n",
    "used .6 baseline\n",
    "leaky .05 -> 3122, 3245\n",
    "</code>"
   ]
  },
  {
   "cell_type": "markdown",
   "metadata": {},
   "source": [
    "<code>\n",
    "1-1-5-5-5 -> 3107, 3481 (median of last 5)\n",
    "1-1-3-5-3 -> 3052, 3053, 2858, 3295, 3636, 2974, 3057, 2834, 3045, 3742, 3182, \n",
    "             3559, 3112, **3104**, 3148, 4013, 3305, 3015\n",
    "1-1-3-5-3-1 -> 3064, 3129, 3062, 3237\n",
    "1-1-3-5-3-1 d/o=.4 -> 2820, 3224, 3211\n",
    "1-1-3-5-3 d/o=.45 -> 3215\n",
    "1-1-3-5-3 d/o=.7 -> 3408\n",
    "1-1-3-5-3-5 -> 3625\n",
    "*1-1-3-5-3 d/o=.5 -> 3021, 3100, 2908, 3027, 2970, 3188, 3044, 3055, 3021, 3143, 3278, \n",
    "                     3378, 3213, **3058**, 2873, 2788, 3144, 2777, 3248, 2975, 3244, \n",
    "                     3219, 3570,  * \n",
    "1-1-3-5-3-3 d/o=.5 -> 3151, 3149, 3533\n",
    "1-1-3-5-3 add maxpool d/o=.5 -> 3193\n",
    "1-1-3-5-3 add maxpool d/o=.65 -> 4213\n",
    "1-1-1-3-5-3 d/o=.5 -> 3204\n",
    "</code>"
   ]
  },
  {
   "cell_type": "code",
   "execution_count": null,
   "metadata": {},
   "outputs": [],
   "source": []
  },
  {
   "cell_type": "code",
   "execution_count": null,
   "metadata": {},
   "outputs": [],
   "source": []
  }
 ],
 "metadata": {
  "kernelspec": {
   "display_name": "Python 3",
   "language": "python",
   "name": "python3"
  },
  "language_info": {
   "codemirror_mode": {
    "name": "ipython",
    "version": 3
   },
   "file_extension": ".py",
   "mimetype": "text/x-python",
   "name": "python",
   "nbconvert_exporter": "python",
   "pygments_lexer": "ipython3",
   "version": "3.6.6"
  }
 },
 "nbformat": 4,
 "nbformat_minor": 2
}

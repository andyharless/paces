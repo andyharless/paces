{
 "cells": [
  {
   "cell_type": "code",
   "execution_count": 1,
   "metadata": {},
   "outputs": [
    {
     "name": "stderr",
     "output_type": "stream",
     "text": [
      "/home/andy/.local/lib/python3.6/site-packages/h5py/__init__.py:36: FutureWarning: Conversion of the second argument of issubdtype from `float` to `np.floating` is deprecated. In future, it will be treated as `np.float64 == np.dtype(float).type`.\n",
      "  from ._conv import register_converters as _register_converters\n",
      "Using TensorFlow backend.\n"
     ]
    }
   ],
   "source": [
    "from get_training_data import *\n",
    "\n",
    "import tensorflow as tf\n",
    "import keras\n",
    "import pickle\n",
    "import gzip\n",
    "import os\n",
    "import random\n",
    "import matplotlib.pyplot as plt\n",
    "%matplotlib nbagg"
   ]
  },
  {
   "cell_type": "code",
   "execution_count": 2,
   "metadata": {},
   "outputs": [
    {
     "data": {
      "text/plain": [
       "(tuple, 2)"
      ]
     },
     "execution_count": 2,
     "metadata": {},
     "output_type": "execute_result"
    }
   ],
   "source": [
    "with gzip.open('train_cases.pkl.gz','rb') as fp:\n",
    "    train_cases = pickle.load(fp)\n",
    "type(train_cases), len(train_cases)"
   ]
  },
  {
   "cell_type": "code",
   "execution_count": 3,
   "metadata": {},
   "outputs": [
    {
     "data": {
      "text/plain": [
       "(numpy.ndarray,\n",
       " (16384, 16, 16, 128),\n",
       " dtype('float32'),\n",
       " numpy.ndarray,\n",
       " (16384, 1),\n",
       " dtype('float64'))"
      ]
     },
     "execution_count": 3,
     "metadata": {},
     "output_type": "execute_result"
    }
   ],
   "source": [
    "train_X = train_cases[0]\n",
    "train_y = train_cases[1]\n",
    "ntrain = train_X.shape[0]\n",
    "type(train_X), train_X.shape, train_X.dtype, type(train_y), train_y.shape, train_y.dtype"
   ]
  },
  {
   "cell_type": "code",
   "execution_count": 4,
   "metadata": {},
   "outputs": [
    {
     "data": {
      "text/plain": [
       "(numpy.ndarray,\n",
       " (4096, 16, 16, 128),\n",
       " dtype('float32'),\n",
       " numpy.ndarray,\n",
       " (4096, 1),\n",
       " dtype('float64'))"
      ]
     },
     "execution_count": 4,
     "metadata": {},
     "output_type": "execute_result"
    }
   ],
   "source": [
    "with gzip.open('valid_cases.pkl.gz','rb') as fp:\n",
    "    valid_cases = pickle.load(fp)\n",
    "valid_X = valid_cases[0]\n",
    "valid_y = valid_cases[1]\n",
    "nvalid = valid_X.shape[0]\n",
    "type(valid_X), valid_X.shape, valid_X.dtype, type(valid_y), valid_y.shape, valid_y.dtype"
   ]
  },
  {
   "cell_type": "code",
   "execution_count": 5,
   "metadata": {},
   "outputs": [],
   "source": [
    "def choose_training_case():\n",
    "    i = random.randint(0, ntrain-1)\n",
    "    return(train_X[i,:,:,:], train_y[i,:])\n",
    "\n",
    "def choose_validation_case():\n",
    "    i = random.randint(0, nvalid-1)\n",
    "    return(valid_X[i,:,:,:], valid_y[i,:])"
   ]
  },
  {
   "cell_type": "code",
   "execution_count": 6,
   "metadata": {},
   "outputs": [],
   "source": [
    "def make_batch_from_megabatch(batchsize=32, validation=False):\n",
    "    get_case = choose_validation_case if validation else choose_training_case    \n",
    "    xbatch = np.empty([0, INPUTS_PER_BEAT, NBEATS, NCHANNELS],dtype=np.float32)\n",
    "    ybatch = np.empty([0, 1])\n",
    "    for i in range(batchsize):\n",
    "        case = get_case()\n",
    "        x = np.expand_dims(case[0], axis=0)\n",
    "        xbatch = np.concatenate([xbatch, x], axis=0)\n",
    "        y = np.array(int(case[1])).reshape([1,1])\n",
    "        ybatch = np.concatenate([ybatch, y], axis=0)\n",
    "    return(xbatch, ybatch)\n",
    "\n",
    "def train_gen(batchsize=32):\n",
    "    while True:\n",
    "        yield(make_batch_from_megabatch(batchsize, validation=False))\n",
    "\n",
    "def valid_gen(batchsize=32):\n",
    "    while True:\n",
    "        yield(make_batch_from_megabatch(batchsize, validation=True))"
   ]
  },
  {
   "cell_type": "code",
   "execution_count": 7,
   "metadata": {},
   "outputs": [
    {
     "data": {
      "text/plain": [
       "((32, 16, 16, 128), (32, 1))"
      ]
     },
     "execution_count": 7,
     "metadata": {},
     "output_type": "execute_result"
    }
   ],
   "source": [
    "# The generators are way too slow: have to fix this\n",
    "for t in train_gen():\n",
    "    break\n",
    "t[0].shape, t[1].shape"
   ]
  },
  {
   "cell_type": "code",
   "execution_count": 8,
   "metadata": {},
   "outputs": [
    {
     "data": {
      "text/plain": [
       "((32, 16, 16, 128), (32, 1))"
      ]
     },
     "execution_count": 8,
     "metadata": {},
     "output_type": "execute_result"
    }
   ],
   "source": [
    "for v in valid_gen():\n",
    "    break\n",
    "v[0].shape, v[1].shape"
   ]
  },
  {
   "cell_type": "code",
   "execution_count": 34,
   "metadata": {},
   "outputs": [],
   "source": [
    "input_shape = (INPUTS_PER_BEAT, NBEATS, NCHANNELS)\n",
    "\n",
    "model = keras.Sequential()\n",
    "model.add(keras.layers.Conv2D(64, 1, activation='relu', input_shape=input_shape))\n",
    "model.add(keras.layers.BatchNormalization())\n",
    "model.add(keras.layers.Conv2D(32, 3, activation='relu'))\n",
    "model.add(keras.layers.BatchNormalization())\n",
    "model.add(keras.layers.Conv2D(16, 5, activation='relu'))\n",
    "model.add(keras.layers.BatchNormalization())\n",
    "model.add(keras.layers.Conv2D(8, 7, activation='relu'))\n",
    "model.add(keras.layers.BatchNormalization())\n",
    "model.add(keras.layers.Flatten())\n",
    "model.add(keras.layers.BatchNormalization())\n",
    "model.add(keras.layers.Dropout(.3))\n",
    "model.add(keras.layers.Dense(8, activation='relu'))\n",
    "model.add(keras.layers.Dropout(.5))\n",
    "model.add(keras.layers.Dense(1, activation='sigmoid'))"
   ]
  },
  {
   "cell_type": "code",
   "execution_count": 35,
   "metadata": {},
   "outputs": [],
   "source": [
    "model.compile(loss='binary_crossentropy', optimizer='adam', metrics=['accuracy'])"
   ]
  },
  {
   "cell_type": "code",
   "execution_count": 36,
   "metadata": {},
   "outputs": [
    {
     "name": "stdout",
     "output_type": "stream",
     "text": [
      "_________________________________________________________________\n",
      "Layer (type)                 Output Shape              Param #   \n",
      "=================================================================\n",
      "conv2d_17 (Conv2D)           (None, 16, 16, 64)        8256      \n",
      "_________________________________________________________________\n",
      "batch_normalization_9 (Batch (None, 16, 16, 64)        256       \n",
      "_________________________________________________________________\n",
      "conv2d_18 (Conv2D)           (None, 14, 14, 32)        18464     \n",
      "_________________________________________________________________\n",
      "batch_normalization_10 (Batc (None, 14, 14, 32)        128       \n",
      "_________________________________________________________________\n",
      "conv2d_19 (Conv2D)           (None, 10, 10, 16)        12816     \n",
      "_________________________________________________________________\n",
      "batch_normalization_11 (Batc (None, 10, 10, 16)        64        \n",
      "_________________________________________________________________\n",
      "conv2d_20 (Conv2D)           (None, 4, 4, 8)           6280      \n",
      "_________________________________________________________________\n",
      "batch_normalization_12 (Batc (None, 4, 4, 8)           32        \n",
      "_________________________________________________________________\n",
      "flatten_5 (Flatten)          (None, 128)               0         \n",
      "_________________________________________________________________\n",
      "batch_normalization_13 (Batc (None, 128)               512       \n",
      "_________________________________________________________________\n",
      "dropout_7 (Dropout)          (None, 128)               0         \n",
      "_________________________________________________________________\n",
      "dense_9 (Dense)              (None, 8)                 1032      \n",
      "_________________________________________________________________\n",
      "dropout_8 (Dropout)          (None, 8)                 0         \n",
      "_________________________________________________________________\n",
      "dense_10 (Dense)             (None, 1)                 9         \n",
      "=================================================================\n",
      "Total params: 47,849\n",
      "Trainable params: 47,353\n",
      "Non-trainable params: 496\n",
      "_________________________________________________________________\n"
     ]
    }
   ],
   "source": [
    "model.summary()"
   ]
  },
  {
   "cell_type": "code",
   "execution_count": 37,
   "metadata": {
    "scrolled": true
   },
   "outputs": [
    {
     "name": "stdout",
     "output_type": "stream",
     "text": [
      "Epoch 1/40\n",
      "64/64 [==============================] - 2s 30ms/step - loss: 0.8402 - acc: 0.5820 - val_loss: 0.6207 - val_acc: 0.7065\n",
      "Epoch 2/40\n",
      "64/64 [==============================] - 1s 14ms/step - loss: 0.6346 - acc: 0.7002 - val_loss: 0.6429 - val_acc: 0.7476\n",
      "Epoch 3/40\n",
      "64/64 [==============================] - 1s 14ms/step - loss: 0.6268 - acc: 0.7339 - val_loss: 0.6025 - val_acc: 0.7500\n",
      "Epoch 4/40\n",
      "64/64 [==============================] - 1s 14ms/step - loss: 0.6077 - acc: 0.7407 - val_loss: 0.5895 - val_acc: 0.7510\n",
      "Epoch 5/40\n",
      "64/64 [==============================] - 1s 15ms/step - loss: 0.5971 - acc: 0.7559 - val_loss: 0.5688 - val_acc: 0.7637\n",
      "Epoch 6/40\n",
      "64/64 [==============================] - 1s 14ms/step - loss: 0.6010 - acc: 0.7568 - val_loss: 0.5687 - val_acc: 0.7671\n",
      "Epoch 7/40\n",
      "64/64 [==============================] - 1s 15ms/step - loss: 0.5882 - acc: 0.7554 - val_loss: 0.5643 - val_acc: 0.7646\n",
      "Epoch 8/40\n",
      "64/64 [==============================] - 1s 14ms/step - loss: 0.5535 - acc: 0.7803 - val_loss: 0.5808 - val_acc: 0.7495\n",
      "Epoch 9/40\n",
      "64/64 [==============================] - 1s 15ms/step - loss: 0.5701 - acc: 0.7690 - val_loss: 0.5610 - val_acc: 0.7676\n",
      "Epoch 10/40\n",
      "64/64 [==============================] - 1s 14ms/step - loss: 0.5604 - acc: 0.7715 - val_loss: 0.5676 - val_acc: 0.7534\n",
      "Epoch 11/40\n",
      "64/64 [==============================] - 1s 14ms/step - loss: 0.5407 - acc: 0.7861 - val_loss: 0.5340 - val_acc: 0.7788\n",
      "Epoch 12/40\n",
      "64/64 [==============================] - 1s 15ms/step - loss: 0.5237 - acc: 0.7827 - val_loss: 0.5658 - val_acc: 0.7480\n",
      "Epoch 13/40\n",
      "64/64 [==============================] - 1s 15ms/step - loss: 0.5441 - acc: 0.7593 - val_loss: 0.5441 - val_acc: 0.7690\n",
      "Epoch 14/40\n",
      "64/64 [==============================] - 1s 14ms/step - loss: 0.5292 - acc: 0.7778 - val_loss: 0.5572 - val_acc: 0.7612\n",
      "Epoch 15/40\n",
      "64/64 [==============================] - 1s 14ms/step - loss: 0.5183 - acc: 0.7622 - val_loss: 0.5500 - val_acc: 0.7490\n",
      "Epoch 16/40\n",
      "64/64 [==============================] - 1s 14ms/step - loss: 0.4932 - acc: 0.7788 - val_loss: 0.5686 - val_acc: 0.7378\n",
      "Epoch 17/40\n",
      "64/64 [==============================] - 1s 14ms/step - loss: 0.4939 - acc: 0.7769 - val_loss: 0.5013 - val_acc: 0.7798\n",
      "Epoch 18/40\n",
      "64/64 [==============================] - 1s 15ms/step - loss: 0.4971 - acc: 0.7729 - val_loss: 0.4894 - val_acc: 0.7827\n",
      "Epoch 19/40\n",
      "64/64 [==============================] - 1s 14ms/step - loss: 0.4793 - acc: 0.7812 - val_loss: 0.5145 - val_acc: 0.7720\n",
      "Epoch 20/40\n",
      "64/64 [==============================] - 1s 14ms/step - loss: 0.4591 - acc: 0.8018 - val_loss: 0.5047 - val_acc: 0.7915\n",
      "Epoch 21/40\n",
      "64/64 [==============================] - 1s 14ms/step - loss: 0.4529 - acc: 0.7954 - val_loss: 0.4930 - val_acc: 0.7817\n",
      "Epoch 22/40\n",
      "64/64 [==============================] - 1s 14ms/step - loss: 0.4526 - acc: 0.7954 - val_loss: 0.4581 - val_acc: 0.8008\n",
      "Epoch 23/40\n",
      "64/64 [==============================] - 1s 14ms/step - loss: 0.4277 - acc: 0.8066 - val_loss: 0.4966 - val_acc: 0.7896\n",
      "Epoch 24/40\n",
      "64/64 [==============================] - 1s 14ms/step - loss: 0.4034 - acc: 0.8184 - val_loss: 0.5525 - val_acc: 0.7876\n",
      "Epoch 25/40\n",
      "64/64 [==============================] - 1s 14ms/step - loss: 0.4212 - acc: 0.8179 - val_loss: 0.4741 - val_acc: 0.8032\n",
      "Epoch 26/40\n",
      "64/64 [==============================] - 1s 14ms/step - loss: 0.4101 - acc: 0.8213 - val_loss: 0.4774 - val_acc: 0.8101\n",
      "Epoch 27/40\n",
      "64/64 [==============================] - 1s 14ms/step - loss: 0.4000 - acc: 0.8301 - val_loss: 0.4646 - val_acc: 0.7905\n",
      "Epoch 28/40\n",
      "64/64 [==============================] - 1s 14ms/step - loss: 0.3804 - acc: 0.8374 - val_loss: 0.4631 - val_acc: 0.7944\n",
      "Epoch 29/40\n",
      "64/64 [==============================] - 1s 14ms/step - loss: 0.4149 - acc: 0.8223 - val_loss: 0.4499 - val_acc: 0.7822\n",
      "Epoch 30/40\n",
      "64/64 [==============================] - 1s 14ms/step - loss: 0.3852 - acc: 0.8276 - val_loss: 0.5388 - val_acc: 0.7822\n",
      "Epoch 31/40\n",
      "64/64 [==============================] - 1s 14ms/step - loss: 0.3869 - acc: 0.8242 - val_loss: 0.5059 - val_acc: 0.7930\n",
      "Epoch 32/40\n",
      "64/64 [==============================] - 1s 15ms/step - loss: 0.3944 - acc: 0.8354 - val_loss: 0.4758 - val_acc: 0.8013\n",
      "Epoch 33/40\n",
      "64/64 [==============================] - 1s 15ms/step - loss: 0.3778 - acc: 0.8364 - val_loss: 0.4978 - val_acc: 0.7739\n",
      "Epoch 34/40\n",
      "64/64 [==============================] - 1s 15ms/step - loss: 0.3725 - acc: 0.8447 - val_loss: 0.4785 - val_acc: 0.8042\n",
      "Epoch 35/40\n",
      "64/64 [==============================] - 1s 14ms/step - loss: 0.3703 - acc: 0.8364 - val_loss: 0.4714 - val_acc: 0.8003\n",
      "Epoch 36/40\n",
      "64/64 [==============================] - 1s 14ms/step - loss: 0.3774 - acc: 0.8281 - val_loss: 0.4888 - val_acc: 0.7925\n",
      "Epoch 37/40\n",
      "64/64 [==============================] - 1s 14ms/step - loss: 0.3365 - acc: 0.8628 - val_loss: 0.4570 - val_acc: 0.8032\n",
      "Epoch 38/40\n",
      "64/64 [==============================] - 1s 14ms/step - loss: 0.3545 - acc: 0.8516 - val_loss: 0.3505 - val_acc: 0.8535\n",
      "Epoch 39/40\n",
      "64/64 [==============================] - 1s 14ms/step - loss: 0.3574 - acc: 0.8530 - val_loss: 0.4144 - val_acc: 0.8149\n",
      "Epoch 40/40\n",
      "64/64 [==============================] - 1s 15ms/step - loss: 0.3655 - acc: 0.8433 - val_loss: 0.4513 - val_acc: 0.7974\n"
     ]
    },
    {
     "data": {
      "text/plain": [
       "<keras.callbacks.History at 0x7fdf2aea9898>"
      ]
     },
     "execution_count": 37,
     "metadata": {},
     "output_type": "execute_result"
    }
   ],
   "source": [
    "valid=valid_gen()\n",
    "train=train_gen()\n",
    "model.fit_generator(train, \n",
    "                    validation_data=valid, validation_steps=64,\n",
    "                    epochs=40, \n",
    "                    steps_per_epoch=64)"
   ]
  },
  {
   "cell_type": "code",
   "execution_count": 38,
   "metadata": {},
   "outputs": [
    {
     "name": "stdout",
     "output_type": "stream",
     "text": [
      "Kalamazoo 65\n",
      "Predicted:  0.43960142    Actual:  True \n",
      "\n",
      "HangingOnTheTelephone 61\n",
      "Predicted:  0.014644527    Actual:  False \n",
      "\n",
      "BloodyMerryMorning 43\n",
      "Predicted:  0.31619284    Actual:  False \n",
      "\n",
      "IThinkWereAloneNow2MP 129\n",
      "Predicted:  0.56190586    Actual:  True \n",
      "\n",
      "FugueForTinhorns2 41\n",
      "Predicted:  0.32449898    Actual:  False \n",
      "\n",
      "HoldMeTight 91\n",
      "Predicted:  0.071494624    Actual:  False \n",
      "\n",
      "53rdAnd3rdMP 287\n",
      "Predicted:  0.28115976    Actual:  False \n",
      "\n",
      "HoldMeTight 136\n",
      "Predicted:  0.5258412    Actual:  True \n",
      "\n",
      "TheBollWeevil 115\n",
      "Predicted:  0.25462615    Actual:  False \n",
      "\n",
      "GoodGollyMissMollyWithJerryLeeAndFats 108\n",
      "Predicted:  0.021275472    Actual:  False \n",
      "\n"
     ]
    }
   ],
   "source": [
    "for i in range(10):\n",
    "    song, tempo, compatible, clip = get_validation_case()\n",
    "    print( song, tempo )\n",
    "    c = clip_to_tf_input(resample_clip(clip))\n",
    "    x = np.expand_dims(c, axis=0)\n",
    "    p = model.predict(x)[0][0]\n",
    "    print( 'Predicted: ', p, '   Actual: ', compatible, '\\n' )"
   ]
  },
  {
   "cell_type": "code",
   "execution_count": null,
   "metadata": {},
   "outputs": [],
   "source": []
  }
 ],
 "metadata": {
  "kernelspec": {
   "display_name": "Python 3",
   "language": "python",
   "name": "python3"
  },
  "language_info": {
   "codemirror_mode": {
    "name": "ipython",
    "version": 3
   },
   "file_extension": ".py",
   "mimetype": "text/x-python",
   "name": "python",
   "nbconvert_exporter": "python",
   "pygments_lexer": "ipython3",
   "version": "3.6.6"
  }
 },
 "nbformat": 4,
 "nbformat_minor": 2
}
